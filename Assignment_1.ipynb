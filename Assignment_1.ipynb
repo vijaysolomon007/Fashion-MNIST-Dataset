{
  "cells": [
    {
      "cell_type": "markdown",
      "metadata": {
        "id": "view-in-github",
        "colab_type": "text"
      },
      "source": [
        "<a href=\"https://colab.research.google.com/github/Ruheena-S/cs6910_assignment1/blob/main/Assignment_1.ipynb\" target=\"_parent\"><img src=\"https://colab.research.google.com/assets/colab-badge.svg\" alt=\"Open In Colab\"/></a>"
      ]
    },
    {
      "cell_type": "code",
      "execution_count": null,
      "metadata": {
        "id": "ZuHPK1ZYd2rd",
        "colab": {
          "base_uri": "https://localhost:8080/",
          "height": 872
        },
        "outputId": "fc079667-3b90-4304-df3c-c6d9b7a61fc0"
      },
      "outputs": [
        {
          "output_type": "stream",
          "name": "stdout",
          "text": [
            "Collecting wandb\n",
            "  Downloading wandb-0.12.10-py2.py3-none-any.whl (1.7 MB)\n",
            "\u001b[K     |████████████████████████████████| 1.7 MB 4.8 MB/s \n",
            "\u001b[?25hRequirement already satisfied: python-dateutil>=2.6.1 in /usr/local/lib/python3.7/dist-packages (from wandb) (2.8.2)\n",
            "Collecting docker-pycreds>=0.4.0\n",
            "  Downloading docker_pycreds-0.4.0-py2.py3-none-any.whl (9.0 kB)\n",
            "Collecting sentry-sdk>=1.0.0\n",
            "  Downloading sentry_sdk-1.5.6-py2.py3-none-any.whl (144 kB)\n",
            "\u001b[K     |████████████████████████████████| 144 kB 38.6 MB/s \n",
            "\u001b[?25hCollecting GitPython>=1.0.0\n",
            "  Downloading GitPython-3.1.27-py3-none-any.whl (181 kB)\n",
            "\u001b[K     |████████████████████████████████| 181 kB 49.4 MB/s \n",
            "\u001b[?25hRequirement already satisfied: six>=1.13.0 in /usr/local/lib/python3.7/dist-packages (from wandb) (1.15.0)\n",
            "Requirement already satisfied: promise<3,>=2.0 in /usr/local/lib/python3.7/dist-packages (from wandb) (2.3)\n",
            "Requirement already satisfied: psutil>=5.0.0 in /usr/local/lib/python3.7/dist-packages (from wandb) (5.4.8)\n",
            "Requirement already satisfied: protobuf>=3.12.0 in /usr/local/lib/python3.7/dist-packages (from wandb) (3.17.3)\n",
            "Requirement already satisfied: PyYAML in /usr/local/lib/python3.7/dist-packages (from wandb) (3.13)\n",
            "Collecting shortuuid>=0.5.0\n",
            "  Downloading shortuuid-1.0.8-py3-none-any.whl (9.5 kB)\n",
            "Collecting yaspin>=1.0.0\n",
            "  Downloading yaspin-2.1.0-py3-none-any.whl (18 kB)\n",
            "Requirement already satisfied: Click!=8.0.0,>=7.0 in /usr/local/lib/python3.7/dist-packages (from wandb) (7.1.2)\n",
            "Requirement already satisfied: requests<3,>=2.0.0 in /usr/local/lib/python3.7/dist-packages (from wandb) (2.23.0)\n",
            "Collecting pathtools\n",
            "  Downloading pathtools-0.1.2.tar.gz (11 kB)\n",
            "Requirement already satisfied: typing-extensions>=3.7.4.3 in /usr/local/lib/python3.7/dist-packages (from GitPython>=1.0.0->wandb) (3.10.0.2)\n",
            "Collecting gitdb<5,>=4.0.1\n",
            "  Downloading gitdb-4.0.9-py3-none-any.whl (63 kB)\n",
            "\u001b[K     |████████████████████████████████| 63 kB 1.1 MB/s \n",
            "\u001b[?25hCollecting smmap<6,>=3.0.1\n",
            "  Downloading smmap-5.0.0-py3-none-any.whl (24 kB)\n",
            "Requirement already satisfied: certifi>=2017.4.17 in /usr/local/lib/python3.7/dist-packages (from requests<3,>=2.0.0->wandb) (2021.10.8)\n",
            "Requirement already satisfied: urllib3!=1.25.0,!=1.25.1,<1.26,>=1.21.1 in /usr/local/lib/python3.7/dist-packages (from requests<3,>=2.0.0->wandb) (1.24.3)\n",
            "Requirement already satisfied: chardet<4,>=3.0.2 in /usr/local/lib/python3.7/dist-packages (from requests<3,>=2.0.0->wandb) (3.0.4)\n",
            "Requirement already satisfied: idna<3,>=2.5 in /usr/local/lib/python3.7/dist-packages (from requests<3,>=2.0.0->wandb) (2.10)\n",
            "Requirement already satisfied: termcolor<2.0.0,>=1.1.0 in /usr/local/lib/python3.7/dist-packages (from yaspin>=1.0.0->wandb) (1.1.0)\n",
            "Building wheels for collected packages: pathtools\n",
            "  Building wheel for pathtools (setup.py) ... \u001b[?25l\u001b[?25hdone\n",
            "  Created wheel for pathtools: filename=pathtools-0.1.2-py3-none-any.whl size=8806 sha256=43d741bbe768fbc0de24987ff60c0a7a703e231e0ec80067424a865252efc1c3\n",
            "  Stored in directory: /root/.cache/pip/wheels/3e/31/09/fa59cef12cdcfecc627b3d24273699f390e71828921b2cbba2\n",
            "Successfully built pathtools\n",
            "Installing collected packages: smmap, gitdb, yaspin, shortuuid, sentry-sdk, pathtools, GitPython, docker-pycreds, wandb\n",
            "Successfully installed GitPython-3.1.27 docker-pycreds-0.4.0 gitdb-4.0.9 pathtools-0.1.2 sentry-sdk-1.5.6 shortuuid-1.0.8 smmap-5.0.0 wandb-0.12.10 yaspin-2.1.0\n"
          ]
        },
        {
          "output_type": "display_data",
          "data": {
            "application/javascript": [
              "\n",
              "        window._wandbApiKey = new Promise((resolve, reject) => {\n",
              "            function loadScript(url) {\n",
              "            return new Promise(function(resolve, reject) {\n",
              "                let newScript = document.createElement(\"script\");\n",
              "                newScript.onerror = reject;\n",
              "                newScript.onload = resolve;\n",
              "                document.body.appendChild(newScript);\n",
              "                newScript.src = url;\n",
              "            });\n",
              "            }\n",
              "            loadScript(\"https://cdn.jsdelivr.net/npm/postmate/build/postmate.min.js\").then(() => {\n",
              "            const iframe = document.createElement('iframe')\n",
              "            iframe.style.cssText = \"width:0;height:0;border:none\"\n",
              "            document.body.appendChild(iframe)\n",
              "            const handshake = new Postmate({\n",
              "                container: iframe,\n",
              "                url: 'https://wandb.ai/authorize'\n",
              "            });\n",
              "            const timeout = setTimeout(() => reject(\"Couldn't auto authenticate\"), 5000)\n",
              "            handshake.then(function(child) {\n",
              "                child.on('authorize', data => {\n",
              "                    clearTimeout(timeout)\n",
              "                    resolve(data)\n",
              "                });\n",
              "            });\n",
              "            })\n",
              "        });\n",
              "    "
            ],
            "text/plain": [
              "<IPython.core.display.Javascript object>"
            ]
          },
          "metadata": {}
        },
        {
          "output_type": "stream",
          "name": "stderr",
          "text": [
            "\u001b[34m\u001b[1mwandb\u001b[0m: You can find your API key in your browser here: https://wandb.ai/authorize\n"
          ]
        },
        {
          "name": "stdout",
          "output_type": "stream",
          "text": [
            "wandb: Paste an API key from your profile and hit enter, or press ctrl+c to quit: ··········\n"
          ]
        },
        {
          "output_type": "stream",
          "name": "stderr",
          "text": [
            "\u001b[34m\u001b[1mwandb\u001b[0m: Appending key for api.wandb.ai to your netrc file: /root/.netrc\n"
          ]
        },
        {
          "output_type": "display_data",
          "data": {
            "text/html": [
              "\n",
              "                    Syncing run <strong><a href=\"https://wandb.ai/cs21m053-cs21m071/Assignment%201/runs/3srdy603\" target=\"_blank\">swift-sky-241</a></strong> to <a href=\"https://wandb.ai/cs21m053-cs21m071/Assignment%201\" target=\"_blank\">Weights & Biases</a> (<a href=\"https://docs.wandb.com/integrations/jupyter.html\" target=\"_blank\">docs</a>).<br/>\n",
              "\n",
              "                "
            ],
            "text/plain": [
              "<IPython.core.display.HTML object>"
            ]
          },
          "metadata": {}
        },
        {
          "output_type": "execute_result",
          "data": {
            "text/plain": [
              "<wandb.sdk.wandb_run.Run at 0x7ff9fc299910>"
            ],
            "text/html": [
              "<button onClick=\"this.nextSibling.style.display='block';this.style.display='none';\">Display W&B run</button><iframe src=\"https://wandb.ai/cs21m053-cs21m071/Assignment%201/runs/3srdy603?jupyter=true\" style=\"border:none;width:100%;height:420px;display:none;\"></iframe>"
            ]
          },
          "metadata": {},
          "execution_count": 2
        }
      ],
      "source": [
        "#Initialising Wandb\n",
        "\n",
        "!pip install wandb\n",
        "import wandb\n",
        "from wandb.keras import WandbCallback\n",
        "wandb.init(project='Assignment 1', entity='cs21m053-cs21m071')\n"
      ]
    },
    {
      "cell_type": "code",
      "source": [
        "#Importing other required modules\n",
        "\n",
        "from keras.datasets import fashion_mnist\n",
        "import numpy as np"
      ],
      "metadata": {
        "id": "0KPF5mTVaJc0"
      },
      "execution_count": null,
      "outputs": []
    },
    {
      "cell_type": "code",
      "execution_count": null,
      "metadata": {
        "id": "KE8WoMZneYJ5"
      },
      "outputs": [],
      "source": [
        "#Load data into Train and test dataset\n",
        "\n",
        "((x_train,y_train),(x_test,y_test)) = fashion_mnist.load_data()      "
      ]
    },
    {
      "cell_type": "code",
      "source": [
        "#displaying one image from each set\n",
        "\n",
        "imgs=[]\n",
        "classes = ['T-shirt/top', 'Trouser', 'Pullover', 'Dress', 'Coat','Sandal', 'Shirt', 'Sneaker', 'Bag', 'Ankle boot']\n",
        "for i in range(0,len(set(y_train))):\n",
        "  class_label=list(y_train).index(i)     #first appearance of each class label\n",
        "  imgs.append(wandb.Image(x_train[class_label],caption = classes[i]))\n",
        "          \n",
        "wandb.log({\"examples\": imgs})  #logs images to the wandb panel"
      ],
      "metadata": {
        "id": "JhffObwwaiZc"
      },
      "execution_count": null,
      "outputs": []
    },
    {
      "cell_type": "code",
      "execution_count": null,
      "metadata": {
        "id": "6nSTdDThfBOm"
      },
      "outputs": [],
      "source": [
        "\"\"\"\n",
        "A class to create an object of one layer along with parameters to specifiy:\n",
        "  input dimensions,\n",
        "  number of nodes,\n",
        "  activation function,\n",
        "  optimizer algorithm,\n",
        "  weight initialisation type\n",
        "\"\"\"\n",
        "class Layer:\n",
        "    \n",
        "    def __init__(self, inputDimension, noOfNodes, activation='',optimizer='standard',wtype = 'random'):\n",
        "\n",
        "        # Optimization Alogorithm for gradient Descent\n",
        "        if optimizer == 'standard':\n",
        "            self.optimizer = self.standard\n",
        "        elif optimizer == 'momentumGD':\n",
        "            self.optimizer = self.momentumGD\n",
        "        elif optimizer == 'rmsprop':\n",
        "            self.optimizer = self.rmsprop \n",
        "        elif optimizer == 'adam':\n",
        "            self.optimizer = self.adam\n",
        "        elif optimizer == 'sgd':\n",
        "            self.optimizer = self.sgd\n",
        "        elif optimizer == 'nadam':\n",
        "            self.optimizer = self.nadam\n",
        "        elif optimizer == 'nesterov':\n",
        "            self.optimizer = self.nesterov\n",
        "\n",
        "\n",
        "        # Activation Function for each layer\n",
        "        if activation == 'sigmoid':\n",
        "            self.activation = activation\n",
        "            self.activationForward = self.sigmoid\n",
        "            self.activationBackward = self.sigmoidGrad\n",
        "        elif activation == 'relu':\n",
        "            self.activation = activation\n",
        "            self.activationForward = self.relu\n",
        "            self.activationBackward = self.relugrad\n",
        "\n",
        "        elif activation == 'tanh':\n",
        "            self.activation = activation\n",
        "            self.activationForward = self.tanh\n",
        "            self.activationBackward = self.tanhgrad\n",
        "\n",
        "        else:\n",
        "            self.activation = 'softmax'\n",
        "            self.activationForward = self.softmax\n",
        "            self.activationBackward = self.softmaxGrad\n",
        "\n",
        "\n",
        "        #Initialsing weights and Momentum weights and velocity weights for optimization Algorithms\n",
        "\n",
        "        self.weights, self.bias = self.initialize(inputDimension, noOfNodes,activation,wtype = wtype)\n",
        "        self.prevMW, self.prevMb = np.zeros([noOfNodes,inputDimension]),np.zeros([noOfNodes, 1])\n",
        "        self.prevVW, self.prevVb = np.zeros([noOfNodes,inputDimension]),np.zeros([noOfNodes, 1])\n",
        "        self.opt = optimizer\n",
        "\n",
        "        \n",
        "    \n",
        "    # Initialize the layer with some random weights and bias\n",
        "    def initialize(self, noOfInputFeatures, noOfNodes,activation,wtype):\n",
        "        np.random.seed(1)\n",
        "\n",
        "        #random Initalisation using Normal Distribution\n",
        "        if wtype == 'random':                                        \n",
        "          weights = np.random.normal(0.0,0.5,size=(noOfNodes, noOfInputFeatures))\n",
        "          bias = np.ones([noOfNodes, 1])\n",
        "        \n",
        "        #Xavier Initalisation\n",
        "        else:\n",
        "           weights = np.random.uniform(-(1/np.sqrt(noOfNodes)), (1/np.sqrt(noOfNodes)), size=(noOfNodes, noOfInputFeatures))\n",
        "           bias = np.ones([noOfNodes, 1])\n",
        "        return weights, bias\n",
        "\n",
        "    # Sigmoid activation function\n",
        "    def sigmoid(self, Z):\n",
        "        A = 1 / (1 + np.exp(-Z))\n",
        "        return A\n",
        "\n",
        "    # derivative of sigmoid function with chain rule applied\n",
        "    def sigmoidGrad(self, dA):\n",
        "        s = 1 / (1 + np.exp(-self.prevZ))\n",
        "        dZ = dA * s * (1 - s)\n",
        "        return dZ\n",
        "\n",
        "    #Tanh Activation Function\n",
        "    def tanh(self,Z):\n",
        "        return np.tanh(Z)\n",
        "\n",
        "    # derivative of Tanh function with chain rule applied\n",
        "    def tanhgrad(self,dA):\n",
        "        s = self.tanh(self.prevZ)\n",
        "        return dA*(1-(s**2))\n",
        "\n",
        "    #Relu Activation function\n",
        "    def relu(self,Z):\n",
        "        A = np.maximum(0,Z)\n",
        "        return A\n",
        "\n",
        "    # derivative of ReLu function with chain rule applied\n",
        "    def relugrad(self,dA):\n",
        "        s = np.maximum(0,self.prevZ)\n",
        "        t = 1. * dA * (s>0) \n",
        "        return t\n",
        "\n",
        "   \n",
        "\n",
        "    #SoftMax Activation Function\n",
        "    def softmax(self,Z):\n",
        "      expZ = np.exp(Z - np.max(Z))\n",
        "      A = expZ / expZ.sum(axis=0, keepdims=True)\n",
        "      return A\n",
        "\n",
        "    \n",
        "    #Output Layer Gradient\n",
        "    def softmaxGrad(self,dA):\n",
        "      return dA\n",
        "\n",
        "    \n",
        "    #Predicting class labels for test or validation data (diiferent from forward because forward stores previous layer inputs)\n",
        "    def predict(self,A):\n",
        "        Z = np.dot(self.weights,A) +self.bias\n",
        "        A = self.activationForward(Z)\n",
        "        return A\n",
        "\n",
        "    # Take's the input vector A and does the forward pass using weights and bias\n",
        "    def forward(self, A):\n",
        "\n",
        "      if self.opt != 'nesterov':\n",
        "        Z = np.dot(self.weights,A) +self.bias\n",
        "      else:\n",
        "        Z = np.dot(self.weights-0.9*self.prevVW, A) + (self.bias-0.9*self.prevVb)\n",
        "      self.prevZ = Z\n",
        "      self.prevA = A\n",
        "      A = self.activationForward(Z)\n",
        "      return A\n",
        "\n",
        "      \n",
        "    \n",
        "    # Take's the input vector derivative of A (dA) and does the backward pass\n",
        "    def backward(self, dA):\n",
        "        dZ = self.activationBackward(dA)\n",
        "        m = self.prevA.shape[1]\n",
        "        self.dW = 1 / m * np.dot(dZ, self.prevA.T) \n",
        "        self.db = 1 / m * np.sum(dZ, axis=1, keepdims=True)\n",
        "        prevdA = np.dot(self.weights.T, dA)\n",
        "        return prevdA\n",
        "\n",
        "    \n",
        "    # Update's the weights and bias with the passed learning_rate\n",
        "    def standard(self, learning_rate,l2_lambda =0,batch_size =32,t=0):\n",
        "        self.weights = self.weights - learning_rate * self.dW-learning_rate*(l2_lambda/batch_size)*self.weights\n",
        "        self.bias = self.bias - learning_rate * self.db-(l2_lambda/batch_size )*self.bias\n",
        "    \n",
        "    #Momentum Based Gradient Descent Algorithm\n",
        "    def momentumGD(self, learning_rate,t,l2_lambda=0,batch_size =32, moving_rate=0.9):\n",
        "        self.prevMW = moving_rate * self.prevMW + learning_rate * self.dW+(l2_lambda/batch_size)*self.weights\n",
        "        self.prevMb = moving_rate * self.prevMb + learning_rate * self.db+(l2_lambda/batch_size)*self.bias\n",
        "        self.weights = self.weights - self.prevMW\n",
        "        self.bias = self.bias - self.prevMb\n",
        "        \n",
        "    #RMSprop Algorithm for gradient descent\n",
        "    def rmsprop(self, learning_rate,t,l2_lambda=0,batch_size =32, moving_rate = 0.9):\n",
        "        self.prevVW = moving_rate * self.prevVW + (1-moving_rate) * (self.dW**2)\n",
        "        self.prevVb = moving_rate * self.prevVb + (1-moving_rate) * (self.db**2)\n",
        "        for i in self.prevVW:\n",
        "          i[i<0] = 1e-9\n",
        "        self.prevVb[self.prevVb<0] = 1e-9 \n",
        "        self.weights = self.weights - (learning_rate/np.sqrt(self.prevVW+(1e-8))) * self.dW\n",
        "        self.bias = self.bias - (learning_rate/np.sqrt(self.prevVb+(1e-8))) * self.db\n",
        "    \n",
        "    #SGD algorithm for updating weights \n",
        "    def sgd(self, dA,learning_rate = 0.001,t = 0,l2_lambda=0,batch_size = 32):\n",
        "        dZ = self.activationBackward(dA)\n",
        "        prevdA = np.dot(self.weights.T, dZ)\n",
        "        m = self.prevA.shape[1]\n",
        "        for i in range(m):\n",
        "          self.dW = 1 / m * np.dot(dZ[:,i:i+1], self.prevA[:,i:i+1].T)   #arr[:,2]\n",
        "          self.db = 1 / m * (dZ[:,i:i+1])\n",
        "          self.weights = self.weights - (learning_rate * self.dW)-learning_rate*(l2_lambda/batch_size)*self.weights\n",
        "          self.bias = self.bias - (learning_rate * self.db)-(l2_lambda/batch_size )*self.bias\n",
        "        \n",
        "        return prevdA\n",
        "\n",
        "    #Nesterov Algorithm for Updating weights \n",
        "    def nesterov(self,learning_rate,moving_rate = 0.9,l2_lambda =0,batch_size =32,t = 0):\n",
        "        \n",
        "        self.prevVW = moving_rate * self.prevVW + learning_rate * self.dW\n",
        "        self.weights = self.weights - self.prevVW\n",
        "\n",
        "        self.bl = self.bias - moving_rate * self.prevVb\n",
        "        self.prevVb = moving_rate * self.prevVb\n",
        "\n",
        "    #Adam Algorithm for Updating weights\n",
        "    def adam(self,learning_rate , beta1 = 0.9, beta2 = 0.999,l2_lambda =0,batch_size =32,t=0):\n",
        "        self.prevMW = beta1 * self.prevMW + (1-beta1)*self.dW\n",
        "        self.prevMb = beta1 * self.prevMb + (1-beta1)*self.db\n",
        "\n",
        "        self.prevVW = beta2 * self.prevVW + (1-beta2)*np.square(self.dW)\n",
        "        self.prevVb = beta2 * self.prevVb + (1-beta2)*np.square(self.db)\n",
        "\n",
        "        self.prevMWHat = self.prevMW/(1-beta1)\n",
        "        self.prevMbHat = self.prevMb/(1-beta1)\n",
        "\n",
        "        self.prevVWHat = self.prevVW/(1-beta2)\n",
        "        self.prevVbHat = self.prevVb/(1-beta2)\n",
        "\n",
        "        self.weights = self.weights - learning_rate * np.divide(self.prevMWHat,np.sqrt(self.prevVWHat+(1e-8)))\n",
        "        self.bias = self.bias - learning_rate * np.divide(self.prevMbHat,np.sqrt(self.prevVbHat+(1e-8)))\n",
        "\n",
        "    \n",
        "    #Nadam Algorithm for Updating weights    \n",
        "    def nadam(self,learning_rate ,t, beta1 = 0.9, beta2 = 0.999,l2_lambda =0,batch_size =32):\n",
        "        self.prevMW = beta1 * self.prevMW + (1-beta1)*self.dW\n",
        "        self.prevMb = beta1 * self.prevMb + (1-beta1)*self.db\n",
        "\n",
        "        self.prevVW = beta2 * self.prevVW + (1-beta2)*np.square(self.dW)\n",
        "        self.prevVb = beta2 * self.prevVb + (1-beta2)*np.square(self.db)\n",
        "\n",
        "        self.prevMWHat = (beta1 * self.prevMW / (1-beta1)) + self.dW\n",
        "        self.prevMbHat = (beta1 * self.prevMb / (1-beta1)) + self.db\n",
        "\n",
        "        self.prevVWHat = (beta2 * self.prevVW) / (1-beta2)\n",
        "        self.prevVbHat = (beta2 * self.prevVb) / (1-beta2)\n",
        "\n",
        "        self.weights = self.weights - learning_rate * np.divide(self.prevMWHat,np.sqrt(self.prevVWHat+(1e-8)))\n",
        "        self.bias = self.bias - learning_rate * np.divide(self.prevMbHat,np.sqrt(self.prevVbHat+(1e-8)))\n",
        "        \n",
        "\n",
        "#This is the code for updating each layer. now to simulate each layer we define another class called as NeuralNetworkv"
      ]
    },
    {
      "cell_type": "code",
      "execution_count": null,
      "metadata": {
        "id": "7WCA0ktbfHrZ"
      },
      "outputs": [],
      "source": [
        "\"\"\"\n",
        "Neural Network which consists of all layers and some helper functions\n",
        "\"\"\"\n",
        "\n",
        "class NeuralNetwork:\n",
        "    \n",
        "    def __init__(self, layers_size,epochs=5,learning_rate=0.001, l2_lambda = 0,optimizer = 'standard', activation = 'sigmoid',wtype = 'random', loss='cross_entropy'):\n",
        "        self.layers=[]\n",
        "        self.layers_size = layers_size\n",
        "        self.optimizer = optimizer\n",
        "        self.activation = activation\n",
        "        self.wtype = wtype\n",
        "        self.epochs = epochs\n",
        "        self.learning_rate = learning_rate\n",
        "        self.l2_lambda = l2_lambda\n",
        "        if loss=='cross_entropy':\n",
        "            self.lossFunction = self.cross_entropy\n",
        "            self.lossBackward = self.cross_entropy_Grad\n",
        "        elif loss == 'mean_square':\n",
        "            self.lossFunction = self.meanSquareError\n",
        "            self.lossBackward = self.meanSquareErrorGrad\n",
        "        else:\n",
        "            print('Invalid loss function')\n",
        "        self.loss=loss\n",
        "\n",
        "    # add layer to the NN with input dimensions, nodes & activation function\n",
        "    def addLayer(self, inputDimension=None, noOfNodes=1, activation='',wtype = 'random'):\n",
        "        if (inputDimension is None):\n",
        "            if (len(self.layers) == 0):\n",
        "                print('Invalid number of layers')\n",
        "            inputDimension = self.layers[-1].outputDimension()\n",
        "        layer = Layer(inputDimension, noOfNodes, activation,optimizer = self.optimizer, wtype=wtype)\n",
        "        self.layers.append(layer)\n",
        "\n",
        "    # MeanSquareError function to calculate loss\n",
        "    def meanSquareError(self, Y, A):\n",
        "        loss = np.square(Y - A)\n",
        "        m = Y.shape[1]\n",
        "        cost = 1 / m * np.sum(loss)\n",
        "        return np.squeeze(cost)\n",
        "    \n",
        "    # Compute's mean square grad error, Y is true value & A is predicted value\n",
        "    def meanSquareErrorGrad(self, Y, A):\n",
        "        dA = -2 * (Y - A)\n",
        "        return dA\n",
        "\n",
        "\n",
        "    # Compute's cross entropy error where Y is true value and A is predicted value\n",
        "    def cross_entropy(self, Y, A):\n",
        "        m = Y.shape[1]\n",
        "        cost = -(1/m)*np.sum(Y*np.log(A))\n",
        "        return np.squeeze(cost)\n",
        "\n",
        "    \n",
        "    # Compute's cross entropy grad error, Y is true value & A is predicted value\n",
        "    def cross_entropy_Grad(self, Y, A):\n",
        "        dA = A-Y\n",
        "        return dA\n",
        "\n",
        "\n",
        "    # Wrapper function to get the cost or loss value of the predicted values\n",
        "    def cost(self, Y, A):\n",
        "        return self.lossFunction(Y, A)\n",
        "\n",
        "\n",
        "    # Forward pass the input vector X through all layers\n",
        "    def forward(self, X):\n",
        "        x = np.copy(X)\n",
        "        for layer in self.layers:\n",
        "            x = layer.forward(x)\n",
        "        return x\n",
        "            \n",
        "\n",
        "    # Backward pass the true values and predicted values in reverse direction\n",
        "    def backward(self, Y, A):\n",
        "        dA = self.lossBackward(Y, A)\n",
        "        #print(dA.shape)\n",
        "        if self.optimizer != 'sgd':\n",
        "            for layer in reversed(self.layers):\n",
        "                dA = layer.backward(dA)\n",
        "        else:\n",
        "            for layer in reversed(self.layers):\n",
        "                dA = layer.sgd(dA,learning_rate = self.learning_rate)\n",
        "\n",
        "    \n",
        "    # Update weights and compute's gradient descent of all layers\n",
        "    def update(self, learning_rate=0.01,l2_lambda =0,batch_size=32,t=0):\n",
        "        for layer in self.layers:\n",
        "            layer.optimizer(learning_rate,l2_lambda = l2_lambda,batch_size = batch_size,t=0)\n",
        "\n",
        "\n",
        "    # Training the train data using above functions and calculating loss for test and validation data \n",
        "    def fit(self,x_train,y_train,x_test,y_test,batch_size = 32):\n",
        "\n",
        "        from sklearn.model_selection import train_test_split\n",
        "\n",
        "        x,x_val,y,y_val = train_test_split(x_train,y_train,train_size = 0.9, test_size = 0.1, random_state=10) #Splitting the data for training and validation\n",
        "\n",
        "        if self.activation=='relu': \n",
        "          self.wtype = 'xavier'\n",
        "\n",
        "        \n",
        "        #adding Layers with required activation function\n",
        "        for i in range(1,len(self.layers_size)-1):\n",
        "          self.addLayer(inputDimension=self.layers_size[i-1], noOfNodes=self.layers_size[i], activation=self.activation, wtype = self.wtype) \n",
        "\n",
        "        \n",
        "        # Output layer with softmax activation\n",
        "        self.addLayer(inputDimension=self.layers_size[-2], noOfNodes=self.layers_size[-1], activation='softmax', wtype = self.wtype)\n",
        "\n",
        "        #generating a One-hot encoder vector for y which is y_hot\n",
        "        y_hot = np.zeros([len(set(y)),len(y)])\n",
        "        for i in range(y_hot.shape[1]):\n",
        "          y_hot[y[i]][i] = 1\n",
        "\n",
        "\n",
        "        #Training the data \n",
        "        for i in range(self.epochs):\n",
        "          \n",
        "          #avoiding gradient vanishing for Relu\n",
        "          if self.activation =='relu' and self.optimizer == 'momentumGD' or self.optimizer == 'rmsprop' or self.optimizer == 'nesterov':\n",
        "            self.learning_rate/=15\n",
        "\n",
        "\n",
        "          #Training the data for each batch\n",
        "          for j in range(0,x.shape[0],batch_size):\n",
        "            xb = x[j:j+batch_size]\n",
        "            yb = y[j:j+batch_size]\n",
        "            y_hotb = y_hot[:,j:j+batch_size]\n",
        "            xb = xb.reshape(xb.shape[0],xb.shape[1]*xb.shape[2]).T\n",
        "            xb = xb-np.min(xb)/np.max(xb)-np.min(xb)\n",
        "\n",
        "\n",
        "            #Neural Network Running\n",
        "            if self.optimizer == 'sgd':\n",
        "              A = self.forward(xb)\n",
        "              self.backward(y_hotb,A)\n",
        "            else:\n",
        "              A = self.forward(xb)\n",
        "              self.backward(y_hotb,A)\n",
        "              self.update(learning_rate=self.learning_rate,l2_lambda = self.l2_lambda,batch_size=batch_size,t= i+1)\n",
        "\n",
        "          #Predicting the Loss, Accuracy and Predicted labels for Validation data and Test data\n",
        "          val_loss,val_acc,_=self.predict(x_val,y_val)\n",
        "          loss,acc,y_pred= self.predict(x_test,y_test)\n",
        "          \n",
        "          #Displaying The Loss and Accuracy for Validation data and Test data\n",
        "          print(\"After \",i+1,\"iterations:\")\n",
        "          print(\"validation loss;\",val_loss,\"validation accuracy:\",val_acc)\n",
        "          print(\"test_loss:\",loss,\"test accuracy:\",acc)\n",
        "\n",
        "          #Logging the loss and accuracy values for each epoch in wandb panel\n",
        "          wandb.log({\"val_loss\":val_loss,\"val_accuracy\":val_acc,\"loss\":loss,\"accuracy\":acc,\"epoch\":i})\n",
        "\n",
        "        return y_pred #returning the probabilistic distributions of each class\n",
        "\n",
        "\n",
        "    #Predicting the Loss and Accuracy for given x,y using current weights in NN\n",
        "    def predict(self,x,y):\n",
        "        A = x.reshape(x.shape[0],x.shape[1]*x.shape[2]).T\n",
        "        y_hot = np.zeros([len(set(y)),len(y)])\n",
        "\n",
        "        for i in range(y_hot.shape[1]):\n",
        "          y_hot[y[i]][i] = 1\n",
        "\n",
        "        for layer in self.layers:\n",
        "            A = layer.predict(A)\n",
        "        cross_entropy = -(y_hot * np.log(A)).mean() * y_hot.shape[0]\n",
        "        y_pred = np.argmax(A,axis = 0)\n",
        "        acc = (y==y_pred).mean()\n",
        "\n",
        "        return cross_entropy,acc,A\n",
        "\n",
        "      \n",
        "        \n"
      ]
    },
    {
      "cell_type": "code",
      "source": [
        "#Sweep Configuration with Bayesian Strategy\n",
        "\n",
        "sweep_config = {\n",
        "    'name':\"my-sweep\",\n",
        "    'method': 'bayes',\n",
        "    'metric': {\n",
        "      'name': 'accuracy',\n",
        "      'goal': 'maximize'   \n",
        "    },\n",
        "    \n",
        "    'parameters': {\n",
        "        'epochs': {\n",
        "            'values': [5, 10] #number of epochs\n",
        "        },\n",
        "        'number_hidden': {\n",
        "            'values': [3, 4, 5] #number of hidden layers\n",
        "        },\n",
        "        'hidden_inputsize': {\n",
        "            'values':[32, 64, 128] #size of every hidden layer\n",
        "        },\n",
        "        'weight_decay': {\n",
        "            'values':[0, 0.0005,  0.5] #L2 regularisation\n",
        "        },\n",
        "        'learning_rate': {\n",
        "            'values': [1e-3, 1e-4] \n",
        "        },\n",
        "        'optimizer': {\n",
        "            'values': ['momentumGD', 'nesterov', 'rmsprop', 'adam', 'nadam','sgd']\n",
        "        },\n",
        "        'batch_size' : {\n",
        "            'values':[16, 32, 64]\n",
        "        },\n",
        "        'weight_init': {\n",
        "            'values':['random','xavier']\n",
        "        },\n",
        "        'activation': {\n",
        "            'values': ['sigmoid','tanh','relu']\n",
        "        }\n",
        "        \n",
        "        }\n",
        "}\n",
        "\n",
        "#Generating Sweep id\n",
        "sweep_id = wandb.sweep(sweep_config, entity=\"cs21m053-cs21m071\", project=\"Assignment 1\")  "
      ],
      "metadata": {
        "colab": {
          "base_uri": "https://localhost:8080/"
        },
        "id": "ckr6e6rKYRMQ",
        "outputId": "e8c51676-624a-43e0-ce8d-08ee1092ec4e"
      },
      "execution_count": null,
      "outputs": [
        {
          "output_type": "stream",
          "name": "stdout",
          "text": [
            "Create sweep with ID: kn7uo5g2\n",
            "Sweep URL: https://wandb.ai/cs21m053-cs21m071/Assignment%201/sweeps/kn7uo5g2\n"
          ]
        }
      ]
    },
    {
      "cell_type": "code",
      "source": [
        "#defining train function for wandb agent to run it's configurations (directly from documentation)\n",
        "\n",
        "def train():\n",
        "  with wandb.init() as run:\n",
        "    \n",
        "    config = wandb.config \n",
        "    \n",
        "    wandb.run.name = \"hl_\" + str(config.hidden_inputsize)+\"_bs_\"+str(config.batch_size)+\"_ac_\"+ config.activation\n",
        "    np.random.seed(1)\n",
        "    model = NeuralNetwork(layers_size = [784]+[config.hidden_inputsize]*config.number_hidden+[10],epochs = config[\"epochs\"],learning_rate = config.learning_rate,l2_lambda = config.weight_decay,loss='cross_entropy',activation = config.activation, optimizer = config.optimizer, wtype=config.weight_init )\n",
        "    y_pred = model.fit(x_train,y_train,x_test,y_test,batch_size=config.batch_size)\n",
        "\n",
        "#running the sweep\n",
        "wandb.agent('1oyl8idi',train,entity=\"cs21m053-cs21m071\", project=\"Assignment 1\")\n"
      ],
      "metadata": {
        "colab": {
          "base_uri": "https://localhost:8080/",
          "height": 1000,
          "referenced_widgets": [
            "40bd085337f54e0487df593602bbde44",
            "9d90601709ca429ba5526f8fc9a3dd55",
            "de69fbaccc4144cd90798d5f9055ab9c",
            "1e60581f95dd41dc85fb43faf47f733f",
            "b83f328e745b40458e38eb91d0185576",
            "0bfae5bdd1f94889a3e2e6b16ca33811",
            "b4da97b0de724ff0b58f0e9b471d94fc",
            "5097d2ddbf2a4936ae61aef17d434bc3",
            "9577de4b7dea456d8cfd01ede80e85a8",
            "da956b9092e444f3a4895e5e82da6f10",
            "a247fe1a878a453caca7fc695a646c1e",
            "06af86b5bbe44a2b9b5a998eac11d044",
            "660674c090fe4b9dacc9036a70a37db0",
            "fea4f40545944f1f9830c036f98bdcd4",
            "5279b7f78c30470dbb489eba23f8f6ce",
            "8515c43c97964eab9b7cab0275eeddd6",
            "f619c8d940294f70aed69006558661dc",
            "cec4e0c1811f4126899c52ae1079dd3e",
            "45bba90a31a544a28d36dae334998c0b",
            "621565f19d564a85af8b6bb024ea0348",
            "1a6cfc45fbdd4ebbbfb10681ebdaca6b",
            "9e5737cc66324ac29fca81d102b6634f",
            "f5bf405c7d53466aa1433376730c2ea4",
            "104f901087944df7a585c7ae4a84e24c",
            "6d446c8ff37f43e6a730f2fd9e4babb5",
            "a64d6cbf3c3c4f32906f3f368eccff8e",
            "25d72d022b6a4441b9eba70627bdb159",
            "b4034014899942319ae0be34e2e13ffe",
            "6296a1aa83574c929743247b3b460175",
            "a6f819f51b3c47e3bceba684176f509a",
            "493dbbd9783a4447b44fbfa4ad767d0e",
            "671f13e630a641cc9cf23a03bb09b922"
          ]
        },
        "id": "DkzbL3DWa4nr",
        "outputId": "d094116d-ee82-4da6-bdfb-74b02ccf72b8"
      },
      "execution_count": null,
      "outputs": [
        {
          "output_type": "stream",
          "name": "stderr",
          "text": [
            "\u001b[34m\u001b[1mwandb\u001b[0m: Agent Starting Run: cbm9ygrr with config:\n",
            "\u001b[34m\u001b[1mwandb\u001b[0m: \tactivation: sigmoid\n",
            "\u001b[34m\u001b[1mwandb\u001b[0m: \tbatch_size: 64\n",
            "\u001b[34m\u001b[1mwandb\u001b[0m: \tepochs: 5\n",
            "\u001b[34m\u001b[1mwandb\u001b[0m: \thidden_inputsize: 128\n",
            "\u001b[34m\u001b[1mwandb\u001b[0m: \tlearning_rate: 0.001\n",
            "\u001b[34m\u001b[1mwandb\u001b[0m: \tnumber_hidden: 3\n",
            "\u001b[34m\u001b[1mwandb\u001b[0m: \toptimizer: adam\n",
            "\u001b[34m\u001b[1mwandb\u001b[0m: \tweight_decay: 0\n",
            "\u001b[34m\u001b[1mwandb\u001b[0m: \tweight_init: random\n"
          ]
        },
        {
          "output_type": "display_data",
          "data": {
            "text/html": [
              "\n",
              "                    Syncing run <strong><a href=\"https://wandb.ai/cs21m053-cs21m071/Assignment%201/runs/cbm9ygrr\" target=\"_blank\">neat-sweep-82</a></strong> to <a href=\"https://wandb.ai/cs21m053-cs21m071/Assignment%201\" target=\"_blank\">Weights & Biases</a> (<a href=\"https://docs.wandb.com/integrations/jupyter.html\" target=\"_blank\">docs</a>).<br/>\n",
              "Sweep page: <a href=\"https://wandb.ai/cs21m053-cs21m071/Assignment%201/sweeps/1oyl8idi\" target=\"_blank\">https://wandb.ai/cs21m053-cs21m071/Assignment%201/sweeps/1oyl8idi</a><br/>\n",
              "\n",
              "                "
            ],
            "text/plain": [
              "<IPython.core.display.HTML object>"
            ]
          },
          "metadata": {}
        },
        {
          "output_type": "stream",
          "name": "stderr",
          "text": [
            "/usr/local/lib/python3.7/dist-packages/ipykernel_launcher.py:70: RuntimeWarning: overflow encountered in exp\n",
            "/usr/local/lib/python3.7/dist-packages/ipykernel_launcher.py:75: RuntimeWarning: overflow encountered in exp\n"
          ]
        },
        {
          "output_type": "stream",
          "name": "stdout",
          "text": [
            "After  1 iterations:\n",
            "validation loss; 0.6967542665813746 validation accuracy: 0.7475\n",
            "test_loss: 0.7053105700396121 test accuracy: 0.7479\n",
            "After  2 iterations:\n",
            "validation loss; 0.6466559656586948 validation accuracy: 0.7595\n",
            "test_loss: 0.6455628281716181 test accuracy: 0.7659\n",
            "After  3 iterations:\n",
            "validation loss; 0.6316480621894615 validation accuracy: 0.771\n",
            "test_loss: 0.6366204025853262 test accuracy: 0.7663\n",
            "After  4 iterations:\n",
            "validation loss; 0.6179824928162058 validation accuracy: 0.7716666666666666\n",
            "test_loss: 0.6225948792377763 test accuracy: 0.7713\n",
            "After  5 iterations:\n",
            "validation loss; 0.5990512626291463 validation accuracy: 0.7718333333333334\n",
            "test_loss: 0.6018064626709425 test accuracy: 0.7822\n"
          ]
        },
        {
          "output_type": "display_data",
          "data": {
            "text/html": [
              "<br/>Waiting for W&B process to finish, PID 599... <strong style=\"color:green\">(success).</strong>"
            ],
            "text/plain": [
              "<IPython.core.display.HTML object>"
            ]
          },
          "metadata": {}
        },
        {
          "output_type": "display_data",
          "data": {
            "application/vnd.jupyter.widget-view+json": {
              "model_id": "40bd085337f54e0487df593602bbde44",
              "version_minor": 0,
              "version_major": 2
            },
            "text/plain": [
              "VBox(children=(Label(value=' 0.00MB of 0.00MB uploaded (0.00MB deduped)\\r'), FloatProgress(value=1.0, max=1.0)…"
            ]
          },
          "metadata": {}
        },
        {
          "output_type": "display_data",
          "data": {
            "text/html": [
              "<style>\n",
              "    table.wandb td:nth-child(1) { padding: 0 10px; text-align: right }\n",
              "    .wandb-row { display: flex; flex-direction: row; flex-wrap: wrap; width: 100% }\n",
              "    .wandb-col { display: flex; flex-direction: column; flex-basis: 100%; flex: 1; padding: 10px; }\n",
              "    </style>\n",
              "<div class=\"wandb-row\"><div class=\"wandb-col\">\n",
              "<h3>Run history:</h3><br/><table class=\"wandb\"><tr><td>accuracy</td><td>▁▅▅▆█</td></tr><tr><td>epoch</td><td>▁▃▅▆█</td></tr><tr><td>loss</td><td>█▄▃▂▁</td></tr><tr><td>val_accuracy</td><td>▁▄███</td></tr><tr><td>val_loss</td><td>█▄▃▂▁</td></tr></table><br/></div><div class=\"wandb-col\">\n",
              "<h3>Run summary:</h3><br/><table class=\"wandb\"><tr><td>accuracy</td><td>0.7822</td></tr><tr><td>epoch</td><td>4</td></tr><tr><td>loss</td><td>0.60181</td></tr><tr><td>val_accuracy</td><td>0.77183</td></tr><tr><td>val_loss</td><td>0.59905</td></tr></table>\n",
              "</div></div>\n",
              "Synced 5 W&B file(s), 0 media file(s), 0 artifact file(s) and 0 other file(s)\n",
              "<br/>Synced <strong style=\"color:#cdcd00\">neat-sweep-82</strong>: <a href=\"https://wandb.ai/cs21m053-cs21m071/Assignment%201/runs/cbm9ygrr\" target=\"_blank\">https://wandb.ai/cs21m053-cs21m071/Assignment%201/runs/cbm9ygrr</a><br/>\n",
              "Find logs at: <code>./wandb/run-20220224_181740-cbm9ygrr/logs</code><br/>\n"
            ],
            "text/plain": [
              "<IPython.core.display.HTML object>"
            ]
          },
          "metadata": {}
        },
        {
          "output_type": "stream",
          "name": "stderr",
          "text": [
            "\u001b[34m\u001b[1mwandb\u001b[0m: Agent Starting Run: p4rb7dcd with config:\n",
            "\u001b[34m\u001b[1mwandb\u001b[0m: \tactivation: relu\n",
            "\u001b[34m\u001b[1mwandb\u001b[0m: \tbatch_size: 64\n",
            "\u001b[34m\u001b[1mwandb\u001b[0m: \tepochs: 5\n",
            "\u001b[34m\u001b[1mwandb\u001b[0m: \thidden_inputsize: 128\n",
            "\u001b[34m\u001b[1mwandb\u001b[0m: \tlearning_rate: 0.0001\n",
            "\u001b[34m\u001b[1mwandb\u001b[0m: \tnumber_hidden: 3\n",
            "\u001b[34m\u001b[1mwandb\u001b[0m: \toptimizer: nadam\n",
            "\u001b[34m\u001b[1mwandb\u001b[0m: \tweight_decay: 0\n",
            "\u001b[34m\u001b[1mwandb\u001b[0m: \tweight_init: xavier\n"
          ]
        },
        {
          "output_type": "display_data",
          "data": {
            "text/html": [
              "\n",
              "                    Syncing run <strong><a href=\"https://wandb.ai/cs21m053-cs21m071/Assignment%201/runs/p4rb7dcd\" target=\"_blank\">soft-sweep-83</a></strong> to <a href=\"https://wandb.ai/cs21m053-cs21m071/Assignment%201\" target=\"_blank\">Weights & Biases</a> (<a href=\"https://docs.wandb.com/integrations/jupyter.html\" target=\"_blank\">docs</a>).<br/>\n",
              "Sweep page: <a href=\"https://wandb.ai/cs21m053-cs21m071/Assignment%201/sweeps/1oyl8idi\" target=\"_blank\">https://wandb.ai/cs21m053-cs21m071/Assignment%201/sweeps/1oyl8idi</a><br/>\n",
              "\n",
              "                "
            ],
            "text/plain": [
              "<IPython.core.display.HTML object>"
            ]
          },
          "metadata": {}
        },
        {
          "output_type": "stream",
          "name": "stdout",
          "text": [
            "After  1 iterations:\n",
            "validation loss; 1.9129958305524473 validation accuracy: 0.7498333333333334\n",
            "test_loss: 1.9428795473815044 test accuracy: 0.7529\n",
            "After  2 iterations:\n",
            "validation loss; 1.5109852546714122 validation accuracy: 0.7701666666666667\n",
            "test_loss: 1.568547087064278 test accuracy: 0.7705\n",
            "After  3 iterations:\n",
            "validation loss; 1.2993612914670793 validation accuracy: 0.7821666666666667\n",
            "test_loss: 1.3886899988278958 test accuracy: 0.7824\n",
            "After  4 iterations:\n",
            "validation loss; 1.194465187671226 validation accuracy: 0.7878333333333334\n",
            "test_loss: 1.2735265576956514 test accuracy: 0.7844\n",
            "After  5 iterations:\n",
            "validation loss; 1.0947842704707385 validation accuracy: 0.7975\n",
            "test_loss: 1.1656869385580517 test accuracy: 0.7911\n"
          ]
        },
        {
          "output_type": "display_data",
          "data": {
            "text/html": [
              "<br/>Waiting for W&B process to finish, PID 650... <strong style=\"color:green\">(success).</strong>"
            ],
            "text/plain": [
              "<IPython.core.display.HTML object>"
            ]
          },
          "metadata": {}
        },
        {
          "output_type": "display_data",
          "data": {
            "application/vnd.jupyter.widget-view+json": {
              "model_id": "9577de4b7dea456d8cfd01ede80e85a8",
              "version_minor": 0,
              "version_major": 2
            },
            "text/plain": [
              "VBox(children=(Label(value=' 0.00MB of 0.00MB uploaded (0.00MB deduped)\\r'), FloatProgress(value=1.0, max=1.0)…"
            ]
          },
          "metadata": {}
        },
        {
          "output_type": "display_data",
          "data": {
            "text/html": [
              "<style>\n",
              "    table.wandb td:nth-child(1) { padding: 0 10px; text-align: right }\n",
              "    .wandb-row { display: flex; flex-direction: row; flex-wrap: wrap; width: 100% }\n",
              "    .wandb-col { display: flex; flex-direction: column; flex-basis: 100%; flex: 1; padding: 10px; }\n",
              "    </style>\n",
              "<div class=\"wandb-row\"><div class=\"wandb-col\">\n",
              "<h3>Run history:</h3><br/><table class=\"wandb\"><tr><td>accuracy</td><td>▁▄▆▇█</td></tr><tr><td>epoch</td><td>▁▃▅▆█</td></tr><tr><td>loss</td><td>█▅▃▂▁</td></tr><tr><td>val_accuracy</td><td>▁▄▆▇█</td></tr><tr><td>val_loss</td><td>█▅▃▂▁</td></tr></table><br/></div><div class=\"wandb-col\">\n",
              "<h3>Run summary:</h3><br/><table class=\"wandb\"><tr><td>accuracy</td><td>0.7911</td></tr><tr><td>epoch</td><td>4</td></tr><tr><td>loss</td><td>1.16569</td></tr><tr><td>val_accuracy</td><td>0.7975</td></tr><tr><td>val_loss</td><td>1.09478</td></tr></table>\n",
              "</div></div>\n",
              "Synced 5 W&B file(s), 0 media file(s), 0 artifact file(s) and 0 other file(s)\n",
              "<br/>Synced <strong style=\"color:#cdcd00\">soft-sweep-83</strong>: <a href=\"https://wandb.ai/cs21m053-cs21m071/Assignment%201/runs/p4rb7dcd\" target=\"_blank\">https://wandb.ai/cs21m053-cs21m071/Assignment%201/runs/p4rb7dcd</a><br/>\n",
              "Find logs at: <code>./wandb/run-20220224_181843-p4rb7dcd/logs</code><br/>\n"
            ],
            "text/plain": [
              "<IPython.core.display.HTML object>"
            ]
          },
          "metadata": {}
        },
        {
          "output_type": "stream",
          "name": "stderr",
          "text": [
            "\u001b[34m\u001b[1mwandb\u001b[0m: Agent Starting Run: msolhumo with config:\n",
            "\u001b[34m\u001b[1mwandb\u001b[0m: \tactivation: tanh\n",
            "\u001b[34m\u001b[1mwandb\u001b[0m: \tbatch_size: 16\n",
            "\u001b[34m\u001b[1mwandb\u001b[0m: \tepochs: 5\n",
            "\u001b[34m\u001b[1mwandb\u001b[0m: \thidden_inputsize: 32\n",
            "\u001b[34m\u001b[1mwandb\u001b[0m: \tlearning_rate: 0.0001\n",
            "\u001b[34m\u001b[1mwandb\u001b[0m: \tnumber_hidden: 4\n",
            "\u001b[34m\u001b[1mwandb\u001b[0m: \toptimizer: adam\n",
            "\u001b[34m\u001b[1mwandb\u001b[0m: \tweight_decay: 0.0005\n",
            "\u001b[34m\u001b[1mwandb\u001b[0m: \tweight_init: random\n"
          ]
        },
        {
          "output_type": "display_data",
          "data": {
            "text/html": [
              "\n",
              "                    Syncing run <strong><a href=\"https://wandb.ai/cs21m053-cs21m071/Assignment%201/runs/msolhumo\" target=\"_blank\">helpful-sweep-84</a></strong> to <a href=\"https://wandb.ai/cs21m053-cs21m071/Assignment%201\" target=\"_blank\">Weights & Biases</a> (<a href=\"https://docs.wandb.com/integrations/jupyter.html\" target=\"_blank\">docs</a>).<br/>\n",
              "Sweep page: <a href=\"https://wandb.ai/cs21m053-cs21m071/Assignment%201/sweeps/1oyl8idi\" target=\"_blank\">https://wandb.ai/cs21m053-cs21m071/Assignment%201/sweeps/1oyl8idi</a><br/>\n",
              "\n",
              "                "
            ],
            "text/plain": [
              "<IPython.core.display.HTML object>"
            ]
          },
          "metadata": {}
        },
        {
          "output_type": "stream",
          "name": "stdout",
          "text": [
            "After  1 iterations:\n",
            "validation loss; 1.7756872119986056 validation accuracy: 0.39566666666666667\n",
            "test_loss: 1.783342021056331 test accuracy: 0.399\n",
            "After  2 iterations:\n",
            "validation loss; 1.4845522250727683 validation accuracy: 0.487\n",
            "test_loss: 1.4961217805925808 test accuracy: 0.4856\n",
            "After  3 iterations:\n",
            "validation loss; 1.3460737926064144 validation accuracy: 0.528\n",
            "test_loss: 1.3478813181749751 test accuracy: 0.5291\n",
            "After  4 iterations:\n",
            "validation loss; 1.262083638255387 validation accuracy: 0.5521666666666667\n",
            "test_loss: 1.2579662441745452 test accuracy: 0.5564\n",
            "After  5 iterations:\n",
            "validation loss; 1.2210948634170231 validation accuracy: 0.5603333333333333\n",
            "test_loss: 1.2026428090537646 test accuracy: 0.5688\n"
          ]
        },
        {
          "output_type": "display_data",
          "data": {
            "text/html": [
              "<br/>Waiting for W&B process to finish, PID 699... <strong style=\"color:green\">(success).</strong>"
            ],
            "text/plain": [
              "<IPython.core.display.HTML object>"
            ]
          },
          "metadata": {}
        },
        {
          "output_type": "display_data",
          "data": {
            "application/vnd.jupyter.widget-view+json": {
              "model_id": "f619c8d940294f70aed69006558661dc",
              "version_minor": 0,
              "version_major": 2
            },
            "text/plain": [
              "VBox(children=(Label(value=' 0.00MB of 0.00MB uploaded (0.00MB deduped)\\r'), FloatProgress(value=1.0, max=1.0)…"
            ]
          },
          "metadata": {}
        },
        {
          "output_type": "display_data",
          "data": {
            "text/html": [
              "<style>\n",
              "    table.wandb td:nth-child(1) { padding: 0 10px; text-align: right }\n",
              "    .wandb-row { display: flex; flex-direction: row; flex-wrap: wrap; width: 100% }\n",
              "    .wandb-col { display: flex; flex-direction: column; flex-basis: 100%; flex: 1; padding: 10px; }\n",
              "    </style>\n",
              "<div class=\"wandb-row\"><div class=\"wandb-col\">\n",
              "<h3>Run history:</h3><br/><table class=\"wandb\"><tr><td>accuracy</td><td>▁▅▆▇█</td></tr><tr><td>epoch</td><td>▁▃▅▆█</td></tr><tr><td>loss</td><td>█▅▃▂▁</td></tr><tr><td>val_accuracy</td><td>▁▅▇██</td></tr><tr><td>val_loss</td><td>█▄▃▂▁</td></tr></table><br/></div><div class=\"wandb-col\">\n",
              "<h3>Run summary:</h3><br/><table class=\"wandb\"><tr><td>accuracy</td><td>0.5688</td></tr><tr><td>epoch</td><td>4</td></tr><tr><td>loss</td><td>1.20264</td></tr><tr><td>val_accuracy</td><td>0.56033</td></tr><tr><td>val_loss</td><td>1.22109</td></tr></table>\n",
              "</div></div>\n",
              "Synced 5 W&B file(s), 0 media file(s), 0 artifact file(s) and 0 other file(s)\n",
              "<br/>Synced <strong style=\"color:#cdcd00\">helpful-sweep-84</strong>: <a href=\"https://wandb.ai/cs21m053-cs21m071/Assignment%201/runs/msolhumo\" target=\"_blank\">https://wandb.ai/cs21m053-cs21m071/Assignment%201/runs/msolhumo</a><br/>\n",
              "Find logs at: <code>./wandb/run-20220224_181942-msolhumo/logs</code><br/>\n"
            ],
            "text/plain": [
              "<IPython.core.display.HTML object>"
            ]
          },
          "metadata": {}
        },
        {
          "output_type": "stream",
          "name": "stderr",
          "text": [
            "\u001b[34m\u001b[1mwandb\u001b[0m: Agent Starting Run: mjxhq4qr with config:\n",
            "\u001b[34m\u001b[1mwandb\u001b[0m: \tactivation: tanh\n",
            "\u001b[34m\u001b[1mwandb\u001b[0m: \tbatch_size: 16\n",
            "\u001b[34m\u001b[1mwandb\u001b[0m: \tepochs: 10\n",
            "\u001b[34m\u001b[1mwandb\u001b[0m: \thidden_inputsize: 64\n",
            "\u001b[34m\u001b[1mwandb\u001b[0m: \tlearning_rate: 0.0001\n",
            "\u001b[34m\u001b[1mwandb\u001b[0m: \tnumber_hidden: 3\n",
            "\u001b[34m\u001b[1mwandb\u001b[0m: \toptimizer: momentumGD\n",
            "\u001b[34m\u001b[1mwandb\u001b[0m: \tweight_decay: 0\n",
            "\u001b[34m\u001b[1mwandb\u001b[0m: \tweight_init: random\n"
          ]
        },
        {
          "output_type": "display_data",
          "data": {
            "text/html": [
              "\n",
              "                    Syncing run <strong><a href=\"https://wandb.ai/cs21m053-cs21m071/Assignment%201/runs/mjxhq4qr\" target=\"_blank\">worthy-sweep-85</a></strong> to <a href=\"https://wandb.ai/cs21m053-cs21m071/Assignment%201\" target=\"_blank\">Weights & Biases</a> (<a href=\"https://docs.wandb.com/integrations/jupyter.html\" target=\"_blank\">docs</a>).<br/>\n",
              "Sweep page: <a href=\"https://wandb.ai/cs21m053-cs21m071/Assignment%201/sweeps/1oyl8idi\" target=\"_blank\">https://wandb.ai/cs21m053-cs21m071/Assignment%201/sweeps/1oyl8idi</a><br/>\n",
              "\n",
              "                "
            ],
            "text/plain": [
              "<IPython.core.display.HTML object>"
            ]
          },
          "metadata": {}
        },
        {
          "output_type": "stream",
          "name": "stdout",
          "text": [
            "After  1 iterations:\n",
            "validation loss; 1.7702690348666161 validation accuracy: 0.36183333333333334\n",
            "test_loss: 1.7484457367822608 test accuracy: 0.3806\n",
            "After  2 iterations:\n",
            "validation loss; 1.4113184705997956 validation accuracy: 0.41983333333333334\n",
            "test_loss: 1.4221121244670085 test accuracy: 0.4106\n",
            "After  3 iterations:\n",
            "validation loss; 1.3653874283585068 validation accuracy: 0.5041666666666667\n",
            "test_loss: 1.3532819980377546 test accuracy: 0.4997\n",
            "After  4 iterations:\n",
            "validation loss; 1.3592420670214707 validation accuracy: 0.44216666666666665\n",
            "test_loss: 1.3533228560454877 test accuracy: 0.4524\n",
            "After  5 iterations:\n",
            "validation loss; 1.3329214900275321 validation accuracy: 0.46066666666666667\n",
            "test_loss: 1.3481716728099988 test accuracy: 0.4547\n",
            "After  6 iterations:\n",
            "validation loss; 1.3097017569317893 validation accuracy: 0.47383333333333333\n",
            "test_loss: 1.3183942634750132 test accuracy: 0.4731\n",
            "After  7 iterations:\n",
            "validation loss; 1.4100733367938716 validation accuracy: 0.4056666666666667\n",
            "test_loss: 1.398736776864493 test accuracy: 0.4061\n",
            "After  8 iterations:\n",
            "validation loss; 1.3587913496109227 validation accuracy: 0.44633333333333336\n",
            "test_loss: 1.367347360750323 test accuracy: 0.4457\n",
            "After  9 iterations:\n",
            "validation loss; 1.2816587744424157 validation accuracy: 0.48933333333333334\n",
            "test_loss: 1.299935145629424 test accuracy: 0.4854\n",
            "After  10 iterations:\n",
            "validation loss; 1.4512257258841847 validation accuracy: 0.38316666666666666\n",
            "test_loss: 1.4468424882232436 test accuracy: 0.3759\n"
          ]
        },
        {
          "output_type": "display_data",
          "data": {
            "text/html": [
              "<br/>Waiting for W&B process to finish, PID 751... <strong style=\"color:green\">(success).</strong>"
            ],
            "text/plain": [
              "<IPython.core.display.HTML object>"
            ]
          },
          "metadata": {}
        },
        {
          "output_type": "display_data",
          "data": {
            "application/vnd.jupyter.widget-view+json": {
              "model_id": "6d446c8ff37f43e6a730f2fd9e4babb5",
              "version_minor": 0,
              "version_major": 2
            },
            "text/plain": [
              "VBox(children=(Label(value=' 0.00MB of 0.00MB uploaded (0.00MB deduped)\\r'), FloatProgress(value=1.0, max=1.0)…"
            ]
          },
          "metadata": {}
        },
        {
          "output_type": "display_data",
          "data": {
            "text/html": [
              "<style>\n",
              "    table.wandb td:nth-child(1) { padding: 0 10px; text-align: right }\n",
              "    .wandb-row { display: flex; flex-direction: row; flex-wrap: wrap; width: 100% }\n",
              "    .wandb-col { display: flex; flex-direction: column; flex-basis: 100%; flex: 1; padding: 10px; }\n",
              "    </style>\n",
              "<div class=\"wandb-row\"><div class=\"wandb-col\">\n",
              "<h3>Run history:</h3><br/><table class=\"wandb\"><tr><td>accuracy</td><td>▁▃█▅▅▆▃▅▇▁</td></tr><tr><td>epoch</td><td>▁▂▃▃▄▅▆▆▇█</td></tr><tr><td>loss</td><td>█▃▂▂▂▁▃▂▁▃</td></tr><tr><td>val_accuracy</td><td>▁▄█▅▆▇▃▅▇▂</td></tr><tr><td>val_loss</td><td>█▃▂▂▂▁▃▂▁▃</td></tr></table><br/></div><div class=\"wandb-col\">\n",
              "<h3>Run summary:</h3><br/><table class=\"wandb\"><tr><td>accuracy</td><td>0.3759</td></tr><tr><td>epoch</td><td>9</td></tr><tr><td>loss</td><td>1.44684</td></tr><tr><td>val_accuracy</td><td>0.38317</td></tr><tr><td>val_loss</td><td>1.45123</td></tr></table>\n",
              "</div></div>\n",
              "Synced 5 W&B file(s), 0 media file(s), 0 artifact file(s) and 0 other file(s)\n",
              "<br/>Synced <strong style=\"color:#cdcd00\">worthy-sweep-85</strong>: <a href=\"https://wandb.ai/cs21m053-cs21m071/Assignment%201/runs/mjxhq4qr\" target=\"_blank\">https://wandb.ai/cs21m053-cs21m071/Assignment%201/runs/mjxhq4qr</a><br/>\n",
              "Find logs at: <code>./wandb/run-20220224_182035-mjxhq4qr/logs</code><br/>\n"
            ],
            "text/plain": [
              "<IPython.core.display.HTML object>"
            ]
          },
          "metadata": {}
        },
        {
          "output_type": "stream",
          "name": "stderr",
          "text": [
            "\u001b[34m\u001b[1mwandb\u001b[0m: Agent Starting Run: g50m2up7 with config:\n",
            "\u001b[34m\u001b[1mwandb\u001b[0m: \tactivation: relu\n",
            "\u001b[34m\u001b[1mwandb\u001b[0m: \tbatch_size: 64\n",
            "\u001b[34m\u001b[1mwandb\u001b[0m: \tepochs: 10\n",
            "\u001b[34m\u001b[1mwandb\u001b[0m: \thidden_inputsize: 128\n",
            "\u001b[34m\u001b[1mwandb\u001b[0m: \tlearning_rate: 0.0001\n",
            "\u001b[34m\u001b[1mwandb\u001b[0m: \tnumber_hidden: 3\n",
            "\u001b[34m\u001b[1mwandb\u001b[0m: \toptimizer: sgd\n",
            "\u001b[34m\u001b[1mwandb\u001b[0m: \tweight_decay: 0.5\n",
            "\u001b[34m\u001b[1mwandb\u001b[0m: \tweight_init: xavier\n"
          ]
        },
        {
          "output_type": "display_data",
          "data": {
            "text/html": [
              "\n",
              "                    Syncing run <strong><a href=\"https://wandb.ai/cs21m053-cs21m071/Assignment%201/runs/g50m2up7\" target=\"_blank\">confused-sweep-86</a></strong> to <a href=\"https://wandb.ai/cs21m053-cs21m071/Assignment%201\" target=\"_blank\">Weights & Biases</a> (<a href=\"https://docs.wandb.com/integrations/jupyter.html\" target=\"_blank\">docs</a>).<br/>\n",
              "Sweep page: <a href=\"https://wandb.ai/cs21m053-cs21m071/Assignment%201/sweeps/1oyl8idi\" target=\"_blank\">https://wandb.ai/cs21m053-cs21m071/Assignment%201/sweeps/1oyl8idi</a><br/>\n",
              "\n",
              "                "
            ],
            "text/plain": [
              "<IPython.core.display.HTML object>"
            ]
          },
          "metadata": {}
        },
        {
          "output_type": "stream",
          "name": "stdout",
          "text": [
            "After  1 iterations:\n",
            "validation loss; 1.3168260679135393 validation accuracy: 0.722\n",
            "test_loss: 1.3128688569125713 test accuracy: 0.7262\n"
          ]
        },
        {
          "output_type": "stream",
          "name": "stderr",
          "text": [
            "\u001b[34m\u001b[1mwandb\u001b[0m: Ctrl + C detected. Stopping sweep.\n"
          ]
        }
      ]
    },
    {
      "cell_type": "code",
      "source": [
        "#configuration for which Best accuracy is possible (to plot Confusion matrix)\n",
        "best_config={\n",
        "    \"activation\":\"relu\",\n",
        "    \"batch_size\":64,\n",
        "    \"epochs\":10,\n",
        "    \"hidden_inputsize\":128,\n",
        "    \"learning_rate\":1e-03,\n",
        "    \"number_hidden\":4,\n",
        "    \"optimizer\":\"nadam\",\n",
        "    \"weight_decay\":0.0005,\n",
        "    \"weight_init\":\"xavier\"\n",
        "}\n",
        "\n",
        "#generating y prediction to plot confusion matrix\n",
        "np.random.seed(1)\n",
        "wandb.init(config = best_config,project = \"Assignment 1\", entity = \"cs21m053-cs21m071\")\n",
        "config = wandb.config\n",
        "model = NeuralNetwork(layers_size = [784]+[config.hidden_inputsize]*config.number_hidden+[10],epochs = config[\"epochs\"],learning_rate = config.learning_rate,l2_lambda = config.weight_decay,loss='mean_square',activation = config.activation, optimizer = config.optimizer, wtype=config.weight_init )\n",
        "y_pred = model.fit(x_train,y_train,batch_size=config.batch_size)\n",
        "\n"
      ],
      "metadata": {
        "colab": {
          "base_uri": "https://localhost:8080/",
          "height": 696,
          "referenced_widgets": [
            "169f914824ee4e9198c144c519adea21",
            "f299028b3a57462488ce87da207ae03a",
            "bf3df7b091574ef9afdb7ce828941fb6",
            "b199f079b64e4b2f9ec28800571b5ee4",
            "a3d115a5803449b1b113273bb8bd5bd1",
            "0f0c882be91c4ca09a089469a2ec3e69",
            "d778105783cd4c4489d8b7d238792eda",
            "8e2bfd82e0c2491eb699deac158c29db"
          ]
        },
        "id": "arLAwRYtYzJY",
        "outputId": "1fdef871-6dc3-4535-99b0-242f5944538d"
      },
      "execution_count": null,
      "outputs": [
        {
          "output_type": "display_data",
          "data": {
            "text/html": [
              "Finishing last run (ID:2nvhdepb) before initializing another..."
            ],
            "text/plain": [
              "<IPython.core.display.HTML object>"
            ]
          },
          "metadata": {}
        },
        {
          "output_type": "display_data",
          "data": {
            "text/html": [
              "<br/>Waiting for W&B process to finish, PID 445... <strong style=\"color:green\">(success).</strong>"
            ],
            "text/plain": [
              "<IPython.core.display.HTML object>"
            ]
          },
          "metadata": {}
        },
        {
          "output_type": "display_data",
          "data": {
            "application/vnd.jupyter.widget-view+json": {
              "model_id": "169f914824ee4e9198c144c519adea21",
              "version_minor": 0,
              "version_major": 2
            },
            "text/plain": [
              "VBox(children=(Label(value=' 0.00MB of 0.00MB uploaded (0.00MB deduped)\\r'), FloatProgress(value=1.0, max=1.0)…"
            ]
          },
          "metadata": {}
        },
        {
          "output_type": "display_data",
          "data": {
            "text/html": [
              "<style>\n",
              "    table.wandb td:nth-child(1) { padding: 0 10px; text-align: right }\n",
              "    .wandb-row { display: flex; flex-direction: row; flex-wrap: wrap; width: 100% }\n",
              "    .wandb-col { display: flex; flex-direction: column; flex-basis: 100%; flex: 1; padding: 10px; }\n",
              "    </style>\n",
              "<div class=\"wandb-row\"><div class=\"wandb-col\">\n",
              "</div><div class=\"wandb-col\">\n",
              "</div></div>\n",
              "Synced 4 W&B file(s), 0 media file(s), 0 artifact file(s) and 0 other file(s)\n",
              "<br/>Synced <strong style=\"color:#cdcd00\">ruby-donkey-213</strong>: <a href=\"https://wandb.ai/cs21m053-cs21m071/Assignment%201/runs/2nvhdepb\" target=\"_blank\">https://wandb.ai/cs21m053-cs21m071/Assignment%201/runs/2nvhdepb</a><br/>\n",
              "Find logs at: <code>./wandb/run-20220224_181021-2nvhdepb/logs</code><br/>\n"
            ],
            "text/plain": [
              "<IPython.core.display.HTML object>"
            ]
          },
          "metadata": {}
        },
        {
          "output_type": "display_data",
          "data": {
            "text/html": [
              "Successfully finished last run (ID:2nvhdepb). Initializing new run:<br/>"
            ],
            "text/plain": [
              "<IPython.core.display.HTML object>"
            ]
          },
          "metadata": {}
        },
        {
          "output_type": "display_data",
          "data": {
            "text/html": [
              "\n",
              "                    Syncing run <strong><a href=\"https://wandb.ai/cs21m053-cs21m071/Assignment%201/runs/1lme7rl7\" target=\"_blank\">floral-serenity-214</a></strong> to <a href=\"https://wandb.ai/cs21m053-cs21m071/Assignment%201\" target=\"_blank\">Weights & Biases</a> (<a href=\"https://docs.wandb.com/integrations/jupyter.html\" target=\"_blank\">docs</a>).<br/>\n",
              "\n",
              "                "
            ],
            "text/plain": [
              "<IPython.core.display.HTML object>"
            ]
          },
          "metadata": {}
        },
        {
          "output_type": "stream",
          "name": "stdout",
          "text": [
            "After  1 iterations:\n",
            "validation loss; 0.5392592430586817 validation accuracy: 0.822\n",
            "test_loss: 0.5642389220738478 test accuracy: 0.814\n",
            "After  2 iterations:\n",
            "validation loss; 0.4685713036207118 validation accuracy: 0.848\n",
            "test_loss: 0.4802781311013714 test accuracy: 0.838\n",
            "After  3 iterations:\n",
            "validation loss; 0.458238520467594 validation accuracy: 0.8441666666666666\n",
            "test_loss: 0.46469568634378366 test accuracy: 0.8458\n",
            "After  4 iterations:\n",
            "validation loss; 0.42587087680561125 validation accuracy: 0.8623333333333333\n",
            "test_loss: 0.4369534224731964 test accuracy: 0.8551\n",
            "After  5 iterations:\n",
            "validation loss; 0.4110575861857041 validation accuracy: 0.867\n",
            "test_loss: 0.4147320587775296 test accuracy: 0.8609\n",
            "After  6 iterations:\n",
            "validation loss; 0.4262195697492748 validation accuracy: 0.8645\n",
            "test_loss: 0.4198452056317647 test accuracy: 0.8642\n",
            "After  7 iterations:\n",
            "validation loss; 0.42147501086239464 validation accuracy: 0.8666666666666667\n",
            "test_loss: 0.4325251989715934 test accuracy: 0.8634\n",
            "After  8 iterations:\n",
            "validation loss; 0.4241829774640315 validation accuracy: 0.8663333333333333\n",
            "test_loss: 0.4172897589245216 test accuracy: 0.8668\n",
            "After  9 iterations:\n",
            "validation loss; 0.41938756325718646 validation accuracy: 0.8675\n",
            "test_loss: 0.42082801192443153 test accuracy: 0.8698\n",
            "After  10 iterations:\n",
            "validation loss; 0.44382968871475237 validation accuracy: 0.8683333333333333\n",
            "test_loss: 0.44263465245561967 test accuracy: 0.8689\n"
          ]
        }
      ]
    },
    {
      "cell_type": "code",
      "source": [
        "#plotting Confusion matrix\n",
        "\n",
        "classes = ['T-shirt/top', 'Trouser', 'Pullover', 'Dress', 'Coat','Sandal', 'Shirt', 'Sneaker', 'Bag', 'Ankle boot']\n",
        "wandb.log({\"conf_mat\" : wandb.plot.confusion_matrix(probs=y_pred.T,\n",
        "                        y_true=y_test,class_names=classes)})"
      ],
      "metadata": {
        "id": "TOWIXRm0RaJ7"
      },
      "execution_count": null,
      "outputs": []
    },
    {
      "cell_type": "code",
      "source": [
        "#importing MNIST data to test 3 best possible configurations\n",
        "from keras.datasets import mnist\n",
        "((x_train,y_train),(x_test,y_test)) = mnist.load_data()"
      ],
      "metadata": {
        "id": "Vdsaqj-aVTcX"
      },
      "execution_count": null,
      "outputs": []
    },
    {
      "cell_type": "code",
      "source": [
        "#initalising Sweep for MNIST data (only 3)\n",
        "sweep_config = {\n",
        "    'name':\"my-sweep-mnist\",\n",
        "    'method': 'bayes',\n",
        "    'metric': {\n",
        "      'name': 'accuracy',\n",
        "      'goal': 'maximize'   \n",
        "    },\n",
        "    \n",
        "    'parameters': {\n",
        "        'epochs': {\n",
        "            'values': [10] #number of epochs\n",
        "        },\n",
        "        'number_hidden': {\n",
        "            'values': [5] #number of hidden layers\n",
        "        },\n",
        "        'hidden_inputsize': {\n",
        "            'values':[64, 128] #size of every hidden layer\n",
        "        },\n",
        "        'weight_decay': {\n",
        "            'values':[0] #L2 regularisation\n",
        "        },\n",
        "        'learning_rate': {\n",
        "            'values': [1e-3] \n",
        "        },\n",
        "        'optimizer': {\n",
        "            'values': ['adam', 'nadam']\n",
        "        },\n",
        "        'batch_size' : {\n",
        "            'values':[64]\n",
        "        },\n",
        "        'weight_init': {\n",
        "            'values':['xavier']\n",
        "        },\n",
        "        'activation': {\n",
        "            'values': ['relu']\n",
        "        }\n",
        "        \n",
        "        }\n",
        "}\n",
        "\n",
        "sweep_id = wandb.sweep(sweep_config, entity=\"cs21m053-cs21m071\", project=\"Assignment 1\")\n",
        "\n"
      ],
      "metadata": {
        "colab": {
          "base_uri": "https://localhost:8080/"
        },
        "id": "vQ_gLTGjXApa",
        "outputId": "bb1c09a9-9d85-4d98-f0dc-e47783e1ea0d"
      },
      "execution_count": null,
      "outputs": [
        {
          "output_type": "stream",
          "name": "stdout",
          "text": [
            "Create sweep with ID: kpz1umf6\n",
            "Sweep URL: https://wandb.ai/cs21m053-cs21m071/Assignment%201/sweeps/kpz1umf6\n"
          ]
        }
      ]
    },
    {
      "cell_type": "code",
      "source": [
        "#Writing train function to plot MNIST data accuracies\n",
        "\n",
        "def train():\n",
        "  with wandb.init() as run:\n",
        "    \n",
        "    config = wandb.config \n",
        "    \n",
        "    wandb.run.name = \"hl_\" + str(config.hidden_inputsize)+\"_bs_\"+str(config.batch_size)+\"_ac_\"+ config.activation\n",
        "    np.random.seed(1)\n",
        "    model = NeuralNetwork(layers_size = [784]+[config.hidden_inputsize]*config.number_hidden+[10],epochs = config[\"epochs\"],learning_rate = config.learning_rate,l2_lambda = config.weight_decay,loss='cross_entropy',activation = config.activation, optimizer = config.optimizer, wtype=config.weight_init )\n",
        "    y_pred = model.fit(x_train,y_train,x_test,y_test,batch_size=config.batch_size)\n",
        "\n",
        "#Plotting Accuracies for MNIST dataset\n",
        "wandb.agent(sweep_id,train,entity=\"cs21m053-cs21m071\", project=\"Assignment 1\")"
      ],
      "metadata": {
        "colab": {
          "base_uri": "https://localhost:8080/",
          "height": 1000,
          "referenced_widgets": [
            "949ced0f993e42a1aa30e607f4536b8b",
            "c694609ae7674c9e8bfa1f211fa52fd2",
            "95b4987000ec4989bd439dd1211e5414",
            "5c1177368d024580a81dfe41d38865cd",
            "8220c42ff20a438293963c33a03b920a",
            "ea3b4fc016864b69a97c94343c51951a",
            "f44a2ca14fc5412795146aec1b73c11f",
            "7fcc17911b3142379a1c4510b4f85863",
            "81a1b5a810ec43b2891e09da385154c7",
            "8583cb21cef143f4bb596118c7603beb",
            "f3133f0219d04f7eaa81e6a9c3903241",
            "538e056e1a734456ad4bd3ee239232a3",
            "47d9b1d4dcd549e8b7d7fa167dd6cea1",
            "2c8ea92ec7454528aff0e1056e882f29",
            "16a12847d53f4b82a460de36b0c4f503",
            "3a5cf1a3ee9b4407ac98c3f75aa8d29e",
            "2be7688756e54a02a4990f1701c7b7a5",
            "8def28788f8f44eda5815db587ac1691",
            "51032219d053417db3e13dd4be2f17b0",
            "ed979531ea28442bbb5f65f660a3e8e1",
            "2e2437eb1a354e758c441f752da69d89",
            "d419e2b6071a4e1485333907091efd18",
            "f0fdfb496aab4265a3e7b45fccb969a2",
            "934f4c3be2d4473d91b4da26236dba6f",
            "afab169a76aa4be5918ec092006a8bc3",
            "b1b975164e1f4e9982d0530b37086fab",
            "70e3213bf9b246bcb2deded3d244088f",
            "3ba56c0286d0494e8959280b4bc8baed",
            "f4943954548c40c386e51adb171d19ad",
            "99660ca5c9de4b87a597f3893a658d49",
            "72561ad003274cee873c013eb2fdff0a",
            "ecc85d77da444752b668c4758b5c74f1",
            "9767b64c98c34e5c8199a31ddcb435df",
            "a6aae7d0504647a3b26fe59d37e5b079",
            "212ebeb297664dc8ac7eeb43fc4ec957",
            "98f690842422412da1520eb6ae7951c8",
            "4f919bc723794a6bad2cdd6e192ed064",
            "37df64a79ab443248d612dd57f2a8db7",
            "d49e9174241e43909f3f6ec3e7ff2a4e",
            "8f016045d81f42cf918a3f0bb3eaadf1",
            "11452bd87da6441b88b3bb6b6d23e84d",
            "cf9a036a23a1411cab40f8f160aca384",
            "243554b2e52c468da97e15d0cc4ee7e1",
            "3693e410d3904d6185822a0ee06930f9",
            "fed81a8c73914868b685017a567f8b8e",
            "150f4a1c7dd74a27bf203203265459f1",
            "c21ea9e8a06e47c0933356ecffdefcfc",
            "4b2fd7943e29460d8514ddab90e78d93"
          ]
        },
        "id": "8KuhDy8MbAXN",
        "outputId": "08bead9d-2352-492d-ea92-74f18699f538"
      },
      "execution_count": null,
      "outputs": [
        {
          "output_type": "stream",
          "name": "stderr",
          "text": [
            "\u001b[34m\u001b[1mwandb\u001b[0m: Agent Starting Run: dgiips3d with config:\n",
            "\u001b[34m\u001b[1mwandb\u001b[0m: \tactivation: relu\n",
            "\u001b[34m\u001b[1mwandb\u001b[0m: \tbatch_size: 64\n",
            "\u001b[34m\u001b[1mwandb\u001b[0m: \tepochs: 10\n",
            "\u001b[34m\u001b[1mwandb\u001b[0m: \thidden_inputsize: 64\n",
            "\u001b[34m\u001b[1mwandb\u001b[0m: \tlearning_rate: 0.001\n",
            "\u001b[34m\u001b[1mwandb\u001b[0m: \tnumber_hidden: 5\n",
            "\u001b[34m\u001b[1mwandb\u001b[0m: \toptimizer: adam\n",
            "\u001b[34m\u001b[1mwandb\u001b[0m: \tweight_decay: 0\n",
            "\u001b[34m\u001b[1mwandb\u001b[0m: \tweight_init: xavier\n"
          ]
        },
        {
          "output_type": "display_data",
          "data": {
            "text/html": [
              "\n",
              "                    Syncing run <strong><a href=\"https://wandb.ai/cs21m053-cs21m071/Assignment%201/runs/dgiips3d\" target=\"_blank\">dark-sweep-1</a></strong> to <a href=\"https://wandb.ai/cs21m053-cs21m071/Assignment%201\" target=\"_blank\">Weights & Biases</a> (<a href=\"https://docs.wandb.com/integrations/jupyter.html\" target=\"_blank\">docs</a>).<br/>\n",
              "Sweep page: <a href=\"https://wandb.ai/cs21m053-cs21m071/Assignment%201/sweeps/kpz1umf6\" target=\"_blank\">https://wandb.ai/cs21m053-cs21m071/Assignment%201/sweeps/kpz1umf6</a><br/>\n",
              "\n",
              "                "
            ],
            "text/plain": [
              "<IPython.core.display.HTML object>"
            ]
          },
          "metadata": {}
        },
        {
          "output_type": "stream",
          "name": "stdout",
          "text": [
            "After  1 iterations:\n",
            "validation loss; 0.23740288037763987 validation accuracy: 0.9333333333333333\n",
            "test_loss: 0.23618098276362565 test accuracy: 0.9331\n",
            "After  2 iterations:\n",
            "validation loss; 0.22794069753683807 validation accuracy: 0.9378333333333333\n",
            "test_loss: 0.22073847113615128 test accuracy: 0.9408\n",
            "After  3 iterations:\n",
            "validation loss; 0.1853807347632036 validation accuracy: 0.9508333333333333\n",
            "test_loss: 0.17693320803346496 test accuracy: 0.952\n",
            "After  4 iterations:\n",
            "validation loss; 0.16705336406806354 validation accuracy: 0.9555\n",
            "test_loss: 0.1556653105576729 test accuracy: 0.9575\n",
            "After  5 iterations:\n",
            "validation loss; 0.15992111014597926 validation accuracy: 0.9581666666666667\n",
            "test_loss: 0.15309428812159254 test accuracy: 0.9586\n",
            "After  6 iterations:\n",
            "validation loss; 0.1516566149934731 validation accuracy: 0.9581666666666667\n",
            "test_loss: 0.1444359982720714 test accuracy: 0.9623\n",
            "After  7 iterations:\n",
            "validation loss; 0.14979406264997117 validation accuracy: 0.9618333333333333\n",
            "test_loss: 0.14935840532785039 test accuracy: 0.9622\n",
            "After  8 iterations:\n",
            "validation loss; 0.1639875683313288 validation accuracy: 0.9591666666666666\n",
            "test_loss: 0.16381200976867477 test accuracy: 0.9602\n",
            "After  9 iterations:\n",
            "validation loss; 0.1707804222532331 validation accuracy: 0.9595\n",
            "test_loss: 0.160374314267977 test accuracy: 0.9621\n",
            "After  10 iterations:\n",
            "validation loss; 0.19229131089593413 validation accuracy: 0.9568333333333333\n",
            "test_loss: 0.19943427053941887 test accuracy: 0.9551\n"
          ]
        },
        {
          "output_type": "display_data",
          "data": {
            "text/html": [
              "<br/>Waiting for W&B process to finish, PID 1724... <strong style=\"color:green\">(success).</strong>"
            ],
            "text/plain": [
              "<IPython.core.display.HTML object>"
            ]
          },
          "metadata": {}
        },
        {
          "output_type": "display_data",
          "data": {
            "application/vnd.jupyter.widget-view+json": {
              "model_id": "949ced0f993e42a1aa30e607f4536b8b",
              "version_minor": 0,
              "version_major": 2
            },
            "text/plain": [
              "VBox(children=(Label(value=' 0.00MB of 0.00MB uploaded (0.00MB deduped)\\r'), FloatProgress(value=1.0, max=1.0)…"
            ]
          },
          "metadata": {}
        },
        {
          "output_type": "display_data",
          "data": {
            "text/html": [
              "<style>\n",
              "    table.wandb td:nth-child(1) { padding: 0 10px; text-align: right }\n",
              "    .wandb-row { display: flex; flex-direction: row; flex-wrap: wrap; width: 100% }\n",
              "    .wandb-col { display: flex; flex-direction: column; flex-basis: 100%; flex: 1; padding: 10px; }\n",
              "    </style>\n",
              "<div class=\"wandb-row\"><div class=\"wandb-col\">\n",
              "<h3>Run history:</h3><br/><table class=\"wandb\"><tr><td>accuracy</td><td>▁▃▆▇▇██▇█▆</td></tr><tr><td>epoch</td><td>▁▂▃▃▄▅▆▆▇█</td></tr><tr><td>loss</td><td>█▇▃▂▂▁▁▂▂▅</td></tr><tr><td>val_accuracy</td><td>▁▂▅▆▇▇█▇▇▇</td></tr><tr><td>val_loss</td><td>█▇▄▂▂▁▁▂▃▄</td></tr></table><br/></div><div class=\"wandb-col\">\n",
              "<h3>Run summary:</h3><br/><table class=\"wandb\"><tr><td>accuracy</td><td>0.9551</td></tr><tr><td>epoch</td><td>9</td></tr><tr><td>loss</td><td>0.19943</td></tr><tr><td>val_accuracy</td><td>0.95683</td></tr><tr><td>val_loss</td><td>0.19229</td></tr></table>\n",
              "</div></div>\n",
              "Synced 5 W&B file(s), 0 media file(s), 0 artifact file(s) and 0 other file(s)\n",
              "<br/>Synced <strong style=\"color:#cdcd00\">dark-sweep-1</strong>: <a href=\"https://wandb.ai/cs21m053-cs21m071/Assignment%201/runs/dgiips3d\" target=\"_blank\">https://wandb.ai/cs21m053-cs21m071/Assignment%201/runs/dgiips3d</a><br/>\n",
              "Find logs at: <code>./wandb/run-20220224_204115-dgiips3d/logs</code><br/>\n"
            ],
            "text/plain": [
              "<IPython.core.display.HTML object>"
            ]
          },
          "metadata": {}
        },
        {
          "output_type": "stream",
          "name": "stderr",
          "text": [
            "\u001b[34m\u001b[1mwandb\u001b[0m: Agent Starting Run: tkt1873h with config:\n",
            "\u001b[34m\u001b[1mwandb\u001b[0m: \tactivation: relu\n",
            "\u001b[34m\u001b[1mwandb\u001b[0m: \tbatch_size: 64\n",
            "\u001b[34m\u001b[1mwandb\u001b[0m: \tepochs: 10\n",
            "\u001b[34m\u001b[1mwandb\u001b[0m: \thidden_inputsize: 128\n",
            "\u001b[34m\u001b[1mwandb\u001b[0m: \tlearning_rate: 0.001\n",
            "\u001b[34m\u001b[1mwandb\u001b[0m: \tnumber_hidden: 5\n",
            "\u001b[34m\u001b[1mwandb\u001b[0m: \toptimizer: adam\n",
            "\u001b[34m\u001b[1mwandb\u001b[0m: \tweight_decay: 0\n",
            "\u001b[34m\u001b[1mwandb\u001b[0m: \tweight_init: xavier\n"
          ]
        },
        {
          "output_type": "display_data",
          "data": {
            "text/html": [
              "\n",
              "                    Syncing run <strong><a href=\"https://wandb.ai/cs21m053-cs21m071/Assignment%201/runs/tkt1873h\" target=\"_blank\">graceful-sweep-2</a></strong> to <a href=\"https://wandb.ai/cs21m053-cs21m071/Assignment%201\" target=\"_blank\">Weights & Biases</a> (<a href=\"https://docs.wandb.com/integrations/jupyter.html\" target=\"_blank\">docs</a>).<br/>\n",
              "Sweep page: <a href=\"https://wandb.ai/cs21m053-cs21m071/Assignment%201/sweeps/kpz1umf6\" target=\"_blank\">https://wandb.ai/cs21m053-cs21m071/Assignment%201/sweeps/kpz1umf6</a><br/>\n",
              "\n",
              "                "
            ],
            "text/plain": [
              "<IPython.core.display.HTML object>"
            ]
          },
          "metadata": {}
        },
        {
          "output_type": "stream",
          "name": "stdout",
          "text": [
            "After  1 iterations:\n",
            "validation loss; 0.19002230285563307 validation accuracy: 0.9443333333333334\n",
            "test_loss: 0.19605326307557833 test accuracy: 0.9448\n",
            "After  2 iterations:\n",
            "validation loss; 0.15863588540689377 validation accuracy: 0.9546666666666667\n",
            "test_loss: 0.15706268151242556 test accuracy: 0.9567\n",
            "After  3 iterations:\n",
            "validation loss; 0.13732162622634536 validation accuracy: 0.9625\n",
            "test_loss: 0.12996948821416446 test accuracy: 0.9654\n",
            "After  4 iterations:\n",
            "validation loss; 0.13277095797617594 validation accuracy: 0.9655\n",
            "test_loss: 0.12699583131478842 test accuracy: 0.9671\n",
            "After  5 iterations:\n",
            "validation loss; 0.14906416340901651 validation accuracy: 0.9646666666666667\n",
            "test_loss: 0.13454119622315946 test accuracy: 0.966\n",
            "After  6 iterations:\n",
            "validation loss; 0.15059113489527484 validation accuracy: 0.9676666666666667\n",
            "test_loss: 0.1352147658434312 test accuracy: 0.9694\n",
            "After  7 iterations:\n",
            "validation loss; 0.16756078999036525 validation accuracy: 0.968\n",
            "test_loss: 0.15565867689367546 test accuracy: 0.9658\n",
            "After  8 iterations:\n",
            "validation loss; 0.17202740344316678 validation accuracy: 0.966\n",
            "test_loss: 0.15747885440975326 test accuracy: 0.9684\n",
            "After  9 iterations:\n",
            "validation loss; 0.18775104015486152 validation accuracy: 0.9661666666666666\n",
            "test_loss: 0.17582394854528668 test accuracy: 0.9657\n",
            "After  10 iterations:\n",
            "validation loss; 0.1817584680090177 validation accuracy: 0.9676666666666667\n",
            "test_loss: 0.1741384139995118 test accuracy: 0.9676\n"
          ]
        },
        {
          "output_type": "display_data",
          "data": {
            "text/html": [
              "<br/>Waiting for W&B process to finish, PID 1773... <strong style=\"color:green\">(success).</strong>"
            ],
            "text/plain": [
              "<IPython.core.display.HTML object>"
            ]
          },
          "metadata": {}
        },
        {
          "output_type": "display_data",
          "data": {
            "application/vnd.jupyter.widget-view+json": {
              "model_id": "81a1b5a810ec43b2891e09da385154c7",
              "version_minor": 0,
              "version_major": 2
            },
            "text/plain": [
              "VBox(children=(Label(value=' 0.00MB of 0.00MB uploaded (0.00MB deduped)\\r'), FloatProgress(value=1.0, max=1.0)…"
            ]
          },
          "metadata": {}
        },
        {
          "output_type": "display_data",
          "data": {
            "text/html": [
              "<style>\n",
              "    table.wandb td:nth-child(1) { padding: 0 10px; text-align: right }\n",
              "    .wandb-row { display: flex; flex-direction: row; flex-wrap: wrap; width: 100% }\n",
              "    .wandb-col { display: flex; flex-direction: column; flex-basis: 100%; flex: 1; padding: 10px; }\n",
              "    </style>\n",
              "<div class=\"wandb-row\"><div class=\"wandb-col\">\n",
              "<h3>Run history:</h3><br/><table class=\"wandb\"><tr><td>accuracy</td><td>▁▄▇▇▇█▇█▇▇</td></tr><tr><td>epoch</td><td>▁▂▃▃▄▅▆▆▇█</td></tr><tr><td>loss</td><td>█▄▁▁▂▂▄▄▆▆</td></tr><tr><td>val_accuracy</td><td>▁▄▆▇▇██▇▇█</td></tr><tr><td>val_loss</td><td>█▄▂▁▃▃▅▆█▇</td></tr></table><br/></div><div class=\"wandb-col\">\n",
              "<h3>Run summary:</h3><br/><table class=\"wandb\"><tr><td>accuracy</td><td>0.9676</td></tr><tr><td>epoch</td><td>9</td></tr><tr><td>loss</td><td>0.17414</td></tr><tr><td>val_accuracy</td><td>0.96767</td></tr><tr><td>val_loss</td><td>0.18176</td></tr></table>\n",
              "</div></div>\n",
              "Synced 5 W&B file(s), 0 media file(s), 0 artifact file(s) and 0 other file(s)\n",
              "<br/>Synced <strong style=\"color:#cdcd00\">graceful-sweep-2</strong>: <a href=\"https://wandb.ai/cs21m053-cs21m071/Assignment%201/runs/tkt1873h\" target=\"_blank\">https://wandb.ai/cs21m053-cs21m071/Assignment%201/runs/tkt1873h</a><br/>\n",
              "Find logs at: <code>./wandb/run-20220224_204223-tkt1873h/logs</code><br/>\n"
            ],
            "text/plain": [
              "<IPython.core.display.HTML object>"
            ]
          },
          "metadata": {}
        },
        {
          "output_type": "stream",
          "name": "stderr",
          "text": [
            "\u001b[34m\u001b[1mwandb\u001b[0m: Sweep Agent: Waiting for job.\n",
            "\u001b[34m\u001b[1mwandb\u001b[0m: Job received.\n",
            "\u001b[34m\u001b[1mwandb\u001b[0m: Agent Starting Run: pevw0rkm with config:\n",
            "\u001b[34m\u001b[1mwandb\u001b[0m: \tactivation: relu\n",
            "\u001b[34m\u001b[1mwandb\u001b[0m: \tbatch_size: 64\n",
            "\u001b[34m\u001b[1mwandb\u001b[0m: \tepochs: 10\n",
            "\u001b[34m\u001b[1mwandb\u001b[0m: \thidden_inputsize: 128\n",
            "\u001b[34m\u001b[1mwandb\u001b[0m: \tlearning_rate: 0.001\n",
            "\u001b[34m\u001b[1mwandb\u001b[0m: \tnumber_hidden: 5\n",
            "\u001b[34m\u001b[1mwandb\u001b[0m: \toptimizer: adam\n",
            "\u001b[34m\u001b[1mwandb\u001b[0m: \tweight_decay: 0\n",
            "\u001b[34m\u001b[1mwandb\u001b[0m: \tweight_init: xavier\n"
          ]
        },
        {
          "output_type": "display_data",
          "data": {
            "text/html": [
              "\n",
              "                    Syncing run <strong><a href=\"https://wandb.ai/cs21m053-cs21m071/Assignment%201/runs/pevw0rkm\" target=\"_blank\">cosmic-sweep-3</a></strong> to <a href=\"https://wandb.ai/cs21m053-cs21m071/Assignment%201\" target=\"_blank\">Weights & Biases</a> (<a href=\"https://docs.wandb.com/integrations/jupyter.html\" target=\"_blank\">docs</a>).<br/>\n",
              "Sweep page: <a href=\"https://wandb.ai/cs21m053-cs21m071/Assignment%201/sweeps/kpz1umf6\" target=\"_blank\">https://wandb.ai/cs21m053-cs21m071/Assignment%201/sweeps/kpz1umf6</a><br/>\n",
              "\n",
              "                "
            ],
            "text/plain": [
              "<IPython.core.display.HTML object>"
            ]
          },
          "metadata": {}
        },
        {
          "output_type": "stream",
          "name": "stdout",
          "text": [
            "After  1 iterations:\n",
            "validation loss; 0.19002230285563307 validation accuracy: 0.9443333333333334\n",
            "test_loss: 0.19605326307557833 test accuracy: 0.9448\n",
            "After  2 iterations:\n",
            "validation loss; 0.15863588540689377 validation accuracy: 0.9546666666666667\n",
            "test_loss: 0.15706268151242556 test accuracy: 0.9567\n",
            "After  3 iterations:\n",
            "validation loss; 0.13732162622634536 validation accuracy: 0.9625\n",
            "test_loss: 0.12996948821416446 test accuracy: 0.9654\n",
            "After  4 iterations:\n",
            "validation loss; 0.13277095797617594 validation accuracy: 0.9655\n",
            "test_loss: 0.12699583131478842 test accuracy: 0.9671\n",
            "After  5 iterations:\n",
            "validation loss; 0.14906416340901651 validation accuracy: 0.9646666666666667\n",
            "test_loss: 0.13454119622315946 test accuracy: 0.966\n",
            "After  6 iterations:\n",
            "validation loss; 0.15059113489527484 validation accuracy: 0.9676666666666667\n",
            "test_loss: 0.1352147658434312 test accuracy: 0.9694\n",
            "After  7 iterations:\n",
            "validation loss; 0.16756078999036525 validation accuracy: 0.968\n",
            "test_loss: 0.15565867689367546 test accuracy: 0.9658\n",
            "After  8 iterations:\n",
            "validation loss; 0.17202740344316678 validation accuracy: 0.966\n",
            "test_loss: 0.15747885440975326 test accuracy: 0.9684\n",
            "After  9 iterations:\n",
            "validation loss; 0.18775104015486152 validation accuracy: 0.9661666666666666\n",
            "test_loss: 0.17582394854528668 test accuracy: 0.9657\n",
            "After  10 iterations:\n",
            "validation loss; 0.1817584680090177 validation accuracy: 0.9676666666666667\n",
            "test_loss: 0.1741384139995118 test accuracy: 0.9676\n"
          ]
        },
        {
          "output_type": "display_data",
          "data": {
            "text/html": [
              "<br/>Waiting for W&B process to finish, PID 1832... <strong style=\"color:green\">(success).</strong>"
            ],
            "text/plain": [
              "<IPython.core.display.HTML object>"
            ]
          },
          "metadata": {}
        },
        {
          "output_type": "display_data",
          "data": {
            "application/vnd.jupyter.widget-view+json": {
              "model_id": "2be7688756e54a02a4990f1701c7b7a5",
              "version_minor": 0,
              "version_major": 2
            },
            "text/plain": [
              "VBox(children=(Label(value=' 0.00MB of 0.00MB uploaded (0.00MB deduped)\\r'), FloatProgress(value=1.0, max=1.0)…"
            ]
          },
          "metadata": {}
        },
        {
          "output_type": "display_data",
          "data": {
            "text/html": [
              "<style>\n",
              "    table.wandb td:nth-child(1) { padding: 0 10px; text-align: right }\n",
              "    .wandb-row { display: flex; flex-direction: row; flex-wrap: wrap; width: 100% }\n",
              "    .wandb-col { display: flex; flex-direction: column; flex-basis: 100%; flex: 1; padding: 10px; }\n",
              "    </style>\n",
              "<div class=\"wandb-row\"><div class=\"wandb-col\">\n",
              "<h3>Run history:</h3><br/><table class=\"wandb\"><tr><td>accuracy</td><td>▁▄▇▇▇█▇█▇▇</td></tr><tr><td>epoch</td><td>▁▂▃▃▄▅▆▆▇█</td></tr><tr><td>loss</td><td>█▄▁▁▂▂▄▄▆▆</td></tr><tr><td>val_accuracy</td><td>▁▄▆▇▇██▇▇█</td></tr><tr><td>val_loss</td><td>█▄▂▁▃▃▅▆█▇</td></tr></table><br/></div><div class=\"wandb-col\">\n",
              "<h3>Run summary:</h3><br/><table class=\"wandb\"><tr><td>accuracy</td><td>0.9676</td></tr><tr><td>epoch</td><td>9</td></tr><tr><td>loss</td><td>0.17414</td></tr><tr><td>val_accuracy</td><td>0.96767</td></tr><tr><td>val_loss</td><td>0.18176</td></tr></table>\n",
              "</div></div>\n",
              "Synced 5 W&B file(s), 0 media file(s), 0 artifact file(s) and 0 other file(s)\n",
              "<br/>Synced <strong style=\"color:#cdcd00\">cosmic-sweep-3</strong>: <a href=\"https://wandb.ai/cs21m053-cs21m071/Assignment%201/runs/pevw0rkm\" target=\"_blank\">https://wandb.ai/cs21m053-cs21m071/Assignment%201/runs/pevw0rkm</a><br/>\n",
              "Find logs at: <code>./wandb/run-20220224_204423-pevw0rkm/logs</code><br/>\n"
            ],
            "text/plain": [
              "<IPython.core.display.HTML object>"
            ]
          },
          "metadata": {}
        },
        {
          "output_type": "stream",
          "name": "stderr",
          "text": [
            "\u001b[34m\u001b[1mwandb\u001b[0m: Agent Starting Run: 722sipd4 with config:\n",
            "\u001b[34m\u001b[1mwandb\u001b[0m: \tactivation: relu\n",
            "\u001b[34m\u001b[1mwandb\u001b[0m: \tbatch_size: 64\n",
            "\u001b[34m\u001b[1mwandb\u001b[0m: \tepochs: 10\n",
            "\u001b[34m\u001b[1mwandb\u001b[0m: \thidden_inputsize: 128\n",
            "\u001b[34m\u001b[1mwandb\u001b[0m: \tlearning_rate: 0.001\n",
            "\u001b[34m\u001b[1mwandb\u001b[0m: \tnumber_hidden: 5\n",
            "\u001b[34m\u001b[1mwandb\u001b[0m: \toptimizer: nadam\n",
            "\u001b[34m\u001b[1mwandb\u001b[0m: \tweight_decay: 0\n",
            "\u001b[34m\u001b[1mwandb\u001b[0m: \tweight_init: xavier\n"
          ]
        },
        {
          "output_type": "display_data",
          "data": {
            "text/html": [
              "\n",
              "                    Syncing run <strong><a href=\"https://wandb.ai/cs21m053-cs21m071/Assignment%201/runs/722sipd4\" target=\"_blank\">usual-sweep-4</a></strong> to <a href=\"https://wandb.ai/cs21m053-cs21m071/Assignment%201\" target=\"_blank\">Weights & Biases</a> (<a href=\"https://docs.wandb.com/integrations/jupyter.html\" target=\"_blank\">docs</a>).<br/>\n",
              "Sweep page: <a href=\"https://wandb.ai/cs21m053-cs21m071/Assignment%201/sweeps/kpz1umf6\" target=\"_blank\">https://wandb.ai/cs21m053-cs21m071/Assignment%201/sweeps/kpz1umf6</a><br/>\n",
              "\n",
              "                "
            ],
            "text/plain": [
              "<IPython.core.display.HTML object>"
            ]
          },
          "metadata": {}
        },
        {
          "output_type": "stream",
          "name": "stdout",
          "text": [
            "After  1 iterations:\n",
            "validation loss; 0.20608849596185302 validation accuracy: 0.9418333333333333\n",
            "test_loss: 0.22175812807617448 test accuracy: 0.9401\n",
            "After  2 iterations:\n",
            "validation loss; 0.15823545444515552 validation accuracy: 0.9573333333333334\n",
            "test_loss: 0.1753582083128471 test accuracy: 0.9512\n",
            "After  3 iterations:\n",
            "validation loss; 0.14342805315026905 validation accuracy: 0.9625\n",
            "test_loss: 0.15131704646329158 test accuracy: 0.96\n",
            "After  4 iterations:\n",
            "validation loss; 0.13549020018086175 validation accuracy: 0.9653333333333334\n",
            "test_loss: 0.13746949277195425 test accuracy: 0.9653\n",
            "After  5 iterations:\n",
            "validation loss; 0.14321058215890112 validation accuracy: 0.9673333333333334\n",
            "test_loss: 0.14129508118700776 test accuracy: 0.965\n",
            "After  6 iterations:\n",
            "validation loss; 0.1472329105308683 validation accuracy: 0.9683333333333334\n",
            "test_loss: 0.16135315651404009 test accuracy: 0.9661\n",
            "After  7 iterations:\n",
            "validation loss; 0.16628226808844046 validation accuracy: 0.9666666666666667\n",
            "test_loss: 0.163227051147771 test accuracy: 0.9671\n",
            "After  8 iterations:\n",
            "validation loss; 0.15521923158725423 validation accuracy: 0.9688333333333333\n",
            "test_loss: 0.16226519291653377 test accuracy: 0.9709\n",
            "After  9 iterations:\n",
            "validation loss; 0.1535062192752445 validation accuracy: 0.9705\n",
            "test_loss: 0.16199863053381142 test accuracy: 0.9709\n",
            "After  10 iterations:\n",
            "validation loss; 0.17297087156607563 validation accuracy: 0.9688333333333333\n",
            "test_loss: 0.17401204219370575 test accuracy: 0.9693\n"
          ]
        },
        {
          "output_type": "display_data",
          "data": {
            "text/html": [
              "<br/>Waiting for W&B process to finish, PID 1891... <strong style=\"color:green\">(success).</strong>"
            ],
            "text/plain": [
              "<IPython.core.display.HTML object>"
            ]
          },
          "metadata": {}
        },
        {
          "output_type": "display_data",
          "data": {
            "application/vnd.jupyter.widget-view+json": {
              "model_id": "afab169a76aa4be5918ec092006a8bc3",
              "version_minor": 0,
              "version_major": 2
            },
            "text/plain": [
              "VBox(children=(Label(value=' 0.00MB of 0.00MB uploaded (0.00MB deduped)\\r'), FloatProgress(value=1.0, max=1.0)…"
            ]
          },
          "metadata": {}
        },
        {
          "output_type": "display_data",
          "data": {
            "text/html": [
              "<style>\n",
              "    table.wandb td:nth-child(1) { padding: 0 10px; text-align: right }\n",
              "    .wandb-row { display: flex; flex-direction: row; flex-wrap: wrap; width: 100% }\n",
              "    .wandb-col { display: flex; flex-direction: column; flex-basis: 100%; flex: 1; padding: 10px; }\n",
              "    </style>\n",
              "<div class=\"wandb-row\"><div class=\"wandb-col\">\n",
              "<h3>Run history:</h3><br/><table class=\"wandb\"><tr><td>accuracy</td><td>▁▄▆▇▇▇▇███</td></tr><tr><td>epoch</td><td>▁▂▃▃▄▅▆▆▇█</td></tr><tr><td>loss</td><td>█▄▂▁▁▃▃▃▃▄</td></tr><tr><td>val_accuracy</td><td>▁▅▆▇▇▇▇███</td></tr><tr><td>val_loss</td><td>█▃▂▁▂▂▄▃▃▅</td></tr></table><br/></div><div class=\"wandb-col\">\n",
              "<h3>Run summary:</h3><br/><table class=\"wandb\"><tr><td>accuracy</td><td>0.9693</td></tr><tr><td>epoch</td><td>9</td></tr><tr><td>loss</td><td>0.17401</td></tr><tr><td>val_accuracy</td><td>0.96883</td></tr><tr><td>val_loss</td><td>0.17297</td></tr></table>\n",
              "</div></div>\n",
              "Synced 5 W&B file(s), 0 media file(s), 0 artifact file(s) and 0 other file(s)\n",
              "<br/>Synced <strong style=\"color:#cdcd00\">usual-sweep-4</strong>: <a href=\"https://wandb.ai/cs21m053-cs21m071/Assignment%201/runs/722sipd4\" target=\"_blank\">https://wandb.ai/cs21m053-cs21m071/Assignment%201/runs/722sipd4</a><br/>\n",
              "Find logs at: <code>./wandb/run-20220224_204614-722sipd4/logs</code><br/>\n"
            ],
            "text/plain": [
              "<IPython.core.display.HTML object>"
            ]
          },
          "metadata": {}
        },
        {
          "output_type": "stream",
          "name": "stderr",
          "text": [
            "\u001b[34m\u001b[1mwandb\u001b[0m: Agent Starting Run: sox3olqd with config:\n",
            "\u001b[34m\u001b[1mwandb\u001b[0m: \tactivation: relu\n",
            "\u001b[34m\u001b[1mwandb\u001b[0m: \tbatch_size: 64\n",
            "\u001b[34m\u001b[1mwandb\u001b[0m: \tepochs: 10\n",
            "\u001b[34m\u001b[1mwandb\u001b[0m: \thidden_inputsize: 64\n",
            "\u001b[34m\u001b[1mwandb\u001b[0m: \tlearning_rate: 0.001\n",
            "\u001b[34m\u001b[1mwandb\u001b[0m: \tnumber_hidden: 5\n",
            "\u001b[34m\u001b[1mwandb\u001b[0m: \toptimizer: nadam\n",
            "\u001b[34m\u001b[1mwandb\u001b[0m: \tweight_decay: 0\n",
            "\u001b[34m\u001b[1mwandb\u001b[0m: \tweight_init: xavier\n"
          ]
        },
        {
          "output_type": "display_data",
          "data": {
            "text/html": [
              "\n",
              "                    Syncing run <strong><a href=\"https://wandb.ai/cs21m053-cs21m071/Assignment%201/runs/sox3olqd\" target=\"_blank\">stellar-sweep-5</a></strong> to <a href=\"https://wandb.ai/cs21m053-cs21m071/Assignment%201\" target=\"_blank\">Weights & Biases</a> (<a href=\"https://docs.wandb.com/integrations/jupyter.html\" target=\"_blank\">docs</a>).<br/>\n",
              "Sweep page: <a href=\"https://wandb.ai/cs21m053-cs21m071/Assignment%201/sweeps/kpz1umf6\" target=\"_blank\">https://wandb.ai/cs21m053-cs21m071/Assignment%201/sweeps/kpz1umf6</a><br/>\n",
              "\n",
              "                "
            ],
            "text/plain": [
              "<IPython.core.display.HTML object>"
            ]
          },
          "metadata": {}
        },
        {
          "output_type": "stream",
          "name": "stdout",
          "text": [
            "After  1 iterations:\n",
            "validation loss; 0.24055181688780175 validation accuracy: 0.9353333333333333\n",
            "test_loss: 0.23498564012932985 test accuracy: 0.9346\n",
            "After  2 iterations:\n",
            "validation loss; 0.19038784110630605 validation accuracy: 0.9473333333333334\n",
            "test_loss: 0.1916571337660786 test accuracy: 0.9456\n",
            "After  3 iterations:\n",
            "validation loss; 0.1707222315406849 validation accuracy: 0.9536666666666667\n",
            "test_loss: 0.16651937350661583 test accuracy: 0.9528\n",
            "After  4 iterations:\n",
            "validation loss; 0.16811862205998754 validation accuracy: 0.9563333333333334\n",
            "test_loss: 0.1603281112262683 test accuracy: 0.9549\n",
            "After  5 iterations:\n",
            "validation loss; 0.1594790390703752 validation accuracy: 0.9575\n",
            "test_loss: 0.1547321876424242 test accuracy: 0.9579\n",
            "After  6 iterations:\n",
            "validation loss; 0.17305968628904503 validation accuracy: 0.9543333333333334\n",
            "test_loss: 0.16472202615630868 test accuracy: 0.9573\n",
            "After  7 iterations:\n",
            "validation loss; 0.17211436513515724 validation accuracy: 0.9556666666666667\n",
            "test_loss: 0.1599613691786604 test accuracy: 0.9597\n",
            "After  8 iterations:\n",
            "validation loss; 0.18056676000632513 validation accuracy: 0.9558333333333333\n",
            "test_loss: 0.16127633040093253 test accuracy: 0.9613\n",
            "After  9 iterations:\n",
            "validation loss; 0.1783597048184071 validation accuracy: 0.9595\n",
            "test_loss: 0.16527922152260036 test accuracy: 0.9627\n",
            "After  10 iterations:\n",
            "validation loss; 0.18359712211313262 validation accuracy: 0.9596666666666667\n",
            "test_loss: 0.16705262216070108 test accuracy: 0.963\n"
          ]
        },
        {
          "output_type": "display_data",
          "data": {
            "text/html": [
              "<br/>Waiting for W&B process to finish, PID 1956... <strong style=\"color:green\">(success).</strong>"
            ],
            "text/plain": [
              "<IPython.core.display.HTML object>"
            ]
          },
          "metadata": {}
        },
        {
          "output_type": "display_data",
          "data": {
            "application/vnd.jupyter.widget-view+json": {
              "model_id": "9767b64c98c34e5c8199a31ddcb435df",
              "version_minor": 0,
              "version_major": 2
            },
            "text/plain": [
              "VBox(children=(Label(value=' 0.00MB of 0.00MB uploaded (0.00MB deduped)\\r'), FloatProgress(value=1.0, max=1.0)…"
            ]
          },
          "metadata": {}
        },
        {
          "output_type": "display_data",
          "data": {
            "text/html": [
              "<style>\n",
              "    table.wandb td:nth-child(1) { padding: 0 10px; text-align: right }\n",
              "    .wandb-row { display: flex; flex-direction: row; flex-wrap: wrap; width: 100% }\n",
              "    .wandb-col { display: flex; flex-direction: column; flex-basis: 100%; flex: 1; padding: 10px; }\n",
              "    </style>\n",
              "<div class=\"wandb-row\"><div class=\"wandb-col\">\n",
              "<h3>Run history:</h3><br/><table class=\"wandb\"><tr><td>accuracy</td><td>▁▄▅▆▇▇▇███</td></tr><tr><td>epoch</td><td>▁▂▃▃▄▅▆▆▇█</td></tr><tr><td>loss</td><td>█▄▂▁▁▂▁▂▂▂</td></tr><tr><td>val_accuracy</td><td>▁▄▆▇▇▆▇▇██</td></tr><tr><td>val_loss</td><td>█▄▂▂▁▂▂▃▃▃</td></tr></table><br/></div><div class=\"wandb-col\">\n",
              "<h3>Run summary:</h3><br/><table class=\"wandb\"><tr><td>accuracy</td><td>0.963</td></tr><tr><td>epoch</td><td>9</td></tr><tr><td>loss</td><td>0.16705</td></tr><tr><td>val_accuracy</td><td>0.95967</td></tr><tr><td>val_loss</td><td>0.1836</td></tr></table>\n",
              "</div></div>\n",
              "Synced 5 W&B file(s), 0 media file(s), 0 artifact file(s) and 0 other file(s)\n",
              "<br/>Synced <strong style=\"color:#cdcd00\">stellar-sweep-5</strong>: <a href=\"https://wandb.ai/cs21m053-cs21m071/Assignment%201/runs/sox3olqd\" target=\"_blank\">https://wandb.ai/cs21m053-cs21m071/Assignment%201/runs/sox3olqd</a><br/>\n",
              "Find logs at: <code>./wandb/run-20220224_204825-sox3olqd/logs</code><br/>\n"
            ],
            "text/plain": [
              "<IPython.core.display.HTML object>"
            ]
          },
          "metadata": {}
        },
        {
          "output_type": "stream",
          "name": "stderr",
          "text": [
            "\u001b[34m\u001b[1mwandb\u001b[0m: Agent Starting Run: ihfzse46 with config:\n",
            "\u001b[34m\u001b[1mwandb\u001b[0m: \tactivation: relu\n",
            "\u001b[34m\u001b[1mwandb\u001b[0m: \tbatch_size: 64\n",
            "\u001b[34m\u001b[1mwandb\u001b[0m: \tepochs: 10\n",
            "\u001b[34m\u001b[1mwandb\u001b[0m: \thidden_inputsize: 128\n",
            "\u001b[34m\u001b[1mwandb\u001b[0m: \tlearning_rate: 0.001\n",
            "\u001b[34m\u001b[1mwandb\u001b[0m: \tnumber_hidden: 5\n",
            "\u001b[34m\u001b[1mwandb\u001b[0m: \toptimizer: adam\n",
            "\u001b[34m\u001b[1mwandb\u001b[0m: \tweight_decay: 0\n",
            "\u001b[34m\u001b[1mwandb\u001b[0m: \tweight_init: xavier\n"
          ]
        },
        {
          "output_type": "display_data",
          "data": {
            "text/html": [
              "\n",
              "                    Syncing run <strong><a href=\"https://wandb.ai/cs21m053-cs21m071/Assignment%201/runs/ihfzse46\" target=\"_blank\">youthful-sweep-6</a></strong> to <a href=\"https://wandb.ai/cs21m053-cs21m071/Assignment%201\" target=\"_blank\">Weights & Biases</a> (<a href=\"https://docs.wandb.com/integrations/jupyter.html\" target=\"_blank\">docs</a>).<br/>\n",
              "Sweep page: <a href=\"https://wandb.ai/cs21m053-cs21m071/Assignment%201/sweeps/kpz1umf6\" target=\"_blank\">https://wandb.ai/cs21m053-cs21m071/Assignment%201/sweeps/kpz1umf6</a><br/>\n",
              "\n",
              "                "
            ],
            "text/plain": [
              "<IPython.core.display.HTML object>"
            ]
          },
          "metadata": {}
        },
        {
          "output_type": "stream",
          "name": "stdout",
          "text": [
            "After  1 iterations:\n",
            "validation loss; 0.19002230285563307 validation accuracy: 0.9443333333333334\n",
            "test_loss: 0.19605326307557833 test accuracy: 0.9448\n",
            "After  2 iterations:\n",
            "validation loss; 0.15863588540689377 validation accuracy: 0.9546666666666667\n",
            "test_loss: 0.15706268151242556 test accuracy: 0.9567\n",
            "After  3 iterations:\n",
            "validation loss; 0.13732162622634536 validation accuracy: 0.9625\n",
            "test_loss: 0.12996948821416446 test accuracy: 0.9654\n",
            "After  4 iterations:\n",
            "validation loss; 0.13277095797617594 validation accuracy: 0.9655\n",
            "test_loss: 0.12699583131478842 test accuracy: 0.9671\n",
            "After  5 iterations:\n",
            "validation loss; 0.14906416340901651 validation accuracy: 0.9646666666666667\n",
            "test_loss: 0.13454119622315946 test accuracy: 0.966\n",
            "After  6 iterations:\n",
            "validation loss; 0.15059113489527484 validation accuracy: 0.9676666666666667\n",
            "test_loss: 0.1352147658434312 test accuracy: 0.9694\n",
            "After  7 iterations:\n",
            "validation loss; 0.16756078999036525 validation accuracy: 0.968\n",
            "test_loss: 0.15565867689367546 test accuracy: 0.9658\n",
            "After  8 iterations:\n",
            "validation loss; 0.17202740344316678 validation accuracy: 0.966\n",
            "test_loss: 0.15747885440975326 test accuracy: 0.9684\n",
            "After  9 iterations:\n",
            "validation loss; 0.18775104015486152 validation accuracy: 0.9661666666666666\n",
            "test_loss: 0.17582394854528668 test accuracy: 0.9657\n",
            "After  10 iterations:\n",
            "validation loss; 0.1817584680090177 validation accuracy: 0.9676666666666667\n",
            "test_loss: 0.1741384139995118 test accuracy: 0.9676\n"
          ]
        },
        {
          "output_type": "display_data",
          "data": {
            "text/html": [
              "<br/>Waiting for W&B process to finish, PID 2009... <strong style=\"color:green\">(success).</strong>"
            ],
            "text/plain": [
              "<IPython.core.display.HTML object>"
            ]
          },
          "metadata": {}
        },
        {
          "output_type": "display_data",
          "data": {
            "application/vnd.jupyter.widget-view+json": {
              "model_id": "11452bd87da6441b88b3bb6b6d23e84d",
              "version_minor": 0,
              "version_major": 2
            },
            "text/plain": [
              "VBox(children=(Label(value=' 0.00MB of 0.00MB uploaded (0.00MB deduped)\\r'), FloatProgress(value=1.0, max=1.0)…"
            ]
          },
          "metadata": {}
        },
        {
          "output_type": "display_data",
          "data": {
            "text/html": [
              "<style>\n",
              "    table.wandb td:nth-child(1) { padding: 0 10px; text-align: right }\n",
              "    .wandb-row { display: flex; flex-direction: row; flex-wrap: wrap; width: 100% }\n",
              "    .wandb-col { display: flex; flex-direction: column; flex-basis: 100%; flex: 1; padding: 10px; }\n",
              "    </style>\n",
              "<div class=\"wandb-row\"><div class=\"wandb-col\">\n",
              "<h3>Run history:</h3><br/><table class=\"wandb\"><tr><td>accuracy</td><td>▁▄▇▇▇█▇█▇▇</td></tr><tr><td>epoch</td><td>▁▂▃▃▄▅▆▆▇█</td></tr><tr><td>loss</td><td>█▄▁▁▂▂▄▄▆▆</td></tr><tr><td>val_accuracy</td><td>▁▄▆▇▇██▇▇█</td></tr><tr><td>val_loss</td><td>█▄▂▁▃▃▅▆█▇</td></tr></table><br/></div><div class=\"wandb-col\">\n",
              "<h3>Run summary:</h3><br/><table class=\"wandb\"><tr><td>accuracy</td><td>0.9676</td></tr><tr><td>epoch</td><td>9</td></tr><tr><td>loss</td><td>0.17414</td></tr><tr><td>val_accuracy</td><td>0.96767</td></tr><tr><td>val_loss</td><td>0.18176</td></tr></table>\n",
              "</div></div>\n",
              "Synced 5 W&B file(s), 0 media file(s), 0 artifact file(s) and 0 other file(s)\n",
              "<br/>Synced <strong style=\"color:#cdcd00\">youthful-sweep-6</strong>: <a href=\"https://wandb.ai/cs21m053-cs21m071/Assignment%201/runs/ihfzse46\" target=\"_blank\">https://wandb.ai/cs21m053-cs21m071/Assignment%201/runs/ihfzse46</a><br/>\n",
              "Find logs at: <code>./wandb/run-20220224_204938-ihfzse46/logs</code><br/>\n"
            ],
            "text/plain": [
              "<IPython.core.display.HTML object>"
            ]
          },
          "metadata": {}
        },
        {
          "output_type": "stream",
          "name": "stderr",
          "text": [
            "\u001b[34m\u001b[1mwandb\u001b[0m: Agent Starting Run: mgr1fm1s with config:\n",
            "\u001b[34m\u001b[1mwandb\u001b[0m: \tactivation: relu\n",
            "\u001b[34m\u001b[1mwandb\u001b[0m: \tbatch_size: 64\n",
            "\u001b[34m\u001b[1mwandb\u001b[0m: \tepochs: 10\n",
            "\u001b[34m\u001b[1mwandb\u001b[0m: \thidden_inputsize: 128\n",
            "\u001b[34m\u001b[1mwandb\u001b[0m: \tlearning_rate: 0.001\n",
            "\u001b[34m\u001b[1mwandb\u001b[0m: \tnumber_hidden: 5\n",
            "\u001b[34m\u001b[1mwandb\u001b[0m: \toptimizer: adam\n",
            "\u001b[34m\u001b[1mwandb\u001b[0m: \tweight_decay: 0\n",
            "\u001b[34m\u001b[1mwandb\u001b[0m: \tweight_init: xavier\n"
          ]
        },
        {
          "output_type": "display_data",
          "data": {
            "text/html": [
              "\n",
              "                    Syncing run <strong><a href=\"https://wandb.ai/cs21m053-cs21m071/Assignment%201/runs/mgr1fm1s\" target=\"_blank\">peach-sweep-7</a></strong> to <a href=\"https://wandb.ai/cs21m053-cs21m071/Assignment%201\" target=\"_blank\">Weights & Biases</a> (<a href=\"https://docs.wandb.com/integrations/jupyter.html\" target=\"_blank\">docs</a>).<br/>\n",
              "Sweep page: <a href=\"https://wandb.ai/cs21m053-cs21m071/Assignment%201/sweeps/kpz1umf6\" target=\"_blank\">https://wandb.ai/cs21m053-cs21m071/Assignment%201/sweeps/kpz1umf6</a><br/>\n",
              "\n",
              "                "
            ],
            "text/plain": [
              "<IPython.core.display.HTML object>"
            ]
          },
          "metadata": {}
        },
        {
          "output_type": "stream",
          "name": "stdout",
          "text": [
            "After  1 iterations:\n",
            "validation loss; 0.19002230285563307 validation accuracy: 0.9443333333333334\n",
            "test_loss: 0.19605326307557833 test accuracy: 0.9448\n",
            "After  2 iterations:\n",
            "validation loss; 0.15863588540689377 validation accuracy: 0.9546666666666667\n",
            "test_loss: 0.15706268151242556 test accuracy: 0.9567\n",
            "After  3 iterations:\n",
            "validation loss; 0.13732162622634536 validation accuracy: 0.9625\n",
            "test_loss: 0.12996948821416446 test accuracy: 0.9654\n",
            "After  4 iterations:\n",
            "validation loss; 0.13277095797617594 validation accuracy: 0.9655\n",
            "test_loss: 0.12699583131478842 test accuracy: 0.9671\n"
          ]
        },
        {
          "output_type": "stream",
          "name": "stderr",
          "text": [
            "\u001b[34m\u001b[1mwandb\u001b[0m: Ctrl + C detected. Stopping sweep.\n"
          ]
        }
      ]
    }
  ],
  "metadata": {
    "colab": {
      "collapsed_sections": [],
      "name": "Assignment 1.ipynb",
      "provenance": [],
      "include_colab_link": true
    },
    "kernelspec": {
      "display_name": "Python 3",
      "name": "python3"
    },
    "language_info": {
      "name": "python"
    },
    "widgets": {
      "application/vnd.jupyter.widget-state+json": {
        "40bd085337f54e0487df593602bbde44": {
          "model_module": "@jupyter-widgets/controls",
          "model_name": "VBoxModel",
          "model_module_version": "1.5.0",
          "state": {
            "_view_name": "VBoxView",
            "_dom_classes": [],
            "_model_name": "VBoxModel",
            "_view_module": "@jupyter-widgets/controls",
            "_model_module_version": "1.5.0",
            "_view_count": null,
            "_view_module_version": "1.5.0",
            "box_style": "",
            "layout": "IPY_MODEL_9d90601709ca429ba5526f8fc9a3dd55",
            "_model_module": "@jupyter-widgets/controls",
            "children": [
              "IPY_MODEL_de69fbaccc4144cd90798d5f9055ab9c",
              "IPY_MODEL_1e60581f95dd41dc85fb43faf47f733f"
            ]
          }
        },
        "9d90601709ca429ba5526f8fc9a3dd55": {
          "model_module": "@jupyter-widgets/base",
          "model_name": "LayoutModel",
          "model_module_version": "1.2.0",
          "state": {
            "_view_name": "LayoutView",
            "grid_template_rows": null,
            "right": null,
            "justify_content": null,
            "_view_module": "@jupyter-widgets/base",
            "overflow": null,
            "_model_module_version": "1.2.0",
            "_view_count": null,
            "flex_flow": null,
            "width": null,
            "min_width": null,
            "border": null,
            "align_items": null,
            "bottom": null,
            "_model_module": "@jupyter-widgets/base",
            "top": null,
            "grid_column": null,
            "overflow_y": null,
            "overflow_x": null,
            "grid_auto_flow": null,
            "grid_area": null,
            "grid_template_columns": null,
            "flex": null,
            "_model_name": "LayoutModel",
            "justify_items": null,
            "grid_row": null,
            "max_height": null,
            "align_content": null,
            "visibility": null,
            "align_self": null,
            "height": null,
            "min_height": null,
            "padding": null,
            "grid_auto_rows": null,
            "grid_gap": null,
            "max_width": null,
            "order": null,
            "_view_module_version": "1.2.0",
            "grid_template_areas": null,
            "object_position": null,
            "object_fit": null,
            "grid_auto_columns": null,
            "margin": null,
            "display": null,
            "left": null
          }
        },
        "de69fbaccc4144cd90798d5f9055ab9c": {
          "model_module": "@jupyter-widgets/controls",
          "model_name": "LabelModel",
          "model_module_version": "1.5.0",
          "state": {
            "_view_name": "LabelView",
            "style": "IPY_MODEL_b83f328e745b40458e38eb91d0185576",
            "_dom_classes": [],
            "description": "",
            "_model_name": "LabelModel",
            "placeholder": "​",
            "_view_module": "@jupyter-widgets/controls",
            "_model_module_version": "1.5.0",
            "value": " 0.01MB of 0.01MB uploaded (0.00MB deduped)\r",
            "_view_count": null,
            "_view_module_version": "1.5.0",
            "description_tooltip": null,
            "_model_module": "@jupyter-widgets/controls",
            "layout": "IPY_MODEL_0bfae5bdd1f94889a3e2e6b16ca33811"
          }
        },
        "1e60581f95dd41dc85fb43faf47f733f": {
          "model_module": "@jupyter-widgets/controls",
          "model_name": "FloatProgressModel",
          "model_module_version": "1.5.0",
          "state": {
            "_view_name": "ProgressView",
            "style": "IPY_MODEL_b4da97b0de724ff0b58f0e9b471d94fc",
            "_dom_classes": [],
            "description": "",
            "_model_name": "FloatProgressModel",
            "bar_style": "",
            "max": 1,
            "_view_module": "@jupyter-widgets/controls",
            "_model_module_version": "1.5.0",
            "value": 1,
            "_view_count": null,
            "_view_module_version": "1.5.0",
            "orientation": "horizontal",
            "min": 0,
            "description_tooltip": null,
            "_model_module": "@jupyter-widgets/controls",
            "layout": "IPY_MODEL_5097d2ddbf2a4936ae61aef17d434bc3"
          }
        },
        "b83f328e745b40458e38eb91d0185576": {
          "model_module": "@jupyter-widgets/controls",
          "model_name": "DescriptionStyleModel",
          "model_module_version": "1.5.0",
          "state": {
            "_view_name": "StyleView",
            "_model_name": "DescriptionStyleModel",
            "description_width": "",
            "_view_module": "@jupyter-widgets/base",
            "_model_module_version": "1.5.0",
            "_view_count": null,
            "_view_module_version": "1.2.0",
            "_model_module": "@jupyter-widgets/controls"
          }
        },
        "0bfae5bdd1f94889a3e2e6b16ca33811": {
          "model_module": "@jupyter-widgets/base",
          "model_name": "LayoutModel",
          "model_module_version": "1.2.0",
          "state": {
            "_view_name": "LayoutView",
            "grid_template_rows": null,
            "right": null,
            "justify_content": null,
            "_view_module": "@jupyter-widgets/base",
            "overflow": null,
            "_model_module_version": "1.2.0",
            "_view_count": null,
            "flex_flow": null,
            "width": null,
            "min_width": null,
            "border": null,
            "align_items": null,
            "bottom": null,
            "_model_module": "@jupyter-widgets/base",
            "top": null,
            "grid_column": null,
            "overflow_y": null,
            "overflow_x": null,
            "grid_auto_flow": null,
            "grid_area": null,
            "grid_template_columns": null,
            "flex": null,
            "_model_name": "LayoutModel",
            "justify_items": null,
            "grid_row": null,
            "max_height": null,
            "align_content": null,
            "visibility": null,
            "align_self": null,
            "height": null,
            "min_height": null,
            "padding": null,
            "grid_auto_rows": null,
            "grid_gap": null,
            "max_width": null,
            "order": null,
            "_view_module_version": "1.2.0",
            "grid_template_areas": null,
            "object_position": null,
            "object_fit": null,
            "grid_auto_columns": null,
            "margin": null,
            "display": null,
            "left": null
          }
        },
        "b4da97b0de724ff0b58f0e9b471d94fc": {
          "model_module": "@jupyter-widgets/controls",
          "model_name": "ProgressStyleModel",
          "model_module_version": "1.5.0",
          "state": {
            "_view_name": "StyleView",
            "_model_name": "ProgressStyleModel",
            "description_width": "",
            "_view_module": "@jupyter-widgets/base",
            "_model_module_version": "1.5.0",
            "_view_count": null,
            "_view_module_version": "1.2.0",
            "bar_color": null,
            "_model_module": "@jupyter-widgets/controls"
          }
        },
        "5097d2ddbf2a4936ae61aef17d434bc3": {
          "model_module": "@jupyter-widgets/base",
          "model_name": "LayoutModel",
          "model_module_version": "1.2.0",
          "state": {
            "_view_name": "LayoutView",
            "grid_template_rows": null,
            "right": null,
            "justify_content": null,
            "_view_module": "@jupyter-widgets/base",
            "overflow": null,
            "_model_module_version": "1.2.0",
            "_view_count": null,
            "flex_flow": null,
            "width": null,
            "min_width": null,
            "border": null,
            "align_items": null,
            "bottom": null,
            "_model_module": "@jupyter-widgets/base",
            "top": null,
            "grid_column": null,
            "overflow_y": null,
            "overflow_x": null,
            "grid_auto_flow": null,
            "grid_area": null,
            "grid_template_columns": null,
            "flex": null,
            "_model_name": "LayoutModel",
            "justify_items": null,
            "grid_row": null,
            "max_height": null,
            "align_content": null,
            "visibility": null,
            "align_self": null,
            "height": null,
            "min_height": null,
            "padding": null,
            "grid_auto_rows": null,
            "grid_gap": null,
            "max_width": null,
            "order": null,
            "_view_module_version": "1.2.0",
            "grid_template_areas": null,
            "object_position": null,
            "object_fit": null,
            "grid_auto_columns": null,
            "margin": null,
            "display": null,
            "left": null
          }
        },
        "9577de4b7dea456d8cfd01ede80e85a8": {
          "model_module": "@jupyter-widgets/controls",
          "model_name": "VBoxModel",
          "model_module_version": "1.5.0",
          "state": {
            "_view_name": "VBoxView",
            "_dom_classes": [],
            "_model_name": "VBoxModel",
            "_view_module": "@jupyter-widgets/controls",
            "_model_module_version": "1.5.0",
            "_view_count": null,
            "_view_module_version": "1.5.0",
            "box_style": "",
            "layout": "IPY_MODEL_da956b9092e444f3a4895e5e82da6f10",
            "_model_module": "@jupyter-widgets/controls",
            "children": [
              "IPY_MODEL_a247fe1a878a453caca7fc695a646c1e",
              "IPY_MODEL_06af86b5bbe44a2b9b5a998eac11d044"
            ]
          }
        },
        "da956b9092e444f3a4895e5e82da6f10": {
          "model_module": "@jupyter-widgets/base",
          "model_name": "LayoutModel",
          "model_module_version": "1.2.0",
          "state": {
            "_view_name": "LayoutView",
            "grid_template_rows": null,
            "right": null,
            "justify_content": null,
            "_view_module": "@jupyter-widgets/base",
            "overflow": null,
            "_model_module_version": "1.2.0",
            "_view_count": null,
            "flex_flow": null,
            "width": null,
            "min_width": null,
            "border": null,
            "align_items": null,
            "bottom": null,
            "_model_module": "@jupyter-widgets/base",
            "top": null,
            "grid_column": null,
            "overflow_y": null,
            "overflow_x": null,
            "grid_auto_flow": null,
            "grid_area": null,
            "grid_template_columns": null,
            "flex": null,
            "_model_name": "LayoutModel",
            "justify_items": null,
            "grid_row": null,
            "max_height": null,
            "align_content": null,
            "visibility": null,
            "align_self": null,
            "height": null,
            "min_height": null,
            "padding": null,
            "grid_auto_rows": null,
            "grid_gap": null,
            "max_width": null,
            "order": null,
            "_view_module_version": "1.2.0",
            "grid_template_areas": null,
            "object_position": null,
            "object_fit": null,
            "grid_auto_columns": null,
            "margin": null,
            "display": null,
            "left": null
          }
        },
        "a247fe1a878a453caca7fc695a646c1e": {
          "model_module": "@jupyter-widgets/controls",
          "model_name": "LabelModel",
          "model_module_version": "1.5.0",
          "state": {
            "_view_name": "LabelView",
            "style": "IPY_MODEL_660674c090fe4b9dacc9036a70a37db0",
            "_dom_classes": [],
            "description": "",
            "_model_name": "LabelModel",
            "placeholder": "​",
            "_view_module": "@jupyter-widgets/controls",
            "_model_module_version": "1.5.0",
            "value": " 0.01MB of 0.01MB uploaded (0.00MB deduped)\r",
            "_view_count": null,
            "_view_module_version": "1.5.0",
            "description_tooltip": null,
            "_model_module": "@jupyter-widgets/controls",
            "layout": "IPY_MODEL_fea4f40545944f1f9830c036f98bdcd4"
          }
        },
        "06af86b5bbe44a2b9b5a998eac11d044": {
          "model_module": "@jupyter-widgets/controls",
          "model_name": "FloatProgressModel",
          "model_module_version": "1.5.0",
          "state": {
            "_view_name": "ProgressView",
            "style": "IPY_MODEL_5279b7f78c30470dbb489eba23f8f6ce",
            "_dom_classes": [],
            "description": "",
            "_model_name": "FloatProgressModel",
            "bar_style": "",
            "max": 1,
            "_view_module": "@jupyter-widgets/controls",
            "_model_module_version": "1.5.0",
            "value": 1,
            "_view_count": null,
            "_view_module_version": "1.5.0",
            "orientation": "horizontal",
            "min": 0,
            "description_tooltip": null,
            "_model_module": "@jupyter-widgets/controls",
            "layout": "IPY_MODEL_8515c43c97964eab9b7cab0275eeddd6"
          }
        },
        "660674c090fe4b9dacc9036a70a37db0": {
          "model_module": "@jupyter-widgets/controls",
          "model_name": "DescriptionStyleModel",
          "model_module_version": "1.5.0",
          "state": {
            "_view_name": "StyleView",
            "_model_name": "DescriptionStyleModel",
            "description_width": "",
            "_view_module": "@jupyter-widgets/base",
            "_model_module_version": "1.5.0",
            "_view_count": null,
            "_view_module_version": "1.2.0",
            "_model_module": "@jupyter-widgets/controls"
          }
        },
        "fea4f40545944f1f9830c036f98bdcd4": {
          "model_module": "@jupyter-widgets/base",
          "model_name": "LayoutModel",
          "model_module_version": "1.2.0",
          "state": {
            "_view_name": "LayoutView",
            "grid_template_rows": null,
            "right": null,
            "justify_content": null,
            "_view_module": "@jupyter-widgets/base",
            "overflow": null,
            "_model_module_version": "1.2.0",
            "_view_count": null,
            "flex_flow": null,
            "width": null,
            "min_width": null,
            "border": null,
            "align_items": null,
            "bottom": null,
            "_model_module": "@jupyter-widgets/base",
            "top": null,
            "grid_column": null,
            "overflow_y": null,
            "overflow_x": null,
            "grid_auto_flow": null,
            "grid_area": null,
            "grid_template_columns": null,
            "flex": null,
            "_model_name": "LayoutModel",
            "justify_items": null,
            "grid_row": null,
            "max_height": null,
            "align_content": null,
            "visibility": null,
            "align_self": null,
            "height": null,
            "min_height": null,
            "padding": null,
            "grid_auto_rows": null,
            "grid_gap": null,
            "max_width": null,
            "order": null,
            "_view_module_version": "1.2.0",
            "grid_template_areas": null,
            "object_position": null,
            "object_fit": null,
            "grid_auto_columns": null,
            "margin": null,
            "display": null,
            "left": null
          }
        },
        "5279b7f78c30470dbb489eba23f8f6ce": {
          "model_module": "@jupyter-widgets/controls",
          "model_name": "ProgressStyleModel",
          "model_module_version": "1.5.0",
          "state": {
            "_view_name": "StyleView",
            "_model_name": "ProgressStyleModel",
            "description_width": "",
            "_view_module": "@jupyter-widgets/base",
            "_model_module_version": "1.5.0",
            "_view_count": null,
            "_view_module_version": "1.2.0",
            "bar_color": null,
            "_model_module": "@jupyter-widgets/controls"
          }
        },
        "8515c43c97964eab9b7cab0275eeddd6": {
          "model_module": "@jupyter-widgets/base",
          "model_name": "LayoutModel",
          "model_module_version": "1.2.0",
          "state": {
            "_view_name": "LayoutView",
            "grid_template_rows": null,
            "right": null,
            "justify_content": null,
            "_view_module": "@jupyter-widgets/base",
            "overflow": null,
            "_model_module_version": "1.2.0",
            "_view_count": null,
            "flex_flow": null,
            "width": null,
            "min_width": null,
            "border": null,
            "align_items": null,
            "bottom": null,
            "_model_module": "@jupyter-widgets/base",
            "top": null,
            "grid_column": null,
            "overflow_y": null,
            "overflow_x": null,
            "grid_auto_flow": null,
            "grid_area": null,
            "grid_template_columns": null,
            "flex": null,
            "_model_name": "LayoutModel",
            "justify_items": null,
            "grid_row": null,
            "max_height": null,
            "align_content": null,
            "visibility": null,
            "align_self": null,
            "height": null,
            "min_height": null,
            "padding": null,
            "grid_auto_rows": null,
            "grid_gap": null,
            "max_width": null,
            "order": null,
            "_view_module_version": "1.2.0",
            "grid_template_areas": null,
            "object_position": null,
            "object_fit": null,
            "grid_auto_columns": null,
            "margin": null,
            "display": null,
            "left": null
          }
        },
        "f619c8d940294f70aed69006558661dc": {
          "model_module": "@jupyter-widgets/controls",
          "model_name": "VBoxModel",
          "model_module_version": "1.5.0",
          "state": {
            "_view_name": "VBoxView",
            "_dom_classes": [],
            "_model_name": "VBoxModel",
            "_view_module": "@jupyter-widgets/controls",
            "_model_module_version": "1.5.0",
            "_view_count": null,
            "_view_module_version": "1.5.0",
            "box_style": "",
            "layout": "IPY_MODEL_cec4e0c1811f4126899c52ae1079dd3e",
            "_model_module": "@jupyter-widgets/controls",
            "children": [
              "IPY_MODEL_45bba90a31a544a28d36dae334998c0b",
              "IPY_MODEL_621565f19d564a85af8b6bb024ea0348"
            ]
          }
        },
        "cec4e0c1811f4126899c52ae1079dd3e": {
          "model_module": "@jupyter-widgets/base",
          "model_name": "LayoutModel",
          "model_module_version": "1.2.0",
          "state": {
            "_view_name": "LayoutView",
            "grid_template_rows": null,
            "right": null,
            "justify_content": null,
            "_view_module": "@jupyter-widgets/base",
            "overflow": null,
            "_model_module_version": "1.2.0",
            "_view_count": null,
            "flex_flow": null,
            "width": null,
            "min_width": null,
            "border": null,
            "align_items": null,
            "bottom": null,
            "_model_module": "@jupyter-widgets/base",
            "top": null,
            "grid_column": null,
            "overflow_y": null,
            "overflow_x": null,
            "grid_auto_flow": null,
            "grid_area": null,
            "grid_template_columns": null,
            "flex": null,
            "_model_name": "LayoutModel",
            "justify_items": null,
            "grid_row": null,
            "max_height": null,
            "align_content": null,
            "visibility": null,
            "align_self": null,
            "height": null,
            "min_height": null,
            "padding": null,
            "grid_auto_rows": null,
            "grid_gap": null,
            "max_width": null,
            "order": null,
            "_view_module_version": "1.2.0",
            "grid_template_areas": null,
            "object_position": null,
            "object_fit": null,
            "grid_auto_columns": null,
            "margin": null,
            "display": null,
            "left": null
          }
        },
        "45bba90a31a544a28d36dae334998c0b": {
          "model_module": "@jupyter-widgets/controls",
          "model_name": "LabelModel",
          "model_module_version": "1.5.0",
          "state": {
            "_view_name": "LabelView",
            "style": "IPY_MODEL_1a6cfc45fbdd4ebbbfb10681ebdaca6b",
            "_dom_classes": [],
            "description": "",
            "_model_name": "LabelModel",
            "placeholder": "​",
            "_view_module": "@jupyter-widgets/controls",
            "_model_module_version": "1.5.0",
            "value": " 0.01MB of 0.01MB uploaded (0.00MB deduped)\r",
            "_view_count": null,
            "_view_module_version": "1.5.0",
            "description_tooltip": null,
            "_model_module": "@jupyter-widgets/controls",
            "layout": "IPY_MODEL_9e5737cc66324ac29fca81d102b6634f"
          }
        },
        "621565f19d564a85af8b6bb024ea0348": {
          "model_module": "@jupyter-widgets/controls",
          "model_name": "FloatProgressModel",
          "model_module_version": "1.5.0",
          "state": {
            "_view_name": "ProgressView",
            "style": "IPY_MODEL_f5bf405c7d53466aa1433376730c2ea4",
            "_dom_classes": [],
            "description": "",
            "_model_name": "FloatProgressModel",
            "bar_style": "",
            "max": 1,
            "_view_module": "@jupyter-widgets/controls",
            "_model_module_version": "1.5.0",
            "value": 1,
            "_view_count": null,
            "_view_module_version": "1.5.0",
            "orientation": "horizontal",
            "min": 0,
            "description_tooltip": null,
            "_model_module": "@jupyter-widgets/controls",
            "layout": "IPY_MODEL_104f901087944df7a585c7ae4a84e24c"
          }
        },
        "1a6cfc45fbdd4ebbbfb10681ebdaca6b": {
          "model_module": "@jupyter-widgets/controls",
          "model_name": "DescriptionStyleModel",
          "model_module_version": "1.5.0",
          "state": {
            "_view_name": "StyleView",
            "_model_name": "DescriptionStyleModel",
            "description_width": "",
            "_view_module": "@jupyter-widgets/base",
            "_model_module_version": "1.5.0",
            "_view_count": null,
            "_view_module_version": "1.2.0",
            "_model_module": "@jupyter-widgets/controls"
          }
        },
        "9e5737cc66324ac29fca81d102b6634f": {
          "model_module": "@jupyter-widgets/base",
          "model_name": "LayoutModel",
          "model_module_version": "1.2.0",
          "state": {
            "_view_name": "LayoutView",
            "grid_template_rows": null,
            "right": null,
            "justify_content": null,
            "_view_module": "@jupyter-widgets/base",
            "overflow": null,
            "_model_module_version": "1.2.0",
            "_view_count": null,
            "flex_flow": null,
            "width": null,
            "min_width": null,
            "border": null,
            "align_items": null,
            "bottom": null,
            "_model_module": "@jupyter-widgets/base",
            "top": null,
            "grid_column": null,
            "overflow_y": null,
            "overflow_x": null,
            "grid_auto_flow": null,
            "grid_area": null,
            "grid_template_columns": null,
            "flex": null,
            "_model_name": "LayoutModel",
            "justify_items": null,
            "grid_row": null,
            "max_height": null,
            "align_content": null,
            "visibility": null,
            "align_self": null,
            "height": null,
            "min_height": null,
            "padding": null,
            "grid_auto_rows": null,
            "grid_gap": null,
            "max_width": null,
            "order": null,
            "_view_module_version": "1.2.0",
            "grid_template_areas": null,
            "object_position": null,
            "object_fit": null,
            "grid_auto_columns": null,
            "margin": null,
            "display": null,
            "left": null
          }
        },
        "f5bf405c7d53466aa1433376730c2ea4": {
          "model_module": "@jupyter-widgets/controls",
          "model_name": "ProgressStyleModel",
          "model_module_version": "1.5.0",
          "state": {
            "_view_name": "StyleView",
            "_model_name": "ProgressStyleModel",
            "description_width": "",
            "_view_module": "@jupyter-widgets/base",
            "_model_module_version": "1.5.0",
            "_view_count": null,
            "_view_module_version": "1.2.0",
            "bar_color": null,
            "_model_module": "@jupyter-widgets/controls"
          }
        },
        "104f901087944df7a585c7ae4a84e24c": {
          "model_module": "@jupyter-widgets/base",
          "model_name": "LayoutModel",
          "model_module_version": "1.2.0",
          "state": {
            "_view_name": "LayoutView",
            "grid_template_rows": null,
            "right": null,
            "justify_content": null,
            "_view_module": "@jupyter-widgets/base",
            "overflow": null,
            "_model_module_version": "1.2.0",
            "_view_count": null,
            "flex_flow": null,
            "width": null,
            "min_width": null,
            "border": null,
            "align_items": null,
            "bottom": null,
            "_model_module": "@jupyter-widgets/base",
            "top": null,
            "grid_column": null,
            "overflow_y": null,
            "overflow_x": null,
            "grid_auto_flow": null,
            "grid_area": null,
            "grid_template_columns": null,
            "flex": null,
            "_model_name": "LayoutModel",
            "justify_items": null,
            "grid_row": null,
            "max_height": null,
            "align_content": null,
            "visibility": null,
            "align_self": null,
            "height": null,
            "min_height": null,
            "padding": null,
            "grid_auto_rows": null,
            "grid_gap": null,
            "max_width": null,
            "order": null,
            "_view_module_version": "1.2.0",
            "grid_template_areas": null,
            "object_position": null,
            "object_fit": null,
            "grid_auto_columns": null,
            "margin": null,
            "display": null,
            "left": null
          }
        },
        "6d446c8ff37f43e6a730f2fd9e4babb5": {
          "model_module": "@jupyter-widgets/controls",
          "model_name": "VBoxModel",
          "model_module_version": "1.5.0",
          "state": {
            "_view_name": "VBoxView",
            "_dom_classes": [],
            "_model_name": "VBoxModel",
            "_view_module": "@jupyter-widgets/controls",
            "_model_module_version": "1.5.0",
            "_view_count": null,
            "_view_module_version": "1.5.0",
            "box_style": "",
            "layout": "IPY_MODEL_a64d6cbf3c3c4f32906f3f368eccff8e",
            "_model_module": "@jupyter-widgets/controls",
            "children": [
              "IPY_MODEL_25d72d022b6a4441b9eba70627bdb159",
              "IPY_MODEL_b4034014899942319ae0be34e2e13ffe"
            ]
          }
        },
        "a64d6cbf3c3c4f32906f3f368eccff8e": {
          "model_module": "@jupyter-widgets/base",
          "model_name": "LayoutModel",
          "model_module_version": "1.2.0",
          "state": {
            "_view_name": "LayoutView",
            "grid_template_rows": null,
            "right": null,
            "justify_content": null,
            "_view_module": "@jupyter-widgets/base",
            "overflow": null,
            "_model_module_version": "1.2.0",
            "_view_count": null,
            "flex_flow": null,
            "width": null,
            "min_width": null,
            "border": null,
            "align_items": null,
            "bottom": null,
            "_model_module": "@jupyter-widgets/base",
            "top": null,
            "grid_column": null,
            "overflow_y": null,
            "overflow_x": null,
            "grid_auto_flow": null,
            "grid_area": null,
            "grid_template_columns": null,
            "flex": null,
            "_model_name": "LayoutModel",
            "justify_items": null,
            "grid_row": null,
            "max_height": null,
            "align_content": null,
            "visibility": null,
            "align_self": null,
            "height": null,
            "min_height": null,
            "padding": null,
            "grid_auto_rows": null,
            "grid_gap": null,
            "max_width": null,
            "order": null,
            "_view_module_version": "1.2.0",
            "grid_template_areas": null,
            "object_position": null,
            "object_fit": null,
            "grid_auto_columns": null,
            "margin": null,
            "display": null,
            "left": null
          }
        },
        "25d72d022b6a4441b9eba70627bdb159": {
          "model_module": "@jupyter-widgets/controls",
          "model_name": "LabelModel",
          "model_module_version": "1.5.0",
          "state": {
            "_view_name": "LabelView",
            "style": "IPY_MODEL_6296a1aa83574c929743247b3b460175",
            "_dom_classes": [],
            "description": "",
            "_model_name": "LabelModel",
            "placeholder": "​",
            "_view_module": "@jupyter-widgets/controls",
            "_model_module_version": "1.5.0",
            "value": " 0.01MB of 0.01MB uploaded (0.00MB deduped)\r",
            "_view_count": null,
            "_view_module_version": "1.5.0",
            "description_tooltip": null,
            "_model_module": "@jupyter-widgets/controls",
            "layout": "IPY_MODEL_a6f819f51b3c47e3bceba684176f509a"
          }
        },
        "b4034014899942319ae0be34e2e13ffe": {
          "model_module": "@jupyter-widgets/controls",
          "model_name": "FloatProgressModel",
          "model_module_version": "1.5.0",
          "state": {
            "_view_name": "ProgressView",
            "style": "IPY_MODEL_493dbbd9783a4447b44fbfa4ad767d0e",
            "_dom_classes": [],
            "description": "",
            "_model_name": "FloatProgressModel",
            "bar_style": "",
            "max": 1,
            "_view_module": "@jupyter-widgets/controls",
            "_model_module_version": "1.5.0",
            "value": 1,
            "_view_count": null,
            "_view_module_version": "1.5.0",
            "orientation": "horizontal",
            "min": 0,
            "description_tooltip": null,
            "_model_module": "@jupyter-widgets/controls",
            "layout": "IPY_MODEL_671f13e630a641cc9cf23a03bb09b922"
          }
        },
        "6296a1aa83574c929743247b3b460175": {
          "model_module": "@jupyter-widgets/controls",
          "model_name": "DescriptionStyleModel",
          "model_module_version": "1.5.0",
          "state": {
            "_view_name": "StyleView",
            "_model_name": "DescriptionStyleModel",
            "description_width": "",
            "_view_module": "@jupyter-widgets/base",
            "_model_module_version": "1.5.0",
            "_view_count": null,
            "_view_module_version": "1.2.0",
            "_model_module": "@jupyter-widgets/controls"
          }
        },
        "a6f819f51b3c47e3bceba684176f509a": {
          "model_module": "@jupyter-widgets/base",
          "model_name": "LayoutModel",
          "model_module_version": "1.2.0",
          "state": {
            "_view_name": "LayoutView",
            "grid_template_rows": null,
            "right": null,
            "justify_content": null,
            "_view_module": "@jupyter-widgets/base",
            "overflow": null,
            "_model_module_version": "1.2.0",
            "_view_count": null,
            "flex_flow": null,
            "width": null,
            "min_width": null,
            "border": null,
            "align_items": null,
            "bottom": null,
            "_model_module": "@jupyter-widgets/base",
            "top": null,
            "grid_column": null,
            "overflow_y": null,
            "overflow_x": null,
            "grid_auto_flow": null,
            "grid_area": null,
            "grid_template_columns": null,
            "flex": null,
            "_model_name": "LayoutModel",
            "justify_items": null,
            "grid_row": null,
            "max_height": null,
            "align_content": null,
            "visibility": null,
            "align_self": null,
            "height": null,
            "min_height": null,
            "padding": null,
            "grid_auto_rows": null,
            "grid_gap": null,
            "max_width": null,
            "order": null,
            "_view_module_version": "1.2.0",
            "grid_template_areas": null,
            "object_position": null,
            "object_fit": null,
            "grid_auto_columns": null,
            "margin": null,
            "display": null,
            "left": null
          }
        },
        "493dbbd9783a4447b44fbfa4ad767d0e": {
          "model_module": "@jupyter-widgets/controls",
          "model_name": "ProgressStyleModel",
          "model_module_version": "1.5.0",
          "state": {
            "_view_name": "StyleView",
            "_model_name": "ProgressStyleModel",
            "description_width": "",
            "_view_module": "@jupyter-widgets/base",
            "_model_module_version": "1.5.0",
            "_view_count": null,
            "_view_module_version": "1.2.0",
            "bar_color": null,
            "_model_module": "@jupyter-widgets/controls"
          }
        },
        "671f13e630a641cc9cf23a03bb09b922": {
          "model_module": "@jupyter-widgets/base",
          "model_name": "LayoutModel",
          "model_module_version": "1.2.0",
          "state": {
            "_view_name": "LayoutView",
            "grid_template_rows": null,
            "right": null,
            "justify_content": null,
            "_view_module": "@jupyter-widgets/base",
            "overflow": null,
            "_model_module_version": "1.2.0",
            "_view_count": null,
            "flex_flow": null,
            "width": null,
            "min_width": null,
            "border": null,
            "align_items": null,
            "bottom": null,
            "_model_module": "@jupyter-widgets/base",
            "top": null,
            "grid_column": null,
            "overflow_y": null,
            "overflow_x": null,
            "grid_auto_flow": null,
            "grid_area": null,
            "grid_template_columns": null,
            "flex": null,
            "_model_name": "LayoutModel",
            "justify_items": null,
            "grid_row": null,
            "max_height": null,
            "align_content": null,
            "visibility": null,
            "align_self": null,
            "height": null,
            "min_height": null,
            "padding": null,
            "grid_auto_rows": null,
            "grid_gap": null,
            "max_width": null,
            "order": null,
            "_view_module_version": "1.2.0",
            "grid_template_areas": null,
            "object_position": null,
            "object_fit": null,
            "grid_auto_columns": null,
            "margin": null,
            "display": null,
            "left": null
          }
        },
        "169f914824ee4e9198c144c519adea21": {
          "model_module": "@jupyter-widgets/controls",
          "model_name": "VBoxModel",
          "model_module_version": "1.5.0",
          "state": {
            "_view_name": "VBoxView",
            "_dom_classes": [],
            "_model_name": "VBoxModel",
            "_view_module": "@jupyter-widgets/controls",
            "_model_module_version": "1.5.0",
            "_view_count": null,
            "_view_module_version": "1.5.0",
            "box_style": "",
            "layout": "IPY_MODEL_f299028b3a57462488ce87da207ae03a",
            "_model_module": "@jupyter-widgets/controls",
            "children": [
              "IPY_MODEL_bf3df7b091574ef9afdb7ce828941fb6",
              "IPY_MODEL_b199f079b64e4b2f9ec28800571b5ee4"
            ]
          }
        },
        "f299028b3a57462488ce87da207ae03a": {
          "model_module": "@jupyter-widgets/base",
          "model_name": "LayoutModel",
          "model_module_version": "1.2.0",
          "state": {
            "_view_name": "LayoutView",
            "grid_template_rows": null,
            "right": null,
            "justify_content": null,
            "_view_module": "@jupyter-widgets/base",
            "overflow": null,
            "_model_module_version": "1.2.0",
            "_view_count": null,
            "flex_flow": null,
            "width": null,
            "min_width": null,
            "border": null,
            "align_items": null,
            "bottom": null,
            "_model_module": "@jupyter-widgets/base",
            "top": null,
            "grid_column": null,
            "overflow_y": null,
            "overflow_x": null,
            "grid_auto_flow": null,
            "grid_area": null,
            "grid_template_columns": null,
            "flex": null,
            "_model_name": "LayoutModel",
            "justify_items": null,
            "grid_row": null,
            "max_height": null,
            "align_content": null,
            "visibility": null,
            "align_self": null,
            "height": null,
            "min_height": null,
            "padding": null,
            "grid_auto_rows": null,
            "grid_gap": null,
            "max_width": null,
            "order": null,
            "_view_module_version": "1.2.0",
            "grid_template_areas": null,
            "object_position": null,
            "object_fit": null,
            "grid_auto_columns": null,
            "margin": null,
            "display": null,
            "left": null
          }
        },
        "bf3df7b091574ef9afdb7ce828941fb6": {
          "model_module": "@jupyter-widgets/controls",
          "model_name": "LabelModel",
          "model_module_version": "1.5.0",
          "state": {
            "_view_name": "LabelView",
            "style": "IPY_MODEL_a3d115a5803449b1b113273bb8bd5bd1",
            "_dom_classes": [],
            "description": "",
            "_model_name": "LabelModel",
            "placeholder": "​",
            "_view_module": "@jupyter-widgets/controls",
            "_model_module_version": "1.5.0",
            "value": " 0.01MB of 0.01MB uploaded (0.00MB deduped)\r",
            "_view_count": null,
            "_view_module_version": "1.5.0",
            "description_tooltip": null,
            "_model_module": "@jupyter-widgets/controls",
            "layout": "IPY_MODEL_0f0c882be91c4ca09a089469a2ec3e69"
          }
        },
        "b199f079b64e4b2f9ec28800571b5ee4": {
          "model_module": "@jupyter-widgets/controls",
          "model_name": "FloatProgressModel",
          "model_module_version": "1.5.0",
          "state": {
            "_view_name": "ProgressView",
            "style": "IPY_MODEL_d778105783cd4c4489d8b7d238792eda",
            "_dom_classes": [],
            "description": "",
            "_model_name": "FloatProgressModel",
            "bar_style": "",
            "max": 1,
            "_view_module": "@jupyter-widgets/controls",
            "_model_module_version": "1.5.0",
            "value": 1,
            "_view_count": null,
            "_view_module_version": "1.5.0",
            "orientation": "horizontal",
            "min": 0,
            "description_tooltip": null,
            "_model_module": "@jupyter-widgets/controls",
            "layout": "IPY_MODEL_8e2bfd82e0c2491eb699deac158c29db"
          }
        },
        "a3d115a5803449b1b113273bb8bd5bd1": {
          "model_module": "@jupyter-widgets/controls",
          "model_name": "DescriptionStyleModel",
          "model_module_version": "1.5.0",
          "state": {
            "_view_name": "StyleView",
            "_model_name": "DescriptionStyleModel",
            "description_width": "",
            "_view_module": "@jupyter-widgets/base",
            "_model_module_version": "1.5.0",
            "_view_count": null,
            "_view_module_version": "1.2.0",
            "_model_module": "@jupyter-widgets/controls"
          }
        },
        "0f0c882be91c4ca09a089469a2ec3e69": {
          "model_module": "@jupyter-widgets/base",
          "model_name": "LayoutModel",
          "model_module_version": "1.2.0",
          "state": {
            "_view_name": "LayoutView",
            "grid_template_rows": null,
            "right": null,
            "justify_content": null,
            "_view_module": "@jupyter-widgets/base",
            "overflow": null,
            "_model_module_version": "1.2.0",
            "_view_count": null,
            "flex_flow": null,
            "width": null,
            "min_width": null,
            "border": null,
            "align_items": null,
            "bottom": null,
            "_model_module": "@jupyter-widgets/base",
            "top": null,
            "grid_column": null,
            "overflow_y": null,
            "overflow_x": null,
            "grid_auto_flow": null,
            "grid_area": null,
            "grid_template_columns": null,
            "flex": null,
            "_model_name": "LayoutModel",
            "justify_items": null,
            "grid_row": null,
            "max_height": null,
            "align_content": null,
            "visibility": null,
            "align_self": null,
            "height": null,
            "min_height": null,
            "padding": null,
            "grid_auto_rows": null,
            "grid_gap": null,
            "max_width": null,
            "order": null,
            "_view_module_version": "1.2.0",
            "grid_template_areas": null,
            "object_position": null,
            "object_fit": null,
            "grid_auto_columns": null,
            "margin": null,
            "display": null,
            "left": null
          }
        },
        "d778105783cd4c4489d8b7d238792eda": {
          "model_module": "@jupyter-widgets/controls",
          "model_name": "ProgressStyleModel",
          "model_module_version": "1.5.0",
          "state": {
            "_view_name": "StyleView",
            "_model_name": "ProgressStyleModel",
            "description_width": "",
            "_view_module": "@jupyter-widgets/base",
            "_model_module_version": "1.5.0",
            "_view_count": null,
            "_view_module_version": "1.2.0",
            "bar_color": null,
            "_model_module": "@jupyter-widgets/controls"
          }
        },
        "8e2bfd82e0c2491eb699deac158c29db": {
          "model_module": "@jupyter-widgets/base",
          "model_name": "LayoutModel",
          "model_module_version": "1.2.0",
          "state": {
            "_view_name": "LayoutView",
            "grid_template_rows": null,
            "right": null,
            "justify_content": null,
            "_view_module": "@jupyter-widgets/base",
            "overflow": null,
            "_model_module_version": "1.2.0",
            "_view_count": null,
            "flex_flow": null,
            "width": null,
            "min_width": null,
            "border": null,
            "align_items": null,
            "bottom": null,
            "_model_module": "@jupyter-widgets/base",
            "top": null,
            "grid_column": null,
            "overflow_y": null,
            "overflow_x": null,
            "grid_auto_flow": null,
            "grid_area": null,
            "grid_template_columns": null,
            "flex": null,
            "_model_name": "LayoutModel",
            "justify_items": null,
            "grid_row": null,
            "max_height": null,
            "align_content": null,
            "visibility": null,
            "align_self": null,
            "height": null,
            "min_height": null,
            "padding": null,
            "grid_auto_rows": null,
            "grid_gap": null,
            "max_width": null,
            "order": null,
            "_view_module_version": "1.2.0",
            "grid_template_areas": null,
            "object_position": null,
            "object_fit": null,
            "grid_auto_columns": null,
            "margin": null,
            "display": null,
            "left": null
          }
        },
        "949ced0f993e42a1aa30e607f4536b8b": {
          "model_module": "@jupyter-widgets/controls",
          "model_name": "VBoxModel",
          "model_module_version": "1.5.0",
          "state": {
            "_view_name": "VBoxView",
            "_dom_classes": [],
            "_model_name": "VBoxModel",
            "_view_module": "@jupyter-widgets/controls",
            "_model_module_version": "1.5.0",
            "_view_count": null,
            "_view_module_version": "1.5.0",
            "box_style": "",
            "layout": "IPY_MODEL_c694609ae7674c9e8bfa1f211fa52fd2",
            "_model_module": "@jupyter-widgets/controls",
            "children": [
              "IPY_MODEL_95b4987000ec4989bd439dd1211e5414",
              "IPY_MODEL_5c1177368d024580a81dfe41d38865cd"
            ]
          }
        },
        "c694609ae7674c9e8bfa1f211fa52fd2": {
          "model_module": "@jupyter-widgets/base",
          "model_name": "LayoutModel",
          "model_module_version": "1.2.0",
          "state": {
            "_view_name": "LayoutView",
            "grid_template_rows": null,
            "right": null,
            "justify_content": null,
            "_view_module": "@jupyter-widgets/base",
            "overflow": null,
            "_model_module_version": "1.2.0",
            "_view_count": null,
            "flex_flow": null,
            "width": null,
            "min_width": null,
            "border": null,
            "align_items": null,
            "bottom": null,
            "_model_module": "@jupyter-widgets/base",
            "top": null,
            "grid_column": null,
            "overflow_y": null,
            "overflow_x": null,
            "grid_auto_flow": null,
            "grid_area": null,
            "grid_template_columns": null,
            "flex": null,
            "_model_name": "LayoutModel",
            "justify_items": null,
            "grid_row": null,
            "max_height": null,
            "align_content": null,
            "visibility": null,
            "align_self": null,
            "height": null,
            "min_height": null,
            "padding": null,
            "grid_auto_rows": null,
            "grid_gap": null,
            "max_width": null,
            "order": null,
            "_view_module_version": "1.2.0",
            "grid_template_areas": null,
            "object_position": null,
            "object_fit": null,
            "grid_auto_columns": null,
            "margin": null,
            "display": null,
            "left": null
          }
        },
        "95b4987000ec4989bd439dd1211e5414": {
          "model_module": "@jupyter-widgets/controls",
          "model_name": "LabelModel",
          "model_module_version": "1.5.0",
          "state": {
            "_view_name": "LabelView",
            "style": "IPY_MODEL_8220c42ff20a438293963c33a03b920a",
            "_dom_classes": [],
            "description": "",
            "_model_name": "LabelModel",
            "placeholder": "​",
            "_view_module": "@jupyter-widgets/controls",
            "_model_module_version": "1.5.0",
            "value": " 0.01MB of 0.01MB uploaded (0.00MB deduped)\r",
            "_view_count": null,
            "_view_module_version": "1.5.0",
            "description_tooltip": null,
            "_model_module": "@jupyter-widgets/controls",
            "layout": "IPY_MODEL_ea3b4fc016864b69a97c94343c51951a"
          }
        },
        "5c1177368d024580a81dfe41d38865cd": {
          "model_module": "@jupyter-widgets/controls",
          "model_name": "FloatProgressModel",
          "model_module_version": "1.5.0",
          "state": {
            "_view_name": "ProgressView",
            "style": "IPY_MODEL_f44a2ca14fc5412795146aec1b73c11f",
            "_dom_classes": [],
            "description": "",
            "_model_name": "FloatProgressModel",
            "bar_style": "",
            "max": 1,
            "_view_module": "@jupyter-widgets/controls",
            "_model_module_version": "1.5.0",
            "value": 1,
            "_view_count": null,
            "_view_module_version": "1.5.0",
            "orientation": "horizontal",
            "min": 0,
            "description_tooltip": null,
            "_model_module": "@jupyter-widgets/controls",
            "layout": "IPY_MODEL_7fcc17911b3142379a1c4510b4f85863"
          }
        },
        "8220c42ff20a438293963c33a03b920a": {
          "model_module": "@jupyter-widgets/controls",
          "model_name": "DescriptionStyleModel",
          "model_module_version": "1.5.0",
          "state": {
            "_view_name": "StyleView",
            "_model_name": "DescriptionStyleModel",
            "description_width": "",
            "_view_module": "@jupyter-widgets/base",
            "_model_module_version": "1.5.0",
            "_view_count": null,
            "_view_module_version": "1.2.0",
            "_model_module": "@jupyter-widgets/controls"
          }
        },
        "ea3b4fc016864b69a97c94343c51951a": {
          "model_module": "@jupyter-widgets/base",
          "model_name": "LayoutModel",
          "model_module_version": "1.2.0",
          "state": {
            "_view_name": "LayoutView",
            "grid_template_rows": null,
            "right": null,
            "justify_content": null,
            "_view_module": "@jupyter-widgets/base",
            "overflow": null,
            "_model_module_version": "1.2.0",
            "_view_count": null,
            "flex_flow": null,
            "width": null,
            "min_width": null,
            "border": null,
            "align_items": null,
            "bottom": null,
            "_model_module": "@jupyter-widgets/base",
            "top": null,
            "grid_column": null,
            "overflow_y": null,
            "overflow_x": null,
            "grid_auto_flow": null,
            "grid_area": null,
            "grid_template_columns": null,
            "flex": null,
            "_model_name": "LayoutModel",
            "justify_items": null,
            "grid_row": null,
            "max_height": null,
            "align_content": null,
            "visibility": null,
            "align_self": null,
            "height": null,
            "min_height": null,
            "padding": null,
            "grid_auto_rows": null,
            "grid_gap": null,
            "max_width": null,
            "order": null,
            "_view_module_version": "1.2.0",
            "grid_template_areas": null,
            "object_position": null,
            "object_fit": null,
            "grid_auto_columns": null,
            "margin": null,
            "display": null,
            "left": null
          }
        },
        "f44a2ca14fc5412795146aec1b73c11f": {
          "model_module": "@jupyter-widgets/controls",
          "model_name": "ProgressStyleModel",
          "model_module_version": "1.5.0",
          "state": {
            "_view_name": "StyleView",
            "_model_name": "ProgressStyleModel",
            "description_width": "",
            "_view_module": "@jupyter-widgets/base",
            "_model_module_version": "1.5.0",
            "_view_count": null,
            "_view_module_version": "1.2.0",
            "bar_color": null,
            "_model_module": "@jupyter-widgets/controls"
          }
        },
        "7fcc17911b3142379a1c4510b4f85863": {
          "model_module": "@jupyter-widgets/base",
          "model_name": "LayoutModel",
          "model_module_version": "1.2.0",
          "state": {
            "_view_name": "LayoutView",
            "grid_template_rows": null,
            "right": null,
            "justify_content": null,
            "_view_module": "@jupyter-widgets/base",
            "overflow": null,
            "_model_module_version": "1.2.0",
            "_view_count": null,
            "flex_flow": null,
            "width": null,
            "min_width": null,
            "border": null,
            "align_items": null,
            "bottom": null,
            "_model_module": "@jupyter-widgets/base",
            "top": null,
            "grid_column": null,
            "overflow_y": null,
            "overflow_x": null,
            "grid_auto_flow": null,
            "grid_area": null,
            "grid_template_columns": null,
            "flex": null,
            "_model_name": "LayoutModel",
            "justify_items": null,
            "grid_row": null,
            "max_height": null,
            "align_content": null,
            "visibility": null,
            "align_self": null,
            "height": null,
            "min_height": null,
            "padding": null,
            "grid_auto_rows": null,
            "grid_gap": null,
            "max_width": null,
            "order": null,
            "_view_module_version": "1.2.0",
            "grid_template_areas": null,
            "object_position": null,
            "object_fit": null,
            "grid_auto_columns": null,
            "margin": null,
            "display": null,
            "left": null
          }
        },
        "81a1b5a810ec43b2891e09da385154c7": {
          "model_module": "@jupyter-widgets/controls",
          "model_name": "VBoxModel",
          "model_module_version": "1.5.0",
          "state": {
            "_view_name": "VBoxView",
            "_dom_classes": [],
            "_model_name": "VBoxModel",
            "_view_module": "@jupyter-widgets/controls",
            "_model_module_version": "1.5.0",
            "_view_count": null,
            "_view_module_version": "1.5.0",
            "box_style": "",
            "layout": "IPY_MODEL_8583cb21cef143f4bb596118c7603beb",
            "_model_module": "@jupyter-widgets/controls",
            "children": [
              "IPY_MODEL_f3133f0219d04f7eaa81e6a9c3903241",
              "IPY_MODEL_538e056e1a734456ad4bd3ee239232a3"
            ]
          }
        },
        "8583cb21cef143f4bb596118c7603beb": {
          "model_module": "@jupyter-widgets/base",
          "model_name": "LayoutModel",
          "model_module_version": "1.2.0",
          "state": {
            "_view_name": "LayoutView",
            "grid_template_rows": null,
            "right": null,
            "justify_content": null,
            "_view_module": "@jupyter-widgets/base",
            "overflow": null,
            "_model_module_version": "1.2.0",
            "_view_count": null,
            "flex_flow": null,
            "width": null,
            "min_width": null,
            "border": null,
            "align_items": null,
            "bottom": null,
            "_model_module": "@jupyter-widgets/base",
            "top": null,
            "grid_column": null,
            "overflow_y": null,
            "overflow_x": null,
            "grid_auto_flow": null,
            "grid_area": null,
            "grid_template_columns": null,
            "flex": null,
            "_model_name": "LayoutModel",
            "justify_items": null,
            "grid_row": null,
            "max_height": null,
            "align_content": null,
            "visibility": null,
            "align_self": null,
            "height": null,
            "min_height": null,
            "padding": null,
            "grid_auto_rows": null,
            "grid_gap": null,
            "max_width": null,
            "order": null,
            "_view_module_version": "1.2.0",
            "grid_template_areas": null,
            "object_position": null,
            "object_fit": null,
            "grid_auto_columns": null,
            "margin": null,
            "display": null,
            "left": null
          }
        },
        "f3133f0219d04f7eaa81e6a9c3903241": {
          "model_module": "@jupyter-widgets/controls",
          "model_name": "LabelModel",
          "model_module_version": "1.5.0",
          "state": {
            "_view_name": "LabelView",
            "style": "IPY_MODEL_47d9b1d4dcd549e8b7d7fa167dd6cea1",
            "_dom_classes": [],
            "description": "",
            "_model_name": "LabelModel",
            "placeholder": "​",
            "_view_module": "@jupyter-widgets/controls",
            "_model_module_version": "1.5.0",
            "value": " 0.01MB of 0.01MB uploaded (0.00MB deduped)\r",
            "_view_count": null,
            "_view_module_version": "1.5.0",
            "description_tooltip": null,
            "_model_module": "@jupyter-widgets/controls",
            "layout": "IPY_MODEL_2c8ea92ec7454528aff0e1056e882f29"
          }
        },
        "538e056e1a734456ad4bd3ee239232a3": {
          "model_module": "@jupyter-widgets/controls",
          "model_name": "FloatProgressModel",
          "model_module_version": "1.5.0",
          "state": {
            "_view_name": "ProgressView",
            "style": "IPY_MODEL_16a12847d53f4b82a460de36b0c4f503",
            "_dom_classes": [],
            "description": "",
            "_model_name": "FloatProgressModel",
            "bar_style": "",
            "max": 1,
            "_view_module": "@jupyter-widgets/controls",
            "_model_module_version": "1.5.0",
            "value": 1,
            "_view_count": null,
            "_view_module_version": "1.5.0",
            "orientation": "horizontal",
            "min": 0,
            "description_tooltip": null,
            "_model_module": "@jupyter-widgets/controls",
            "layout": "IPY_MODEL_3a5cf1a3ee9b4407ac98c3f75aa8d29e"
          }
        },
        "47d9b1d4dcd549e8b7d7fa167dd6cea1": {
          "model_module": "@jupyter-widgets/controls",
          "model_name": "DescriptionStyleModel",
          "model_module_version": "1.5.0",
          "state": {
            "_view_name": "StyleView",
            "_model_name": "DescriptionStyleModel",
            "description_width": "",
            "_view_module": "@jupyter-widgets/base",
            "_model_module_version": "1.5.0",
            "_view_count": null,
            "_view_module_version": "1.2.0",
            "_model_module": "@jupyter-widgets/controls"
          }
        },
        "2c8ea92ec7454528aff0e1056e882f29": {
          "model_module": "@jupyter-widgets/base",
          "model_name": "LayoutModel",
          "model_module_version": "1.2.0",
          "state": {
            "_view_name": "LayoutView",
            "grid_template_rows": null,
            "right": null,
            "justify_content": null,
            "_view_module": "@jupyter-widgets/base",
            "overflow": null,
            "_model_module_version": "1.2.0",
            "_view_count": null,
            "flex_flow": null,
            "width": null,
            "min_width": null,
            "border": null,
            "align_items": null,
            "bottom": null,
            "_model_module": "@jupyter-widgets/base",
            "top": null,
            "grid_column": null,
            "overflow_y": null,
            "overflow_x": null,
            "grid_auto_flow": null,
            "grid_area": null,
            "grid_template_columns": null,
            "flex": null,
            "_model_name": "LayoutModel",
            "justify_items": null,
            "grid_row": null,
            "max_height": null,
            "align_content": null,
            "visibility": null,
            "align_self": null,
            "height": null,
            "min_height": null,
            "padding": null,
            "grid_auto_rows": null,
            "grid_gap": null,
            "max_width": null,
            "order": null,
            "_view_module_version": "1.2.0",
            "grid_template_areas": null,
            "object_position": null,
            "object_fit": null,
            "grid_auto_columns": null,
            "margin": null,
            "display": null,
            "left": null
          }
        },
        "16a12847d53f4b82a460de36b0c4f503": {
          "model_module": "@jupyter-widgets/controls",
          "model_name": "ProgressStyleModel",
          "model_module_version": "1.5.0",
          "state": {
            "_view_name": "StyleView",
            "_model_name": "ProgressStyleModel",
            "description_width": "",
            "_view_module": "@jupyter-widgets/base",
            "_model_module_version": "1.5.0",
            "_view_count": null,
            "_view_module_version": "1.2.0",
            "bar_color": null,
            "_model_module": "@jupyter-widgets/controls"
          }
        },
        "3a5cf1a3ee9b4407ac98c3f75aa8d29e": {
          "model_module": "@jupyter-widgets/base",
          "model_name": "LayoutModel",
          "model_module_version": "1.2.0",
          "state": {
            "_view_name": "LayoutView",
            "grid_template_rows": null,
            "right": null,
            "justify_content": null,
            "_view_module": "@jupyter-widgets/base",
            "overflow": null,
            "_model_module_version": "1.2.0",
            "_view_count": null,
            "flex_flow": null,
            "width": null,
            "min_width": null,
            "border": null,
            "align_items": null,
            "bottom": null,
            "_model_module": "@jupyter-widgets/base",
            "top": null,
            "grid_column": null,
            "overflow_y": null,
            "overflow_x": null,
            "grid_auto_flow": null,
            "grid_area": null,
            "grid_template_columns": null,
            "flex": null,
            "_model_name": "LayoutModel",
            "justify_items": null,
            "grid_row": null,
            "max_height": null,
            "align_content": null,
            "visibility": null,
            "align_self": null,
            "height": null,
            "min_height": null,
            "padding": null,
            "grid_auto_rows": null,
            "grid_gap": null,
            "max_width": null,
            "order": null,
            "_view_module_version": "1.2.0",
            "grid_template_areas": null,
            "object_position": null,
            "object_fit": null,
            "grid_auto_columns": null,
            "margin": null,
            "display": null,
            "left": null
          }
        },
        "2be7688756e54a02a4990f1701c7b7a5": {
          "model_module": "@jupyter-widgets/controls",
          "model_name": "VBoxModel",
          "model_module_version": "1.5.0",
          "state": {
            "_view_name": "VBoxView",
            "_dom_classes": [],
            "_model_name": "VBoxModel",
            "_view_module": "@jupyter-widgets/controls",
            "_model_module_version": "1.5.0",
            "_view_count": null,
            "_view_module_version": "1.5.0",
            "box_style": "",
            "layout": "IPY_MODEL_8def28788f8f44eda5815db587ac1691",
            "_model_module": "@jupyter-widgets/controls",
            "children": [
              "IPY_MODEL_51032219d053417db3e13dd4be2f17b0",
              "IPY_MODEL_ed979531ea28442bbb5f65f660a3e8e1"
            ]
          }
        },
        "8def28788f8f44eda5815db587ac1691": {
          "model_module": "@jupyter-widgets/base",
          "model_name": "LayoutModel",
          "model_module_version": "1.2.0",
          "state": {
            "_view_name": "LayoutView",
            "grid_template_rows": null,
            "right": null,
            "justify_content": null,
            "_view_module": "@jupyter-widgets/base",
            "overflow": null,
            "_model_module_version": "1.2.0",
            "_view_count": null,
            "flex_flow": null,
            "width": null,
            "min_width": null,
            "border": null,
            "align_items": null,
            "bottom": null,
            "_model_module": "@jupyter-widgets/base",
            "top": null,
            "grid_column": null,
            "overflow_y": null,
            "overflow_x": null,
            "grid_auto_flow": null,
            "grid_area": null,
            "grid_template_columns": null,
            "flex": null,
            "_model_name": "LayoutModel",
            "justify_items": null,
            "grid_row": null,
            "max_height": null,
            "align_content": null,
            "visibility": null,
            "align_self": null,
            "height": null,
            "min_height": null,
            "padding": null,
            "grid_auto_rows": null,
            "grid_gap": null,
            "max_width": null,
            "order": null,
            "_view_module_version": "1.2.0",
            "grid_template_areas": null,
            "object_position": null,
            "object_fit": null,
            "grid_auto_columns": null,
            "margin": null,
            "display": null,
            "left": null
          }
        },
        "51032219d053417db3e13dd4be2f17b0": {
          "model_module": "@jupyter-widgets/controls",
          "model_name": "LabelModel",
          "model_module_version": "1.5.0",
          "state": {
            "_view_name": "LabelView",
            "style": "IPY_MODEL_2e2437eb1a354e758c441f752da69d89",
            "_dom_classes": [],
            "description": "",
            "_model_name": "LabelModel",
            "placeholder": "​",
            "_view_module": "@jupyter-widgets/controls",
            "_model_module_version": "1.5.0",
            "value": " 0.01MB of 0.01MB uploaded (0.00MB deduped)\r",
            "_view_count": null,
            "_view_module_version": "1.5.0",
            "description_tooltip": null,
            "_model_module": "@jupyter-widgets/controls",
            "layout": "IPY_MODEL_d419e2b6071a4e1485333907091efd18"
          }
        },
        "ed979531ea28442bbb5f65f660a3e8e1": {
          "model_module": "@jupyter-widgets/controls",
          "model_name": "FloatProgressModel",
          "model_module_version": "1.5.0",
          "state": {
            "_view_name": "ProgressView",
            "style": "IPY_MODEL_f0fdfb496aab4265a3e7b45fccb969a2",
            "_dom_classes": [],
            "description": "",
            "_model_name": "FloatProgressModel",
            "bar_style": "",
            "max": 1,
            "_view_module": "@jupyter-widgets/controls",
            "_model_module_version": "1.5.0",
            "value": 1,
            "_view_count": null,
            "_view_module_version": "1.5.0",
            "orientation": "horizontal",
            "min": 0,
            "description_tooltip": null,
            "_model_module": "@jupyter-widgets/controls",
            "layout": "IPY_MODEL_934f4c3be2d4473d91b4da26236dba6f"
          }
        },
        "2e2437eb1a354e758c441f752da69d89": {
          "model_module": "@jupyter-widgets/controls",
          "model_name": "DescriptionStyleModel",
          "model_module_version": "1.5.0",
          "state": {
            "_view_name": "StyleView",
            "_model_name": "DescriptionStyleModel",
            "description_width": "",
            "_view_module": "@jupyter-widgets/base",
            "_model_module_version": "1.5.0",
            "_view_count": null,
            "_view_module_version": "1.2.0",
            "_model_module": "@jupyter-widgets/controls"
          }
        },
        "d419e2b6071a4e1485333907091efd18": {
          "model_module": "@jupyter-widgets/base",
          "model_name": "LayoutModel",
          "model_module_version": "1.2.0",
          "state": {
            "_view_name": "LayoutView",
            "grid_template_rows": null,
            "right": null,
            "justify_content": null,
            "_view_module": "@jupyter-widgets/base",
            "overflow": null,
            "_model_module_version": "1.2.0",
            "_view_count": null,
            "flex_flow": null,
            "width": null,
            "min_width": null,
            "border": null,
            "align_items": null,
            "bottom": null,
            "_model_module": "@jupyter-widgets/base",
            "top": null,
            "grid_column": null,
            "overflow_y": null,
            "overflow_x": null,
            "grid_auto_flow": null,
            "grid_area": null,
            "grid_template_columns": null,
            "flex": null,
            "_model_name": "LayoutModel",
            "justify_items": null,
            "grid_row": null,
            "max_height": null,
            "align_content": null,
            "visibility": null,
            "align_self": null,
            "height": null,
            "min_height": null,
            "padding": null,
            "grid_auto_rows": null,
            "grid_gap": null,
            "max_width": null,
            "order": null,
            "_view_module_version": "1.2.0",
            "grid_template_areas": null,
            "object_position": null,
            "object_fit": null,
            "grid_auto_columns": null,
            "margin": null,
            "display": null,
            "left": null
          }
        },
        "f0fdfb496aab4265a3e7b45fccb969a2": {
          "model_module": "@jupyter-widgets/controls",
          "model_name": "ProgressStyleModel",
          "model_module_version": "1.5.0",
          "state": {
            "_view_name": "StyleView",
            "_model_name": "ProgressStyleModel",
            "description_width": "",
            "_view_module": "@jupyter-widgets/base",
            "_model_module_version": "1.5.0",
            "_view_count": null,
            "_view_module_version": "1.2.0",
            "bar_color": null,
            "_model_module": "@jupyter-widgets/controls"
          }
        },
        "934f4c3be2d4473d91b4da26236dba6f": {
          "model_module": "@jupyter-widgets/base",
          "model_name": "LayoutModel",
          "model_module_version": "1.2.0",
          "state": {
            "_view_name": "LayoutView",
            "grid_template_rows": null,
            "right": null,
            "justify_content": null,
            "_view_module": "@jupyter-widgets/base",
            "overflow": null,
            "_model_module_version": "1.2.0",
            "_view_count": null,
            "flex_flow": null,
            "width": null,
            "min_width": null,
            "border": null,
            "align_items": null,
            "bottom": null,
            "_model_module": "@jupyter-widgets/base",
            "top": null,
            "grid_column": null,
            "overflow_y": null,
            "overflow_x": null,
            "grid_auto_flow": null,
            "grid_area": null,
            "grid_template_columns": null,
            "flex": null,
            "_model_name": "LayoutModel",
            "justify_items": null,
            "grid_row": null,
            "max_height": null,
            "align_content": null,
            "visibility": null,
            "align_self": null,
            "height": null,
            "min_height": null,
            "padding": null,
            "grid_auto_rows": null,
            "grid_gap": null,
            "max_width": null,
            "order": null,
            "_view_module_version": "1.2.0",
            "grid_template_areas": null,
            "object_position": null,
            "object_fit": null,
            "grid_auto_columns": null,
            "margin": null,
            "display": null,
            "left": null
          }
        },
        "afab169a76aa4be5918ec092006a8bc3": {
          "model_module": "@jupyter-widgets/controls",
          "model_name": "VBoxModel",
          "model_module_version": "1.5.0",
          "state": {
            "_view_name": "VBoxView",
            "_dom_classes": [],
            "_model_name": "VBoxModel",
            "_view_module": "@jupyter-widgets/controls",
            "_model_module_version": "1.5.0",
            "_view_count": null,
            "_view_module_version": "1.5.0",
            "box_style": "",
            "layout": "IPY_MODEL_b1b975164e1f4e9982d0530b37086fab",
            "_model_module": "@jupyter-widgets/controls",
            "children": [
              "IPY_MODEL_70e3213bf9b246bcb2deded3d244088f",
              "IPY_MODEL_3ba56c0286d0494e8959280b4bc8baed"
            ]
          }
        },
        "b1b975164e1f4e9982d0530b37086fab": {
          "model_module": "@jupyter-widgets/base",
          "model_name": "LayoutModel",
          "model_module_version": "1.2.0",
          "state": {
            "_view_name": "LayoutView",
            "grid_template_rows": null,
            "right": null,
            "justify_content": null,
            "_view_module": "@jupyter-widgets/base",
            "overflow": null,
            "_model_module_version": "1.2.0",
            "_view_count": null,
            "flex_flow": null,
            "width": null,
            "min_width": null,
            "border": null,
            "align_items": null,
            "bottom": null,
            "_model_module": "@jupyter-widgets/base",
            "top": null,
            "grid_column": null,
            "overflow_y": null,
            "overflow_x": null,
            "grid_auto_flow": null,
            "grid_area": null,
            "grid_template_columns": null,
            "flex": null,
            "_model_name": "LayoutModel",
            "justify_items": null,
            "grid_row": null,
            "max_height": null,
            "align_content": null,
            "visibility": null,
            "align_self": null,
            "height": null,
            "min_height": null,
            "padding": null,
            "grid_auto_rows": null,
            "grid_gap": null,
            "max_width": null,
            "order": null,
            "_view_module_version": "1.2.0",
            "grid_template_areas": null,
            "object_position": null,
            "object_fit": null,
            "grid_auto_columns": null,
            "margin": null,
            "display": null,
            "left": null
          }
        },
        "70e3213bf9b246bcb2deded3d244088f": {
          "model_module": "@jupyter-widgets/controls",
          "model_name": "LabelModel",
          "model_module_version": "1.5.0",
          "state": {
            "_view_name": "LabelView",
            "style": "IPY_MODEL_f4943954548c40c386e51adb171d19ad",
            "_dom_classes": [],
            "description": "",
            "_model_name": "LabelModel",
            "placeholder": "​",
            "_view_module": "@jupyter-widgets/controls",
            "_model_module_version": "1.5.0",
            "value": " 0.01MB of 0.01MB uploaded (0.00MB deduped)\r",
            "_view_count": null,
            "_view_module_version": "1.5.0",
            "description_tooltip": null,
            "_model_module": "@jupyter-widgets/controls",
            "layout": "IPY_MODEL_99660ca5c9de4b87a597f3893a658d49"
          }
        },
        "3ba56c0286d0494e8959280b4bc8baed": {
          "model_module": "@jupyter-widgets/controls",
          "model_name": "FloatProgressModel",
          "model_module_version": "1.5.0",
          "state": {
            "_view_name": "ProgressView",
            "style": "IPY_MODEL_72561ad003274cee873c013eb2fdff0a",
            "_dom_classes": [],
            "description": "",
            "_model_name": "FloatProgressModel",
            "bar_style": "",
            "max": 1,
            "_view_module": "@jupyter-widgets/controls",
            "_model_module_version": "1.5.0",
            "value": 1,
            "_view_count": null,
            "_view_module_version": "1.5.0",
            "orientation": "horizontal",
            "min": 0,
            "description_tooltip": null,
            "_model_module": "@jupyter-widgets/controls",
            "layout": "IPY_MODEL_ecc85d77da444752b668c4758b5c74f1"
          }
        },
        "f4943954548c40c386e51adb171d19ad": {
          "model_module": "@jupyter-widgets/controls",
          "model_name": "DescriptionStyleModel",
          "model_module_version": "1.5.0",
          "state": {
            "_view_name": "StyleView",
            "_model_name": "DescriptionStyleModel",
            "description_width": "",
            "_view_module": "@jupyter-widgets/base",
            "_model_module_version": "1.5.0",
            "_view_count": null,
            "_view_module_version": "1.2.0",
            "_model_module": "@jupyter-widgets/controls"
          }
        },
        "99660ca5c9de4b87a597f3893a658d49": {
          "model_module": "@jupyter-widgets/base",
          "model_name": "LayoutModel",
          "model_module_version": "1.2.0",
          "state": {
            "_view_name": "LayoutView",
            "grid_template_rows": null,
            "right": null,
            "justify_content": null,
            "_view_module": "@jupyter-widgets/base",
            "overflow": null,
            "_model_module_version": "1.2.0",
            "_view_count": null,
            "flex_flow": null,
            "width": null,
            "min_width": null,
            "border": null,
            "align_items": null,
            "bottom": null,
            "_model_module": "@jupyter-widgets/base",
            "top": null,
            "grid_column": null,
            "overflow_y": null,
            "overflow_x": null,
            "grid_auto_flow": null,
            "grid_area": null,
            "grid_template_columns": null,
            "flex": null,
            "_model_name": "LayoutModel",
            "justify_items": null,
            "grid_row": null,
            "max_height": null,
            "align_content": null,
            "visibility": null,
            "align_self": null,
            "height": null,
            "min_height": null,
            "padding": null,
            "grid_auto_rows": null,
            "grid_gap": null,
            "max_width": null,
            "order": null,
            "_view_module_version": "1.2.0",
            "grid_template_areas": null,
            "object_position": null,
            "object_fit": null,
            "grid_auto_columns": null,
            "margin": null,
            "display": null,
            "left": null
          }
        },
        "72561ad003274cee873c013eb2fdff0a": {
          "model_module": "@jupyter-widgets/controls",
          "model_name": "ProgressStyleModel",
          "model_module_version": "1.5.0",
          "state": {
            "_view_name": "StyleView",
            "_model_name": "ProgressStyleModel",
            "description_width": "",
            "_view_module": "@jupyter-widgets/base",
            "_model_module_version": "1.5.0",
            "_view_count": null,
            "_view_module_version": "1.2.0",
            "bar_color": null,
            "_model_module": "@jupyter-widgets/controls"
          }
        },
        "ecc85d77da444752b668c4758b5c74f1": {
          "model_module": "@jupyter-widgets/base",
          "model_name": "LayoutModel",
          "model_module_version": "1.2.0",
          "state": {
            "_view_name": "LayoutView",
            "grid_template_rows": null,
            "right": null,
            "justify_content": null,
            "_view_module": "@jupyter-widgets/base",
            "overflow": null,
            "_model_module_version": "1.2.0",
            "_view_count": null,
            "flex_flow": null,
            "width": null,
            "min_width": null,
            "border": null,
            "align_items": null,
            "bottom": null,
            "_model_module": "@jupyter-widgets/base",
            "top": null,
            "grid_column": null,
            "overflow_y": null,
            "overflow_x": null,
            "grid_auto_flow": null,
            "grid_area": null,
            "grid_template_columns": null,
            "flex": null,
            "_model_name": "LayoutModel",
            "justify_items": null,
            "grid_row": null,
            "max_height": null,
            "align_content": null,
            "visibility": null,
            "align_self": null,
            "height": null,
            "min_height": null,
            "padding": null,
            "grid_auto_rows": null,
            "grid_gap": null,
            "max_width": null,
            "order": null,
            "_view_module_version": "1.2.0",
            "grid_template_areas": null,
            "object_position": null,
            "object_fit": null,
            "grid_auto_columns": null,
            "margin": null,
            "display": null,
            "left": null
          }
        },
        "9767b64c98c34e5c8199a31ddcb435df": {
          "model_module": "@jupyter-widgets/controls",
          "model_name": "VBoxModel",
          "model_module_version": "1.5.0",
          "state": {
            "_view_name": "VBoxView",
            "_dom_classes": [],
            "_model_name": "VBoxModel",
            "_view_module": "@jupyter-widgets/controls",
            "_model_module_version": "1.5.0",
            "_view_count": null,
            "_view_module_version": "1.5.0",
            "box_style": "",
            "layout": "IPY_MODEL_a6aae7d0504647a3b26fe59d37e5b079",
            "_model_module": "@jupyter-widgets/controls",
            "children": [
              "IPY_MODEL_212ebeb297664dc8ac7eeb43fc4ec957",
              "IPY_MODEL_98f690842422412da1520eb6ae7951c8"
            ]
          }
        },
        "a6aae7d0504647a3b26fe59d37e5b079": {
          "model_module": "@jupyter-widgets/base",
          "model_name": "LayoutModel",
          "model_module_version": "1.2.0",
          "state": {
            "_view_name": "LayoutView",
            "grid_template_rows": null,
            "right": null,
            "justify_content": null,
            "_view_module": "@jupyter-widgets/base",
            "overflow": null,
            "_model_module_version": "1.2.0",
            "_view_count": null,
            "flex_flow": null,
            "width": null,
            "min_width": null,
            "border": null,
            "align_items": null,
            "bottom": null,
            "_model_module": "@jupyter-widgets/base",
            "top": null,
            "grid_column": null,
            "overflow_y": null,
            "overflow_x": null,
            "grid_auto_flow": null,
            "grid_area": null,
            "grid_template_columns": null,
            "flex": null,
            "_model_name": "LayoutModel",
            "justify_items": null,
            "grid_row": null,
            "max_height": null,
            "align_content": null,
            "visibility": null,
            "align_self": null,
            "height": null,
            "min_height": null,
            "padding": null,
            "grid_auto_rows": null,
            "grid_gap": null,
            "max_width": null,
            "order": null,
            "_view_module_version": "1.2.0",
            "grid_template_areas": null,
            "object_position": null,
            "object_fit": null,
            "grid_auto_columns": null,
            "margin": null,
            "display": null,
            "left": null
          }
        },
        "212ebeb297664dc8ac7eeb43fc4ec957": {
          "model_module": "@jupyter-widgets/controls",
          "model_name": "LabelModel",
          "model_module_version": "1.5.0",
          "state": {
            "_view_name": "LabelView",
            "style": "IPY_MODEL_4f919bc723794a6bad2cdd6e192ed064",
            "_dom_classes": [],
            "description": "",
            "_model_name": "LabelModel",
            "placeholder": "​",
            "_view_module": "@jupyter-widgets/controls",
            "_model_module_version": "1.5.0",
            "value": " 0.01MB of 0.01MB uploaded (0.00MB deduped)\r",
            "_view_count": null,
            "_view_module_version": "1.5.0",
            "description_tooltip": null,
            "_model_module": "@jupyter-widgets/controls",
            "layout": "IPY_MODEL_37df64a79ab443248d612dd57f2a8db7"
          }
        },
        "98f690842422412da1520eb6ae7951c8": {
          "model_module": "@jupyter-widgets/controls",
          "model_name": "FloatProgressModel",
          "model_module_version": "1.5.0",
          "state": {
            "_view_name": "ProgressView",
            "style": "IPY_MODEL_d49e9174241e43909f3f6ec3e7ff2a4e",
            "_dom_classes": [],
            "description": "",
            "_model_name": "FloatProgressModel",
            "bar_style": "",
            "max": 1,
            "_view_module": "@jupyter-widgets/controls",
            "_model_module_version": "1.5.0",
            "value": 1,
            "_view_count": null,
            "_view_module_version": "1.5.0",
            "orientation": "horizontal",
            "min": 0,
            "description_tooltip": null,
            "_model_module": "@jupyter-widgets/controls",
            "layout": "IPY_MODEL_8f016045d81f42cf918a3f0bb3eaadf1"
          }
        },
        "4f919bc723794a6bad2cdd6e192ed064": {
          "model_module": "@jupyter-widgets/controls",
          "model_name": "DescriptionStyleModel",
          "model_module_version": "1.5.0",
          "state": {
            "_view_name": "StyleView",
            "_model_name": "DescriptionStyleModel",
            "description_width": "",
            "_view_module": "@jupyter-widgets/base",
            "_model_module_version": "1.5.0",
            "_view_count": null,
            "_view_module_version": "1.2.0",
            "_model_module": "@jupyter-widgets/controls"
          }
        },
        "37df64a79ab443248d612dd57f2a8db7": {
          "model_module": "@jupyter-widgets/base",
          "model_name": "LayoutModel",
          "model_module_version": "1.2.0",
          "state": {
            "_view_name": "LayoutView",
            "grid_template_rows": null,
            "right": null,
            "justify_content": null,
            "_view_module": "@jupyter-widgets/base",
            "overflow": null,
            "_model_module_version": "1.2.0",
            "_view_count": null,
            "flex_flow": null,
            "width": null,
            "min_width": null,
            "border": null,
            "align_items": null,
            "bottom": null,
            "_model_module": "@jupyter-widgets/base",
            "top": null,
            "grid_column": null,
            "overflow_y": null,
            "overflow_x": null,
            "grid_auto_flow": null,
            "grid_area": null,
            "grid_template_columns": null,
            "flex": null,
            "_model_name": "LayoutModel",
            "justify_items": null,
            "grid_row": null,
            "max_height": null,
            "align_content": null,
            "visibility": null,
            "align_self": null,
            "height": null,
            "min_height": null,
            "padding": null,
            "grid_auto_rows": null,
            "grid_gap": null,
            "max_width": null,
            "order": null,
            "_view_module_version": "1.2.0",
            "grid_template_areas": null,
            "object_position": null,
            "object_fit": null,
            "grid_auto_columns": null,
            "margin": null,
            "display": null,
            "left": null
          }
        },
        "d49e9174241e43909f3f6ec3e7ff2a4e": {
          "model_module": "@jupyter-widgets/controls",
          "model_name": "ProgressStyleModel",
          "model_module_version": "1.5.0",
          "state": {
            "_view_name": "StyleView",
            "_model_name": "ProgressStyleModel",
            "description_width": "",
            "_view_module": "@jupyter-widgets/base",
            "_model_module_version": "1.5.0",
            "_view_count": null,
            "_view_module_version": "1.2.0",
            "bar_color": null,
            "_model_module": "@jupyter-widgets/controls"
          }
        },
        "8f016045d81f42cf918a3f0bb3eaadf1": {
          "model_module": "@jupyter-widgets/base",
          "model_name": "LayoutModel",
          "model_module_version": "1.2.0",
          "state": {
            "_view_name": "LayoutView",
            "grid_template_rows": null,
            "right": null,
            "justify_content": null,
            "_view_module": "@jupyter-widgets/base",
            "overflow": null,
            "_model_module_version": "1.2.0",
            "_view_count": null,
            "flex_flow": null,
            "width": null,
            "min_width": null,
            "border": null,
            "align_items": null,
            "bottom": null,
            "_model_module": "@jupyter-widgets/base",
            "top": null,
            "grid_column": null,
            "overflow_y": null,
            "overflow_x": null,
            "grid_auto_flow": null,
            "grid_area": null,
            "grid_template_columns": null,
            "flex": null,
            "_model_name": "LayoutModel",
            "justify_items": null,
            "grid_row": null,
            "max_height": null,
            "align_content": null,
            "visibility": null,
            "align_self": null,
            "height": null,
            "min_height": null,
            "padding": null,
            "grid_auto_rows": null,
            "grid_gap": null,
            "max_width": null,
            "order": null,
            "_view_module_version": "1.2.0",
            "grid_template_areas": null,
            "object_position": null,
            "object_fit": null,
            "grid_auto_columns": null,
            "margin": null,
            "display": null,
            "left": null
          }
        },
        "11452bd87da6441b88b3bb6b6d23e84d": {
          "model_module": "@jupyter-widgets/controls",
          "model_name": "VBoxModel",
          "model_module_version": "1.5.0",
          "state": {
            "_view_name": "VBoxView",
            "_dom_classes": [],
            "_model_name": "VBoxModel",
            "_view_module": "@jupyter-widgets/controls",
            "_model_module_version": "1.5.0",
            "_view_count": null,
            "_view_module_version": "1.5.0",
            "box_style": "",
            "layout": "IPY_MODEL_cf9a036a23a1411cab40f8f160aca384",
            "_model_module": "@jupyter-widgets/controls",
            "children": [
              "IPY_MODEL_243554b2e52c468da97e15d0cc4ee7e1",
              "IPY_MODEL_3693e410d3904d6185822a0ee06930f9"
            ]
          }
        },
        "cf9a036a23a1411cab40f8f160aca384": {
          "model_module": "@jupyter-widgets/base",
          "model_name": "LayoutModel",
          "model_module_version": "1.2.0",
          "state": {
            "_view_name": "LayoutView",
            "grid_template_rows": null,
            "right": null,
            "justify_content": null,
            "_view_module": "@jupyter-widgets/base",
            "overflow": null,
            "_model_module_version": "1.2.0",
            "_view_count": null,
            "flex_flow": null,
            "width": null,
            "min_width": null,
            "border": null,
            "align_items": null,
            "bottom": null,
            "_model_module": "@jupyter-widgets/base",
            "top": null,
            "grid_column": null,
            "overflow_y": null,
            "overflow_x": null,
            "grid_auto_flow": null,
            "grid_area": null,
            "grid_template_columns": null,
            "flex": null,
            "_model_name": "LayoutModel",
            "justify_items": null,
            "grid_row": null,
            "max_height": null,
            "align_content": null,
            "visibility": null,
            "align_self": null,
            "height": null,
            "min_height": null,
            "padding": null,
            "grid_auto_rows": null,
            "grid_gap": null,
            "max_width": null,
            "order": null,
            "_view_module_version": "1.2.0",
            "grid_template_areas": null,
            "object_position": null,
            "object_fit": null,
            "grid_auto_columns": null,
            "margin": null,
            "display": null,
            "left": null
          }
        },
        "243554b2e52c468da97e15d0cc4ee7e1": {
          "model_module": "@jupyter-widgets/controls",
          "model_name": "LabelModel",
          "model_module_version": "1.5.0",
          "state": {
            "_view_name": "LabelView",
            "style": "IPY_MODEL_fed81a8c73914868b685017a567f8b8e",
            "_dom_classes": [],
            "description": "",
            "_model_name": "LabelModel",
            "placeholder": "​",
            "_view_module": "@jupyter-widgets/controls",
            "_model_module_version": "1.5.0",
            "value": " 0.01MB of 0.01MB uploaded (0.00MB deduped)\r",
            "_view_count": null,
            "_view_module_version": "1.5.0",
            "description_tooltip": null,
            "_model_module": "@jupyter-widgets/controls",
            "layout": "IPY_MODEL_150f4a1c7dd74a27bf203203265459f1"
          }
        },
        "3693e410d3904d6185822a0ee06930f9": {
          "model_module": "@jupyter-widgets/controls",
          "model_name": "FloatProgressModel",
          "model_module_version": "1.5.0",
          "state": {
            "_view_name": "ProgressView",
            "style": "IPY_MODEL_c21ea9e8a06e47c0933356ecffdefcfc",
            "_dom_classes": [],
            "description": "",
            "_model_name": "FloatProgressModel",
            "bar_style": "",
            "max": 1,
            "_view_module": "@jupyter-widgets/controls",
            "_model_module_version": "1.5.0",
            "value": 1,
            "_view_count": null,
            "_view_module_version": "1.5.0",
            "orientation": "horizontal",
            "min": 0,
            "description_tooltip": null,
            "_model_module": "@jupyter-widgets/controls",
            "layout": "IPY_MODEL_4b2fd7943e29460d8514ddab90e78d93"
          }
        },
        "fed81a8c73914868b685017a567f8b8e": {
          "model_module": "@jupyter-widgets/controls",
          "model_name": "DescriptionStyleModel",
          "model_module_version": "1.5.0",
          "state": {
            "_view_name": "StyleView",
            "_model_name": "DescriptionStyleModel",
            "description_width": "",
            "_view_module": "@jupyter-widgets/base",
            "_model_module_version": "1.5.0",
            "_view_count": null,
            "_view_module_version": "1.2.0",
            "_model_module": "@jupyter-widgets/controls"
          }
        },
        "150f4a1c7dd74a27bf203203265459f1": {
          "model_module": "@jupyter-widgets/base",
          "model_name": "LayoutModel",
          "model_module_version": "1.2.0",
          "state": {
            "_view_name": "LayoutView",
            "grid_template_rows": null,
            "right": null,
            "justify_content": null,
            "_view_module": "@jupyter-widgets/base",
            "overflow": null,
            "_model_module_version": "1.2.0",
            "_view_count": null,
            "flex_flow": null,
            "width": null,
            "min_width": null,
            "border": null,
            "align_items": null,
            "bottom": null,
            "_model_module": "@jupyter-widgets/base",
            "top": null,
            "grid_column": null,
            "overflow_y": null,
            "overflow_x": null,
            "grid_auto_flow": null,
            "grid_area": null,
            "grid_template_columns": null,
            "flex": null,
            "_model_name": "LayoutModel",
            "justify_items": null,
            "grid_row": null,
            "max_height": null,
            "align_content": null,
            "visibility": null,
            "align_self": null,
            "height": null,
            "min_height": null,
            "padding": null,
            "grid_auto_rows": null,
            "grid_gap": null,
            "max_width": null,
            "order": null,
            "_view_module_version": "1.2.0",
            "grid_template_areas": null,
            "object_position": null,
            "object_fit": null,
            "grid_auto_columns": null,
            "margin": null,
            "display": null,
            "left": null
          }
        },
        "c21ea9e8a06e47c0933356ecffdefcfc": {
          "model_module": "@jupyter-widgets/controls",
          "model_name": "ProgressStyleModel",
          "model_module_version": "1.5.0",
          "state": {
            "_view_name": "StyleView",
            "_model_name": "ProgressStyleModel",
            "description_width": "",
            "_view_module": "@jupyter-widgets/base",
            "_model_module_version": "1.5.0",
            "_view_count": null,
            "_view_module_version": "1.2.0",
            "bar_color": null,
            "_model_module": "@jupyter-widgets/controls"
          }
        },
        "4b2fd7943e29460d8514ddab90e78d93": {
          "model_module": "@jupyter-widgets/base",
          "model_name": "LayoutModel",
          "model_module_version": "1.2.0",
          "state": {
            "_view_name": "LayoutView",
            "grid_template_rows": null,
            "right": null,
            "justify_content": null,
            "_view_module": "@jupyter-widgets/base",
            "overflow": null,
            "_model_module_version": "1.2.0",
            "_view_count": null,
            "flex_flow": null,
            "width": null,
            "min_width": null,
            "border": null,
            "align_items": null,
            "bottom": null,
            "_model_module": "@jupyter-widgets/base",
            "top": null,
            "grid_column": null,
            "overflow_y": null,
            "overflow_x": null,
            "grid_auto_flow": null,
            "grid_area": null,
            "grid_template_columns": null,
            "flex": null,
            "_model_name": "LayoutModel",
            "justify_items": null,
            "grid_row": null,
            "max_height": null,
            "align_content": null,
            "visibility": null,
            "align_self": null,
            "height": null,
            "min_height": null,
            "padding": null,
            "grid_auto_rows": null,
            "grid_gap": null,
            "max_width": null,
            "order": null,
            "_view_module_version": "1.2.0",
            "grid_template_areas": null,
            "object_position": null,
            "object_fit": null,
            "grid_auto_columns": null,
            "margin": null,
            "display": null,
            "left": null
          }
        }
      }
    }
  },
  "nbformat": 4,
  "nbformat_minor": 0
}